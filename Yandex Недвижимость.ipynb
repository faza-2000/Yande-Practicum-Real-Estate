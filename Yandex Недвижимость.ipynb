{
 "cells": [
  {
   "cell_type": "markdown",
   "metadata": {},
   "source": [
    "# Исследование объявлений о продаже квартир\n",
    "\n",
    "В вашем распоряжении данные сервиса Яндекс.Недвижимость — архив объявлений о продаже квартир в Санкт-Петербурге и соседних населённых пунктов за несколько лет. Нужно научиться определять рыночную стоимость объектов недвижимости. Ваша задача — установить параметры. Это позволит построить автоматизированную систему: она отследит аномалии и мошенническую деятельность. \n",
    "\n",
    "По каждой квартире на продажу доступны два вида данных. Первые вписаны пользователем, вторые — получены автоматически на основе картографических данных. Например, расстояние до центра, аэропорта, ближайшего парка и водоёма. "
   ]
  },
  {
   "cell_type": "markdown",
   "metadata": {},
   "source": [
    "### Откройте файл с данными и изучите общую информацию. "
   ]
  },
  {
   "cell_type": "code",
   "execution_count": 1,
   "metadata": {},
   "outputs": [],
   "source": [
    "import pandas as pd\n",
    "import numpy as np\n",
    "%matplotlib inline\n",
    "import matplotlib.pyplot as plt"
   ]
  },
  {
   "cell_type": "code",
   "execution_count": 2,
   "metadata": {},
   "outputs": [
    {
     "name": "stdout",
     "output_type": "stream",
     "text": [
      "<class 'pandas.core.frame.DataFrame'>\n",
      "RangeIndex: 23699 entries, 0 to 23698\n",
      "Data columns (total 22 columns):\n",
      " #   Column                Non-Null Count  Dtype  \n",
      "---  ------                --------------  -----  \n",
      " 0   total_images          23699 non-null  int64  \n",
      " 1   last_price            23699 non-null  float64\n",
      " 2   total_area            23699 non-null  float64\n",
      " 3   first_day_exposition  23699 non-null  object \n",
      " 4   rooms                 23699 non-null  int64  \n",
      " 5   ceiling_height        14504 non-null  float64\n",
      " 6   floors_total          23613 non-null  float64\n",
      " 7   living_area           21796 non-null  float64\n",
      " 8   floor                 23699 non-null  int64  \n",
      " 9   is_apartment          2775 non-null   object \n",
      " 10  studio                23699 non-null  bool   \n",
      " 11  open_plan             23699 non-null  bool   \n",
      " 12  kitchen_area          21421 non-null  float64\n",
      " 13  balcony               12180 non-null  float64\n",
      " 14  locality_name         23650 non-null  object \n",
      " 15  airports_nearest      18157 non-null  float64\n",
      " 16  cityCenters_nearest   18180 non-null  float64\n",
      " 17  parks_around3000      18181 non-null  float64\n",
      " 18  parks_nearest         8079 non-null   float64\n",
      " 19  ponds_around3000      18181 non-null  float64\n",
      " 20  ponds_nearest         9110 non-null   float64\n",
      " 21  days_exposition       20518 non-null  float64\n",
      "dtypes: bool(2), float64(14), int64(3), object(3)\n",
      "memory usage: 3.7+ MB\n"
     ]
    }
   ],
   "source": [
    "data = pd.read_csv('/datasets/real_estate_data.csv', sep = '\\t')\n",
    "# выведем общую информацию\n",
    "data.info() # 23699 строк, 22 столбца"
   ]
  },
  {
   "cell_type": "code",
   "execution_count": 3,
   "metadata": {},
   "outputs": [
    {
     "data": {
      "text/html": [
       "<div>\n",
       "<style scoped>\n",
       "    .dataframe tbody tr th:only-of-type {\n",
       "        vertical-align: middle;\n",
       "    }\n",
       "\n",
       "    .dataframe tbody tr th {\n",
       "        vertical-align: top;\n",
       "    }\n",
       "\n",
       "    .dataframe thead th {\n",
       "        text-align: right;\n",
       "    }\n",
       "</style>\n",
       "<table border=\"1\" class=\"dataframe\">\n",
       "  <thead>\n",
       "    <tr style=\"text-align: right;\">\n",
       "      <th></th>\n",
       "      <th>total_images</th>\n",
       "      <th>last_price</th>\n",
       "      <th>total_area</th>\n",
       "      <th>first_day_exposition</th>\n",
       "      <th>rooms</th>\n",
       "      <th>ceiling_height</th>\n",
       "      <th>floors_total</th>\n",
       "      <th>living_area</th>\n",
       "      <th>floor</th>\n",
       "      <th>is_apartment</th>\n",
       "      <th>...</th>\n",
       "      <th>kitchen_area</th>\n",
       "      <th>balcony</th>\n",
       "      <th>locality_name</th>\n",
       "      <th>airports_nearest</th>\n",
       "      <th>cityCenters_nearest</th>\n",
       "      <th>parks_around3000</th>\n",
       "      <th>parks_nearest</th>\n",
       "      <th>ponds_around3000</th>\n",
       "      <th>ponds_nearest</th>\n",
       "      <th>days_exposition</th>\n",
       "    </tr>\n",
       "  </thead>\n",
       "  <tbody>\n",
       "    <tr>\n",
       "      <th>0</th>\n",
       "      <td>20</td>\n",
       "      <td>13000000.0</td>\n",
       "      <td>108.00</td>\n",
       "      <td>2019-03-07T00:00:00</td>\n",
       "      <td>3</td>\n",
       "      <td>2.70</td>\n",
       "      <td>16.0</td>\n",
       "      <td>51.00</td>\n",
       "      <td>8</td>\n",
       "      <td>NaN</td>\n",
       "      <td>...</td>\n",
       "      <td>25.00</td>\n",
       "      <td>NaN</td>\n",
       "      <td>Санкт-Петербург</td>\n",
       "      <td>18863.0</td>\n",
       "      <td>16028.0</td>\n",
       "      <td>1.0</td>\n",
       "      <td>482.0</td>\n",
       "      <td>2.0</td>\n",
       "      <td>755.0</td>\n",
       "      <td>NaN</td>\n",
       "    </tr>\n",
       "    <tr>\n",
       "      <th>1</th>\n",
       "      <td>7</td>\n",
       "      <td>3350000.0</td>\n",
       "      <td>40.40</td>\n",
       "      <td>2018-12-04T00:00:00</td>\n",
       "      <td>1</td>\n",
       "      <td>NaN</td>\n",
       "      <td>11.0</td>\n",
       "      <td>18.60</td>\n",
       "      <td>1</td>\n",
       "      <td>NaN</td>\n",
       "      <td>...</td>\n",
       "      <td>11.00</td>\n",
       "      <td>2.0</td>\n",
       "      <td>посёлок Шушары</td>\n",
       "      <td>12817.0</td>\n",
       "      <td>18603.0</td>\n",
       "      <td>0.0</td>\n",
       "      <td>NaN</td>\n",
       "      <td>0.0</td>\n",
       "      <td>NaN</td>\n",
       "      <td>81.0</td>\n",
       "    </tr>\n",
       "    <tr>\n",
       "      <th>2</th>\n",
       "      <td>10</td>\n",
       "      <td>5196000.0</td>\n",
       "      <td>56.00</td>\n",
       "      <td>2015-08-20T00:00:00</td>\n",
       "      <td>2</td>\n",
       "      <td>NaN</td>\n",
       "      <td>5.0</td>\n",
       "      <td>34.30</td>\n",
       "      <td>4</td>\n",
       "      <td>NaN</td>\n",
       "      <td>...</td>\n",
       "      <td>8.30</td>\n",
       "      <td>0.0</td>\n",
       "      <td>Санкт-Петербург</td>\n",
       "      <td>21741.0</td>\n",
       "      <td>13933.0</td>\n",
       "      <td>1.0</td>\n",
       "      <td>90.0</td>\n",
       "      <td>2.0</td>\n",
       "      <td>574.0</td>\n",
       "      <td>558.0</td>\n",
       "    </tr>\n",
       "    <tr>\n",
       "      <th>3</th>\n",
       "      <td>0</td>\n",
       "      <td>64900000.0</td>\n",
       "      <td>159.00</td>\n",
       "      <td>2015-07-24T00:00:00</td>\n",
       "      <td>3</td>\n",
       "      <td>NaN</td>\n",
       "      <td>14.0</td>\n",
       "      <td>NaN</td>\n",
       "      <td>9</td>\n",
       "      <td>NaN</td>\n",
       "      <td>...</td>\n",
       "      <td>NaN</td>\n",
       "      <td>0.0</td>\n",
       "      <td>Санкт-Петербург</td>\n",
       "      <td>28098.0</td>\n",
       "      <td>6800.0</td>\n",
       "      <td>2.0</td>\n",
       "      <td>84.0</td>\n",
       "      <td>3.0</td>\n",
       "      <td>234.0</td>\n",
       "      <td>424.0</td>\n",
       "    </tr>\n",
       "    <tr>\n",
       "      <th>4</th>\n",
       "      <td>2</td>\n",
       "      <td>10000000.0</td>\n",
       "      <td>100.00</td>\n",
       "      <td>2018-06-19T00:00:00</td>\n",
       "      <td>2</td>\n",
       "      <td>3.03</td>\n",
       "      <td>14.0</td>\n",
       "      <td>32.00</td>\n",
       "      <td>13</td>\n",
       "      <td>NaN</td>\n",
       "      <td>...</td>\n",
       "      <td>41.00</td>\n",
       "      <td>NaN</td>\n",
       "      <td>Санкт-Петербург</td>\n",
       "      <td>31856.0</td>\n",
       "      <td>8098.0</td>\n",
       "      <td>2.0</td>\n",
       "      <td>112.0</td>\n",
       "      <td>1.0</td>\n",
       "      <td>48.0</td>\n",
       "      <td>121.0</td>\n",
       "    </tr>\n",
       "    <tr>\n",
       "      <th>5</th>\n",
       "      <td>10</td>\n",
       "      <td>2890000.0</td>\n",
       "      <td>30.40</td>\n",
       "      <td>2018-09-10T00:00:00</td>\n",
       "      <td>1</td>\n",
       "      <td>NaN</td>\n",
       "      <td>12.0</td>\n",
       "      <td>14.40</td>\n",
       "      <td>5</td>\n",
       "      <td>NaN</td>\n",
       "      <td>...</td>\n",
       "      <td>9.10</td>\n",
       "      <td>NaN</td>\n",
       "      <td>городской посёлок Янино-1</td>\n",
       "      <td>NaN</td>\n",
       "      <td>NaN</td>\n",
       "      <td>NaN</td>\n",
       "      <td>NaN</td>\n",
       "      <td>NaN</td>\n",
       "      <td>NaN</td>\n",
       "      <td>55.0</td>\n",
       "    </tr>\n",
       "    <tr>\n",
       "      <th>6</th>\n",
       "      <td>6</td>\n",
       "      <td>3700000.0</td>\n",
       "      <td>37.30</td>\n",
       "      <td>2017-11-02T00:00:00</td>\n",
       "      <td>1</td>\n",
       "      <td>NaN</td>\n",
       "      <td>26.0</td>\n",
       "      <td>10.60</td>\n",
       "      <td>6</td>\n",
       "      <td>NaN</td>\n",
       "      <td>...</td>\n",
       "      <td>14.40</td>\n",
       "      <td>1.0</td>\n",
       "      <td>посёлок Парголово</td>\n",
       "      <td>52996.0</td>\n",
       "      <td>19143.0</td>\n",
       "      <td>0.0</td>\n",
       "      <td>NaN</td>\n",
       "      <td>0.0</td>\n",
       "      <td>NaN</td>\n",
       "      <td>155.0</td>\n",
       "    </tr>\n",
       "    <tr>\n",
       "      <th>7</th>\n",
       "      <td>5</td>\n",
       "      <td>7915000.0</td>\n",
       "      <td>71.60</td>\n",
       "      <td>2019-04-18T00:00:00</td>\n",
       "      <td>2</td>\n",
       "      <td>NaN</td>\n",
       "      <td>24.0</td>\n",
       "      <td>NaN</td>\n",
       "      <td>22</td>\n",
       "      <td>NaN</td>\n",
       "      <td>...</td>\n",
       "      <td>18.90</td>\n",
       "      <td>2.0</td>\n",
       "      <td>Санкт-Петербург</td>\n",
       "      <td>23982.0</td>\n",
       "      <td>11634.0</td>\n",
       "      <td>0.0</td>\n",
       "      <td>NaN</td>\n",
       "      <td>0.0</td>\n",
       "      <td>NaN</td>\n",
       "      <td>NaN</td>\n",
       "    </tr>\n",
       "    <tr>\n",
       "      <th>8</th>\n",
       "      <td>20</td>\n",
       "      <td>2900000.0</td>\n",
       "      <td>33.16</td>\n",
       "      <td>2018-05-23T00:00:00</td>\n",
       "      <td>1</td>\n",
       "      <td>NaN</td>\n",
       "      <td>27.0</td>\n",
       "      <td>15.43</td>\n",
       "      <td>26</td>\n",
       "      <td>NaN</td>\n",
       "      <td>...</td>\n",
       "      <td>8.81</td>\n",
       "      <td>NaN</td>\n",
       "      <td>посёлок Мурино</td>\n",
       "      <td>NaN</td>\n",
       "      <td>NaN</td>\n",
       "      <td>NaN</td>\n",
       "      <td>NaN</td>\n",
       "      <td>NaN</td>\n",
       "      <td>NaN</td>\n",
       "      <td>189.0</td>\n",
       "    </tr>\n",
       "    <tr>\n",
       "      <th>9</th>\n",
       "      <td>18</td>\n",
       "      <td>5400000.0</td>\n",
       "      <td>61.00</td>\n",
       "      <td>2017-02-26T00:00:00</td>\n",
       "      <td>3</td>\n",
       "      <td>2.50</td>\n",
       "      <td>9.0</td>\n",
       "      <td>43.60</td>\n",
       "      <td>7</td>\n",
       "      <td>NaN</td>\n",
       "      <td>...</td>\n",
       "      <td>6.50</td>\n",
       "      <td>2.0</td>\n",
       "      <td>Санкт-Петербург</td>\n",
       "      <td>50898.0</td>\n",
       "      <td>15008.0</td>\n",
       "      <td>0.0</td>\n",
       "      <td>NaN</td>\n",
       "      <td>0.0</td>\n",
       "      <td>NaN</td>\n",
       "      <td>289.0</td>\n",
       "    </tr>\n",
       "  </tbody>\n",
       "</table>\n",
       "<p>10 rows × 22 columns</p>\n",
       "</div>"
      ],
      "text/plain": [
       "   total_images  last_price  total_area first_day_exposition  rooms  \\\n",
       "0            20  13000000.0      108.00  2019-03-07T00:00:00      3   \n",
       "1             7   3350000.0       40.40  2018-12-04T00:00:00      1   \n",
       "2            10   5196000.0       56.00  2015-08-20T00:00:00      2   \n",
       "3             0  64900000.0      159.00  2015-07-24T00:00:00      3   \n",
       "4             2  10000000.0      100.00  2018-06-19T00:00:00      2   \n",
       "5            10   2890000.0       30.40  2018-09-10T00:00:00      1   \n",
       "6             6   3700000.0       37.30  2017-11-02T00:00:00      1   \n",
       "7             5   7915000.0       71.60  2019-04-18T00:00:00      2   \n",
       "8            20   2900000.0       33.16  2018-05-23T00:00:00      1   \n",
       "9            18   5400000.0       61.00  2017-02-26T00:00:00      3   \n",
       "\n",
       "   ceiling_height  floors_total  living_area  floor is_apartment  ...  \\\n",
       "0            2.70          16.0        51.00      8          NaN  ...   \n",
       "1             NaN          11.0        18.60      1          NaN  ...   \n",
       "2             NaN           5.0        34.30      4          NaN  ...   \n",
       "3             NaN          14.0          NaN      9          NaN  ...   \n",
       "4            3.03          14.0        32.00     13          NaN  ...   \n",
       "5             NaN          12.0        14.40      5          NaN  ...   \n",
       "6             NaN          26.0        10.60      6          NaN  ...   \n",
       "7             NaN          24.0          NaN     22          NaN  ...   \n",
       "8             NaN          27.0        15.43     26          NaN  ...   \n",
       "9            2.50           9.0        43.60      7          NaN  ...   \n",
       "\n",
       "   kitchen_area  balcony              locality_name  airports_nearest  \\\n",
       "0         25.00      NaN            Санкт-Петербург           18863.0   \n",
       "1         11.00      2.0             посёлок Шушары           12817.0   \n",
       "2          8.30      0.0            Санкт-Петербург           21741.0   \n",
       "3           NaN      0.0            Санкт-Петербург           28098.0   \n",
       "4         41.00      NaN            Санкт-Петербург           31856.0   \n",
       "5          9.10      NaN  городской посёлок Янино-1               NaN   \n",
       "6         14.40      1.0          посёлок Парголово           52996.0   \n",
       "7         18.90      2.0            Санкт-Петербург           23982.0   \n",
       "8          8.81      NaN             посёлок Мурино               NaN   \n",
       "9          6.50      2.0            Санкт-Петербург           50898.0   \n",
       "\n",
       "  cityCenters_nearest  parks_around3000  parks_nearest  ponds_around3000  \\\n",
       "0             16028.0               1.0          482.0               2.0   \n",
       "1             18603.0               0.0            NaN               0.0   \n",
       "2             13933.0               1.0           90.0               2.0   \n",
       "3              6800.0               2.0           84.0               3.0   \n",
       "4              8098.0               2.0          112.0               1.0   \n",
       "5                 NaN               NaN            NaN               NaN   \n",
       "6             19143.0               0.0            NaN               0.0   \n",
       "7             11634.0               0.0            NaN               0.0   \n",
       "8                 NaN               NaN            NaN               NaN   \n",
       "9             15008.0               0.0            NaN               0.0   \n",
       "\n",
       "   ponds_nearest  days_exposition  \n",
       "0          755.0              NaN  \n",
       "1            NaN             81.0  \n",
       "2          574.0            558.0  \n",
       "3          234.0            424.0  \n",
       "4           48.0            121.0  \n",
       "5            NaN             55.0  \n",
       "6            NaN            155.0  \n",
       "7            NaN              NaN  \n",
       "8            NaN            189.0  \n",
       "9            NaN            289.0  \n",
       "\n",
       "[10 rows x 22 columns]"
      ]
     },
     "execution_count": 3,
     "metadata": {},
     "output_type": "execute_result"
    }
   ],
   "source": [
    "# Выведем первые 10 строк\n",
    "data.head(10)# int-float-float-int- locality_name - string"
   ]
  },
  {
   "cell_type": "code",
   "execution_count": 4,
   "metadata": {},
   "outputs": [
    {
     "data": {
      "text/html": [
       "<div>\n",
       "<style scoped>\n",
       "    .dataframe tbody tr th:only-of-type {\n",
       "        vertical-align: middle;\n",
       "    }\n",
       "\n",
       "    .dataframe tbody tr th {\n",
       "        vertical-align: top;\n",
       "    }\n",
       "\n",
       "    .dataframe thead th {\n",
       "        text-align: right;\n",
       "    }\n",
       "</style>\n",
       "<table border=\"1\" class=\"dataframe\">\n",
       "  <thead>\n",
       "    <tr style=\"text-align: right;\">\n",
       "      <th></th>\n",
       "      <th>total_images</th>\n",
       "      <th>last_price</th>\n",
       "      <th>total_area</th>\n",
       "      <th>first_day_exposition</th>\n",
       "      <th>rooms</th>\n",
       "      <th>ceiling_height</th>\n",
       "      <th>floors_total</th>\n",
       "      <th>living_area</th>\n",
       "      <th>floor</th>\n",
       "      <th>is_apartment</th>\n",
       "      <th>...</th>\n",
       "      <th>kitchen_area</th>\n",
       "      <th>balcony</th>\n",
       "      <th>locality_name</th>\n",
       "      <th>airports_nearest</th>\n",
       "      <th>cityCenters_nearest</th>\n",
       "      <th>parks_around3000</th>\n",
       "      <th>parks_nearest</th>\n",
       "      <th>ponds_around3000</th>\n",
       "      <th>ponds_nearest</th>\n",
       "      <th>days_exposition</th>\n",
       "    </tr>\n",
       "  </thead>\n",
       "  <tbody>\n",
       "    <tr>\n",
       "      <th>23689</th>\n",
       "      <td>13</td>\n",
       "      <td>3550000.0</td>\n",
       "      <td>35.30</td>\n",
       "      <td>2018-02-28T00:00:00</td>\n",
       "      <td>1</td>\n",
       "      <td>2.86</td>\n",
       "      <td>15.0</td>\n",
       "      <td>16.3</td>\n",
       "      <td>4</td>\n",
       "      <td>NaN</td>\n",
       "      <td>...</td>\n",
       "      <td>9.10</td>\n",
       "      <td>2.0</td>\n",
       "      <td>Санкт-Петербург</td>\n",
       "      <td>17284.0</td>\n",
       "      <td>16081.0</td>\n",
       "      <td>1.0</td>\n",
       "      <td>353.0</td>\n",
       "      <td>2.0</td>\n",
       "      <td>652.0</td>\n",
       "      <td>29.0</td>\n",
       "    </tr>\n",
       "    <tr>\n",
       "      <th>23690</th>\n",
       "      <td>3</td>\n",
       "      <td>5500000.0</td>\n",
       "      <td>52.00</td>\n",
       "      <td>2018-07-19T00:00:00</td>\n",
       "      <td>2</td>\n",
       "      <td>NaN</td>\n",
       "      <td>5.0</td>\n",
       "      <td>31.0</td>\n",
       "      <td>2</td>\n",
       "      <td>NaN</td>\n",
       "      <td>...</td>\n",
       "      <td>6.00</td>\n",
       "      <td>NaN</td>\n",
       "      <td>Санкт-Петербург</td>\n",
       "      <td>20151.0</td>\n",
       "      <td>6263.0</td>\n",
       "      <td>1.0</td>\n",
       "      <td>300.0</td>\n",
       "      <td>0.0</td>\n",
       "      <td>NaN</td>\n",
       "      <td>15.0</td>\n",
       "    </tr>\n",
       "    <tr>\n",
       "      <th>23691</th>\n",
       "      <td>11</td>\n",
       "      <td>9470000.0</td>\n",
       "      <td>72.90</td>\n",
       "      <td>2016-10-13T00:00:00</td>\n",
       "      <td>2</td>\n",
       "      <td>2.75</td>\n",
       "      <td>25.0</td>\n",
       "      <td>40.3</td>\n",
       "      <td>7</td>\n",
       "      <td>NaN</td>\n",
       "      <td>...</td>\n",
       "      <td>10.60</td>\n",
       "      <td>1.0</td>\n",
       "      <td>Санкт-Петербург</td>\n",
       "      <td>19424.0</td>\n",
       "      <td>4489.0</td>\n",
       "      <td>0.0</td>\n",
       "      <td>NaN</td>\n",
       "      <td>1.0</td>\n",
       "      <td>806.0</td>\n",
       "      <td>519.0</td>\n",
       "    </tr>\n",
       "    <tr>\n",
       "      <th>23692</th>\n",
       "      <td>2</td>\n",
       "      <td>1350000.0</td>\n",
       "      <td>30.00</td>\n",
       "      <td>2017-07-07T00:00:00</td>\n",
       "      <td>1</td>\n",
       "      <td>NaN</td>\n",
       "      <td>5.0</td>\n",
       "      <td>17.5</td>\n",
       "      <td>4</td>\n",
       "      <td>NaN</td>\n",
       "      <td>...</td>\n",
       "      <td>6.00</td>\n",
       "      <td>NaN</td>\n",
       "      <td>Тихвин</td>\n",
       "      <td>NaN</td>\n",
       "      <td>NaN</td>\n",
       "      <td>NaN</td>\n",
       "      <td>NaN</td>\n",
       "      <td>NaN</td>\n",
       "      <td>NaN</td>\n",
       "      <td>413.0</td>\n",
       "    </tr>\n",
       "    <tr>\n",
       "      <th>23693</th>\n",
       "      <td>9</td>\n",
       "      <td>4600000.0</td>\n",
       "      <td>62.40</td>\n",
       "      <td>2016-08-05T00:00:00</td>\n",
       "      <td>3</td>\n",
       "      <td>2.60</td>\n",
       "      <td>9.0</td>\n",
       "      <td>40.0</td>\n",
       "      <td>8</td>\n",
       "      <td>NaN</td>\n",
       "      <td>...</td>\n",
       "      <td>8.00</td>\n",
       "      <td>0.0</td>\n",
       "      <td>Петергоф</td>\n",
       "      <td>45602.0</td>\n",
       "      <td>34104.0</td>\n",
       "      <td>1.0</td>\n",
       "      <td>352.0</td>\n",
       "      <td>1.0</td>\n",
       "      <td>675.0</td>\n",
       "      <td>239.0</td>\n",
       "    </tr>\n",
       "    <tr>\n",
       "      <th>23694</th>\n",
       "      <td>9</td>\n",
       "      <td>9700000.0</td>\n",
       "      <td>133.81</td>\n",
       "      <td>2017-03-21T00:00:00</td>\n",
       "      <td>3</td>\n",
       "      <td>3.70</td>\n",
       "      <td>5.0</td>\n",
       "      <td>73.3</td>\n",
       "      <td>3</td>\n",
       "      <td>NaN</td>\n",
       "      <td>...</td>\n",
       "      <td>13.83</td>\n",
       "      <td>NaN</td>\n",
       "      <td>Санкт-Петербург</td>\n",
       "      <td>24665.0</td>\n",
       "      <td>4232.0</td>\n",
       "      <td>1.0</td>\n",
       "      <td>796.0</td>\n",
       "      <td>3.0</td>\n",
       "      <td>381.0</td>\n",
       "      <td>NaN</td>\n",
       "    </tr>\n",
       "    <tr>\n",
       "      <th>23695</th>\n",
       "      <td>14</td>\n",
       "      <td>3100000.0</td>\n",
       "      <td>59.00</td>\n",
       "      <td>2018-01-15T00:00:00</td>\n",
       "      <td>3</td>\n",
       "      <td>NaN</td>\n",
       "      <td>5.0</td>\n",
       "      <td>38.0</td>\n",
       "      <td>4</td>\n",
       "      <td>NaN</td>\n",
       "      <td>...</td>\n",
       "      <td>8.50</td>\n",
       "      <td>NaN</td>\n",
       "      <td>Тосно</td>\n",
       "      <td>NaN</td>\n",
       "      <td>NaN</td>\n",
       "      <td>NaN</td>\n",
       "      <td>NaN</td>\n",
       "      <td>NaN</td>\n",
       "      <td>NaN</td>\n",
       "      <td>45.0</td>\n",
       "    </tr>\n",
       "    <tr>\n",
       "      <th>23696</th>\n",
       "      <td>18</td>\n",
       "      <td>2500000.0</td>\n",
       "      <td>56.70</td>\n",
       "      <td>2018-02-11T00:00:00</td>\n",
       "      <td>2</td>\n",
       "      <td>NaN</td>\n",
       "      <td>3.0</td>\n",
       "      <td>29.7</td>\n",
       "      <td>1</td>\n",
       "      <td>NaN</td>\n",
       "      <td>...</td>\n",
       "      <td>NaN</td>\n",
       "      <td>NaN</td>\n",
       "      <td>село Рождествено</td>\n",
       "      <td>NaN</td>\n",
       "      <td>NaN</td>\n",
       "      <td>NaN</td>\n",
       "      <td>NaN</td>\n",
       "      <td>NaN</td>\n",
       "      <td>NaN</td>\n",
       "      <td>NaN</td>\n",
       "    </tr>\n",
       "    <tr>\n",
       "      <th>23697</th>\n",
       "      <td>13</td>\n",
       "      <td>11475000.0</td>\n",
       "      <td>76.75</td>\n",
       "      <td>2017-03-28T00:00:00</td>\n",
       "      <td>2</td>\n",
       "      <td>3.00</td>\n",
       "      <td>17.0</td>\n",
       "      <td>NaN</td>\n",
       "      <td>12</td>\n",
       "      <td>NaN</td>\n",
       "      <td>...</td>\n",
       "      <td>23.30</td>\n",
       "      <td>2.0</td>\n",
       "      <td>Санкт-Петербург</td>\n",
       "      <td>39140.0</td>\n",
       "      <td>10364.0</td>\n",
       "      <td>2.0</td>\n",
       "      <td>173.0</td>\n",
       "      <td>3.0</td>\n",
       "      <td>196.0</td>\n",
       "      <td>602.0</td>\n",
       "    </tr>\n",
       "    <tr>\n",
       "      <th>23698</th>\n",
       "      <td>4</td>\n",
       "      <td>1350000.0</td>\n",
       "      <td>32.30</td>\n",
       "      <td>2017-07-21T00:00:00</td>\n",
       "      <td>1</td>\n",
       "      <td>2.50</td>\n",
       "      <td>5.0</td>\n",
       "      <td>12.3</td>\n",
       "      <td>1</td>\n",
       "      <td>NaN</td>\n",
       "      <td>...</td>\n",
       "      <td>9.00</td>\n",
       "      <td>NaN</td>\n",
       "      <td>поселок Новый Учхоз</td>\n",
       "      <td>NaN</td>\n",
       "      <td>NaN</td>\n",
       "      <td>NaN</td>\n",
       "      <td>NaN</td>\n",
       "      <td>NaN</td>\n",
       "      <td>NaN</td>\n",
       "      <td>NaN</td>\n",
       "    </tr>\n",
       "  </tbody>\n",
       "</table>\n",
       "<p>10 rows × 22 columns</p>\n",
       "</div>"
      ],
      "text/plain": [
       "       total_images  last_price  total_area first_day_exposition  rooms  \\\n",
       "23689            13   3550000.0       35.30  2018-02-28T00:00:00      1   \n",
       "23690             3   5500000.0       52.00  2018-07-19T00:00:00      2   \n",
       "23691            11   9470000.0       72.90  2016-10-13T00:00:00      2   \n",
       "23692             2   1350000.0       30.00  2017-07-07T00:00:00      1   \n",
       "23693             9   4600000.0       62.40  2016-08-05T00:00:00      3   \n",
       "23694             9   9700000.0      133.81  2017-03-21T00:00:00      3   \n",
       "23695            14   3100000.0       59.00  2018-01-15T00:00:00      3   \n",
       "23696            18   2500000.0       56.70  2018-02-11T00:00:00      2   \n",
       "23697            13  11475000.0       76.75  2017-03-28T00:00:00      2   \n",
       "23698             4   1350000.0       32.30  2017-07-21T00:00:00      1   \n",
       "\n",
       "       ceiling_height  floors_total  living_area  floor is_apartment  ...  \\\n",
       "23689            2.86          15.0         16.3      4          NaN  ...   \n",
       "23690             NaN           5.0         31.0      2          NaN  ...   \n",
       "23691            2.75          25.0         40.3      7          NaN  ...   \n",
       "23692             NaN           5.0         17.5      4          NaN  ...   \n",
       "23693            2.60           9.0         40.0      8          NaN  ...   \n",
       "23694            3.70           5.0         73.3      3          NaN  ...   \n",
       "23695             NaN           5.0         38.0      4          NaN  ...   \n",
       "23696             NaN           3.0         29.7      1          NaN  ...   \n",
       "23697            3.00          17.0          NaN     12          NaN  ...   \n",
       "23698            2.50           5.0         12.3      1          NaN  ...   \n",
       "\n",
       "       kitchen_area  balcony        locality_name  airports_nearest  \\\n",
       "23689          9.10      2.0      Санкт-Петербург           17284.0   \n",
       "23690          6.00      NaN      Санкт-Петербург           20151.0   \n",
       "23691         10.60      1.0      Санкт-Петербург           19424.0   \n",
       "23692          6.00      NaN               Тихвин               NaN   \n",
       "23693          8.00      0.0             Петергоф           45602.0   \n",
       "23694         13.83      NaN      Санкт-Петербург           24665.0   \n",
       "23695          8.50      NaN                Тосно               NaN   \n",
       "23696           NaN      NaN     село Рождествено               NaN   \n",
       "23697         23.30      2.0      Санкт-Петербург           39140.0   \n",
       "23698          9.00      NaN  поселок Новый Учхоз               NaN   \n",
       "\n",
       "      cityCenters_nearest  parks_around3000  parks_nearest  ponds_around3000  \\\n",
       "23689             16081.0               1.0          353.0               2.0   \n",
       "23690              6263.0               1.0          300.0               0.0   \n",
       "23691              4489.0               0.0            NaN               1.0   \n",
       "23692                 NaN               NaN            NaN               NaN   \n",
       "23693             34104.0               1.0          352.0               1.0   \n",
       "23694              4232.0               1.0          796.0               3.0   \n",
       "23695                 NaN               NaN            NaN               NaN   \n",
       "23696                 NaN               NaN            NaN               NaN   \n",
       "23697             10364.0               2.0          173.0               3.0   \n",
       "23698                 NaN               NaN            NaN               NaN   \n",
       "\n",
       "       ponds_nearest  days_exposition  \n",
       "23689          652.0             29.0  \n",
       "23690            NaN             15.0  \n",
       "23691          806.0            519.0  \n",
       "23692            NaN            413.0  \n",
       "23693          675.0            239.0  \n",
       "23694          381.0              NaN  \n",
       "23695            NaN             45.0  \n",
       "23696            NaN              NaN  \n",
       "23697          196.0            602.0  \n",
       "23698            NaN              NaN  \n",
       "\n",
       "[10 rows x 22 columns]"
      ]
     },
     "execution_count": 4,
     "metadata": {},
     "output_type": "execute_result"
    }
   ],
   "source": [
    "# и последние 10 строк\n",
    "data.tail(10)"
   ]
  },
  {
   "cell_type": "code",
   "execution_count": 5,
   "metadata": {},
   "outputs": [
    {
     "data": {
      "image/png": "[encoded data removed]",
      "text/plain": [
       "<Figure size 1080x1440 with 20 Axes>"
      ]
     },
     "metadata": {
      "needs_background": "light"
     },
     "output_type": "display_data"
    }
   ],
   "source": [
    "#выведем в виде гистрограмм\n",
    "data.hist(figsize=(15, 20));"
   ]
  },
  {
   "cell_type": "code",
   "execution_count": 6,
   "metadata": {},
   "outputs": [
    {
     "name": "stdout",
     "output_type": "stream",
     "text": [
      "2.50     3515\n",
      "2.60     1646\n",
      "2.70     1574\n",
      "3.00     1112\n",
      "2.80      993\n",
      "         ... \n",
      "4.25        1\n",
      "3.39        1\n",
      "3.93        1\n",
      "10.30       1\n",
      "4.65        1\n",
      "Name: ceiling_height, Length: 183, dtype: int64\n",
      "1.0 100.0\n"
     ]
    }
   ],
   "source": [
    "# можно вывести количество значений определенного столбца в порядке убывания\n",
    "print(data['ceiling_height'].value_counts())\n",
    "# или его пределы. Интересно, в каком здании высота потолков достигает 100 метров? \n",
    "print(data['ceiling_height'].min(), data['ceiling_height'].max()) \n",
    "#data['ceiling_height'].hist(figsize=(30, 10))"
   ]
  },
  {
   "cell_type": "code",
   "execution_count": 7,
   "metadata": {},
   "outputs": [
    {
     "data": {
      "text/html": [
       "<div>\n",
       "<style scoped>\n",
       "    .dataframe tbody tr th:only-of-type {\n",
       "        vertical-align: middle;\n",
       "    }\n",
       "\n",
       "    .dataframe tbody tr th {\n",
       "        vertical-align: top;\n",
       "    }\n",
       "\n",
       "    .dataframe thead th {\n",
       "        text-align: right;\n",
       "    }\n",
       "</style>\n",
       "<table border=\"1\" class=\"dataframe\">\n",
       "  <thead>\n",
       "    <tr style=\"text-align: right;\">\n",
       "      <th></th>\n",
       "      <th>total_images</th>\n",
       "      <th>last_price</th>\n",
       "      <th>total_area</th>\n",
       "      <th>rooms</th>\n",
       "      <th>ceiling_height</th>\n",
       "      <th>floors_total</th>\n",
       "      <th>living_area</th>\n",
       "      <th>floor</th>\n",
       "      <th>kitchen_area</th>\n",
       "      <th>balcony</th>\n",
       "      <th>airports_nearest</th>\n",
       "      <th>cityCenters_nearest</th>\n",
       "      <th>parks_around3000</th>\n",
       "      <th>parks_nearest</th>\n",
       "      <th>ponds_around3000</th>\n",
       "      <th>ponds_nearest</th>\n",
       "      <th>days_exposition</th>\n",
       "    </tr>\n",
       "  </thead>\n",
       "  <tbody>\n",
       "    <tr>\n",
       "      <th>count</th>\n",
       "      <td>23699.000000</td>\n",
       "      <td>2.369900e+04</td>\n",
       "      <td>23699.000000</td>\n",
       "      <td>23699.000000</td>\n",
       "      <td>14504.000000</td>\n",
       "      <td>23613.000000</td>\n",
       "      <td>21796.000000</td>\n",
       "      <td>23699.000000</td>\n",
       "      <td>21421.000000</td>\n",
       "      <td>12180.000000</td>\n",
       "      <td>18157.000000</td>\n",
       "      <td>18180.000000</td>\n",
       "      <td>18181.000000</td>\n",
       "      <td>8079.000000</td>\n",
       "      <td>18181.000000</td>\n",
       "      <td>9110.000000</td>\n",
       "      <td>20518.000000</td>\n",
       "    </tr>\n",
       "    <tr>\n",
       "      <th>mean</th>\n",
       "      <td>9.858475</td>\n",
       "      <td>6.541549e+06</td>\n",
       "      <td>60.348651</td>\n",
       "      <td>2.070636</td>\n",
       "      <td>2.771499</td>\n",
       "      <td>10.673824</td>\n",
       "      <td>34.457852</td>\n",
       "      <td>5.892358</td>\n",
       "      <td>10.569807</td>\n",
       "      <td>1.150082</td>\n",
       "      <td>28793.672193</td>\n",
       "      <td>14191.277833</td>\n",
       "      <td>0.611408</td>\n",
       "      <td>490.804555</td>\n",
       "      <td>0.770255</td>\n",
       "      <td>517.980900</td>\n",
       "      <td>180.888634</td>\n",
       "    </tr>\n",
       "    <tr>\n",
       "      <th>std</th>\n",
       "      <td>5.682529</td>\n",
       "      <td>1.088701e+07</td>\n",
       "      <td>35.654083</td>\n",
       "      <td>1.078405</td>\n",
       "      <td>1.261056</td>\n",
       "      <td>6.597173</td>\n",
       "      <td>22.030445</td>\n",
       "      <td>4.885249</td>\n",
       "      <td>5.905438</td>\n",
       "      <td>1.071300</td>\n",
       "      <td>12630.880622</td>\n",
       "      <td>8608.386210</td>\n",
       "      <td>0.802074</td>\n",
       "      <td>342.317995</td>\n",
       "      <td>0.938346</td>\n",
       "      <td>277.720643</td>\n",
       "      <td>219.727988</td>\n",
       "    </tr>\n",
       "    <tr>\n",
       "      <th>min</th>\n",
       "      <td>0.000000</td>\n",
       "      <td>1.219000e+04</td>\n",
       "      <td>12.000000</td>\n",
       "      <td>0.000000</td>\n",
       "      <td>1.000000</td>\n",
       "      <td>1.000000</td>\n",
       "      <td>2.000000</td>\n",
       "      <td>1.000000</td>\n",
       "      <td>1.300000</td>\n",
       "      <td>0.000000</td>\n",
       "      <td>0.000000</td>\n",
       "      <td>181.000000</td>\n",
       "      <td>0.000000</td>\n",
       "      <td>1.000000</td>\n",
       "      <td>0.000000</td>\n",
       "      <td>13.000000</td>\n",
       "      <td>1.000000</td>\n",
       "    </tr>\n",
       "    <tr>\n",
       "      <th>25%</th>\n",
       "      <td>6.000000</td>\n",
       "      <td>3.400000e+06</td>\n",
       "      <td>40.000000</td>\n",
       "      <td>1.000000</td>\n",
       "      <td>2.520000</td>\n",
       "      <td>5.000000</td>\n",
       "      <td>18.600000</td>\n",
       "      <td>2.000000</td>\n",
       "      <td>7.000000</td>\n",
       "      <td>0.000000</td>\n",
       "      <td>18585.000000</td>\n",
       "      <td>9238.000000</td>\n",
       "      <td>0.000000</td>\n",
       "      <td>288.000000</td>\n",
       "      <td>0.000000</td>\n",
       "      <td>294.000000</td>\n",
       "      <td>45.000000</td>\n",
       "    </tr>\n",
       "    <tr>\n",
       "      <th>50%</th>\n",
       "      <td>9.000000</td>\n",
       "      <td>4.650000e+06</td>\n",
       "      <td>52.000000</td>\n",
       "      <td>2.000000</td>\n",
       "      <td>2.650000</td>\n",
       "      <td>9.000000</td>\n",
       "      <td>30.000000</td>\n",
       "      <td>4.000000</td>\n",
       "      <td>9.100000</td>\n",
       "      <td>1.000000</td>\n",
       "      <td>26726.000000</td>\n",
       "      <td>13098.500000</td>\n",
       "      <td>0.000000</td>\n",
       "      <td>455.000000</td>\n",
       "      <td>1.000000</td>\n",
       "      <td>502.000000</td>\n",
       "      <td>95.000000</td>\n",
       "    </tr>\n",
       "    <tr>\n",
       "      <th>75%</th>\n",
       "      <td>14.000000</td>\n",
       "      <td>6.800000e+06</td>\n",
       "      <td>69.900000</td>\n",
       "      <td>3.000000</td>\n",
       "      <td>2.800000</td>\n",
       "      <td>16.000000</td>\n",
       "      <td>42.300000</td>\n",
       "      <td>8.000000</td>\n",
       "      <td>12.000000</td>\n",
       "      <td>2.000000</td>\n",
       "      <td>37273.000000</td>\n",
       "      <td>16293.000000</td>\n",
       "      <td>1.000000</td>\n",
       "      <td>612.000000</td>\n",
       "      <td>1.000000</td>\n",
       "      <td>729.000000</td>\n",
       "      <td>232.000000</td>\n",
       "    </tr>\n",
       "    <tr>\n",
       "      <th>max</th>\n",
       "      <td>50.000000</td>\n",
       "      <td>7.630000e+08</td>\n",
       "      <td>900.000000</td>\n",
       "      <td>19.000000</td>\n",
       "      <td>100.000000</td>\n",
       "      <td>60.000000</td>\n",
       "      <td>409.700000</td>\n",
       "      <td>33.000000</td>\n",
       "      <td>112.000000</td>\n",
       "      <td>5.000000</td>\n",
       "      <td>84869.000000</td>\n",
       "      <td>65968.000000</td>\n",
       "      <td>3.000000</td>\n",
       "      <td>3190.000000</td>\n",
       "      <td>3.000000</td>\n",
       "      <td>1344.000000</td>\n",
       "      <td>1580.000000</td>\n",
       "    </tr>\n",
       "  </tbody>\n",
       "</table>\n",
       "</div>"
      ],
      "text/plain": [
       "       total_images    last_price    total_area         rooms  ceiling_height  \\\n",
       "count  23699.000000  2.369900e+04  23699.000000  23699.000000    14504.000000   \n",
       "mean       9.858475  6.541549e+06     60.348651      2.070636        2.771499   \n",
       "std        5.682529  1.088701e+07     35.654083      1.078405        1.261056   \n",
       "min        0.000000  1.219000e+04     12.000000      0.000000        1.000000   \n",
       "25%        6.000000  3.400000e+06     40.000000      1.000000        2.520000   \n",
       "50%        9.000000  4.650000e+06     52.000000      2.000000        2.650000   \n",
       "75%       14.000000  6.800000e+06     69.900000      3.000000        2.800000   \n",
       "max       50.000000  7.630000e+08    900.000000     19.000000      100.000000   \n",
       "\n",
       "       floors_total   living_area         floor  kitchen_area       balcony  \\\n",
       "count  23613.000000  21796.000000  23699.000000  21421.000000  12180.000000   \n",
       "mean      10.673824     34.457852      5.892358     10.569807      1.150082   \n",
       "std        6.597173     22.030445      4.885249      5.905438      1.071300   \n",
       "min        1.000000      2.000000      1.000000      1.300000      0.000000   \n",
       "25%        5.000000     18.600000      2.000000      7.000000      0.000000   \n",
       "50%        9.000000     30.000000      4.000000      9.100000      1.000000   \n",
       "75%       16.000000     42.300000      8.000000     12.000000      2.000000   \n",
       "max       60.000000    409.700000     33.000000    112.000000      5.000000   \n",
       "\n",
       "       airports_nearest  cityCenters_nearest  parks_around3000  parks_nearest  \\\n",
       "count      18157.000000         18180.000000      18181.000000    8079.000000   \n",
       "mean       28793.672193         14191.277833          0.611408     490.804555   \n",
       "std        12630.880622          8608.386210          0.802074     342.317995   \n",
       "min            0.000000           181.000000          0.000000       1.000000   \n",
       "25%        18585.000000          9238.000000          0.000000     288.000000   \n",
       "50%        26726.000000         13098.500000          0.000000     455.000000   \n",
       "75%        37273.000000         16293.000000          1.000000     612.000000   \n",
       "max        84869.000000         65968.000000          3.000000    3190.000000   \n",
       "\n",
       "       ponds_around3000  ponds_nearest  days_exposition  \n",
       "count      18181.000000    9110.000000     20518.000000  \n",
       "mean           0.770255     517.980900       180.888634  \n",
       "std            0.938346     277.720643       219.727988  \n",
       "min            0.000000      13.000000         1.000000  \n",
       "25%            0.000000     294.000000        45.000000  \n",
       "50%            1.000000     502.000000        95.000000  \n",
       "75%            1.000000     729.000000       232.000000  \n",
       "max            3.000000    1344.000000      1580.000000  "
      ]
     },
     "execution_count": 7,
     "metadata": {},
     "output_type": "execute_result"
    }
   ],
   "source": [
    "# выведем еще дополнительную информацию\n",
    "data.describe()"
   ]
  },
  {
   "cell_type": "code",
   "execution_count": 8,
   "metadata": {},
   "outputs": [
    {
     "data": {
      "text/plain": [
       "0"
      ]
     },
     "execution_count": 8,
     "metadata": {},
     "output_type": "execute_result"
    }
   ],
   "source": [
    "# Дубликатов нет\n",
    "data.duplicated().sum()\n",
    "#data['is_apartment'].unique()"
   ]
  },
  {
   "cell_type": "markdown",
   "metadata": {},
   "source": [
    "### Предобработка данных"
   ]
  },
  {
   "cell_type": "markdown",
   "metadata": {},
   "source": [
    "2.1. Найдите и изучите пропущенные значения в столбцах:\n",
    "o Определите, в каких столбцах есть пропуски.\n",
    "o Заполните пропущенные значения там, где это возможно. Например, если продавец не указал число балконов, то, скорее всего, \n",
    "в его квартире их нет. Такие пропуски правильно заменить на 0. Если логичную замену предложить невозможно, то оставьте эти \n",
    "значения пустыми. Пропуски — тоже важный сигнал, который нужно учитывать.\n",
    "o В ячейке с типом markdown укажите причины, которые могли привести к пропускам в данных."
   ]
  },
  {
   "cell_type": "code",
   "execution_count": 9,
   "metadata": {
    "scrolled": false
   },
   "outputs": [
    {
     "name": "stdout",
     "output_type": "stream",
     "text": [
      "total_images                0\n",
      "last_price                  0\n",
      "total_area                  0\n",
      "first_day_exposition        0\n",
      "rooms                       0\n",
      "ceiling_height           9195\n",
      "floors_total               86\n",
      "living_area              1903\n",
      "floor                       0\n",
      "is_apartment            20924\n",
      "studio                      0\n",
      "open_plan                   0\n",
      "kitchen_area             2278\n",
      "balcony                 11519\n",
      "locality_name              49\n",
      "airports_nearest         5542\n",
      "cityCenters_nearest      5519\n",
      "parks_around3000         5518\n",
      "parks_nearest           15620\n",
      "ponds_around3000         5518\n",
      "ponds_nearest           14589\n",
      "days_exposition          3181\n",
      "dtype: int64\n"
     ]
    }
   ],
   "source": [
    "# Выведём количество пропущенных значений для каждого столбца.\n",
    "print(data.isna().sum())\n",
    "#print(data['balcony'])\n",
    "\n",
    "# Сразу удаляю строки с пустыми значениями - без населённого пункта \n",
    "data =  data.dropna(subset=['locality_name'])\n",
    "#print(data.isna().sum())"
   ]
  },
  {
   "cell_type": "code",
   "execution_count": 10,
   "metadata": {},
   "outputs": [],
   "source": [
    "# check\n",
    "# пропущенные значения бары\n",
    "\n",
    "def pass_value_barh(df):\n",
    "    try:\n",
    "        (\n",
    "            (df.isna().mean()*100)\n",
    "            .to_frame()\n",
    "            .rename(columns = {0:'space'})\n",
    "            .query('space > 0')\n",
    "            .sort_values(by = 'space', ascending = True)\n",
    "            .plot(kind= 'barh', figsize=(19,6), rot = -5, legend = False, fontsize = 16)\n",
    "            .set_title('Пример' + \"\\n\", fontsize = 22, color = 'SteelBlue')    \n",
    "        );    \n",
    "    except:\n",
    "        print('пропусков не осталось :) ')"
   ]
  },
  {
   "cell_type": "code",
   "execution_count": 11,
   "metadata": {},
   "outputs": [
    {
     "data": {
      "image/png": "[encoded data removed]",
      "text/plain": [
       "<Figure size 1368x432 with 1 Axes>"
      ]
     },
     "metadata": {
      "needs_background": "light"
     },
     "output_type": "display_data"
    }
   ],
   "source": [
    "pass_value_barh(data)"
   ]
  },
  {
   "cell_type": "code",
   "execution_count": 12,
   "metadata": {},
   "outputs": [
    {
     "name": "stdout",
     "output_type": "stream",
     "text": [
      "пропусков не осталось :) \n",
      "пропусков не осталось :) \n"
     ]
    }
   ],
   "source": [
    "# Первое замечание.\n",
    "# После заполнения синтетическими данными столбцов, стоит провести проверку на корректность значений всех наших площадей, \n",
    "# т.к. есть (коридоры, сан.узлы, балконы)\n",
    "#     total_area*0.9 <= (living_area + kitchen_area)\n",
    "# если алгоритм приводит к появлению аномалий, стоит подумать над его содержимым\n",
    "\n",
    "#Было\n",
    "# что делать с пропусками в жилой площади -  остальное заполняем медианой по населённому пункту\n",
    "# living_area жилая площадь в квадратных метрах (м²) \n",
    "data['living_area']=data['living_area'].fillna(data['living_area'].median())\n",
    "pass_value_barh(data['living_area'])\n",
    "\n",
    "# kitchen_area площадь кухни в квадратных метрах (м²) - для отсутствующих значений возьмем среднее 10.6 \n",
    "data['kitchen_area']=data['kitchen_area'].fillna(10.6)\n",
    "pass_value_barh(data['kitchen_area'])\n",
    "\n",
    "# Добавил\n",
    "# total_area*0.9 <= (living_area + kitchen_area)\n",
    "# data['total_area_09'] = data['total_area']*0.9\n",
    "# data['check']= data['kitchen_area']+data['living_area']\n",
    "# area_chek = data.query('total_area_09 <= check') #.sortvalues('flat_class')\n",
    "#data.drop(data.loc[data['total_area_09']<=data['check']].index, inplase=True)\n",
    "#print(data.isna().sum())"
   ]
  },
  {
   "cell_type": "code",
   "execution_count": 13,
   "metadata": {},
   "outputs": [
    {
     "name": "stdout",
     "output_type": "stream",
     "text": [
      "пропусков не осталось :) \n"
     ]
    }
   ],
   "source": [
    "# Второе замечание. \n",
    "# После заполнения синтетическими данными, стоит провести проверку на корректность значений по \n",
    "# условию (этажность дома не м.б. ниже этажности квартиры)\n",
    "# ['floors_total'] < ['floor']\n",
    "\n",
    "# Первоначально было\n",
    "# floors_total всего этажей в доме. Пропуски логично заменить на 1. \n",
    "data['floors_total'] = data['floors_total'].fillna(1)\n",
    "\n",
    "# Потом добавил\n",
    "pass_value_barh(data['floors_total'])\n",
    "#print(data.query('floors_total < floor').info())\n",
    "# data = data.query('(ceiling_height > 2.4 & ceiling_height < 5) & last_price > 400000 & rooms <= 10 & total_area < 600')"
   ]
  },
  {
   "cell_type": "code",
   "execution_count": 14,
   "metadata": {},
   "outputs": [
    {
     "data": {
      "image/png": "[encoded data removed]",
      "text/plain": [
       "<Figure size 720x360 with 1 Axes>"
      ]
     },
     "metadata": {
      "needs_background": "light"
     },
     "output_type": "display_data"
    }
   ],
   "source": [
    "# Третье замечание. \n",
    "# Не изучено распределение пропусков по городам до заполнения значений в ['city_сenters_nearest']\n",
    "# к каким населенным пунктам относятся и оценить степень влияния пропусков на дальнейший анализ (будут мешать или нет)\n",
    "\n",
    "# 1. По пропускам в столбцах «nearest» мы их никак не заполняем. Это картографические данные, которые если мы \n",
    "# заполним медианой то получим искаженные данные. Никак их не трогаем.\n",
    "\n",
    "# расстояние до центра города (м)\n",
    "# было data['cityCenters_nearest']=data['cityCenters_nearest'].fillna(data['cityCenters_nearest'].median())\n",
    "\n",
    "data['cityCenters_nearest']=data['cityCenters_nearest'].groupby(data['locality_name']).fillna(data['cityCenters_nearest'].median())\n",
    "data['cityCenters_nearest'].hist(figsize=(10, 5));"
   ]
  },
  {
   "cell_type": "code",
   "execution_count": 15,
   "metadata": {},
   "outputs": [
    {
     "name": "stdout",
     "output_type": "stream",
     "text": [
      "total_images               0\n",
      "last_price                 0\n",
      "total_area                 0\n",
      "first_day_exposition       0\n",
      "rooms                      0\n",
      "ceiling_height             0\n",
      "floors_total               0\n",
      "living_area                0\n",
      "floor                      0\n",
      "is_apartment               0\n",
      "studio                     0\n",
      "open_plan                  0\n",
      "kitchen_area               0\n",
      "balcony                    0\n",
      "locality_name              0\n",
      "airports_nearest           0\n",
      "cityCenters_nearest        0\n",
      "parks_around3000           0\n",
      "parks_nearest              0\n",
      "ponds_around3000           0\n",
      "ponds_nearest              0\n",
      "days_exposition         3180\n",
      "dtype: int64\n"
     ]
    }
   ],
   "source": [
    "# заполним пропуски высоты потолков медианным значением\n",
    "data['ceiling_height']=data['ceiling_height'].fillna(data['ceiling_height'].median())\n",
    "\n",
    "# is_apartment это булев тип. Заменяем на ложь\n",
    "data['is_apartment'] = data['is_apartment'].fillna(False)\n",
    "#data['is_apartment'] = data['is_apartment'].fillna(value=False) - не работает\n",
    "#data['is_apartment'] = data['is_apartment'].where((data.is_apartment == 0), False, data.is_apartment) - не работает\n",
    "for t in data['is_apartment'].unique():\n",
    "    data.loc[data['is_apartment']==0]=data.loc[data['is_apartment']==False]\n",
    "    \n",
    "# если продавец не указал число балконов, то, скорее всего, в его квартире их нет. Такие пропуски правильно заменить на 0\n",
    "# balcony  \n",
    "data['balcony']=data['balcony'].fillna(value=0)\n",
    "\n",
    "# Slack: Можно заменить медианой по всему датасету. Это не сильно важные параметры, не нужно тратить на них много времени.\n",
    "# Разве что для расстояния до центра можно сделать заполнение с группировкой по населенному пункту.\n",
    "\n",
    "# расстояние до ближайшего аэропорта в метрах (м)\n",
    "data['airports_nearest']=data['airports_nearest'].fillna(data['airports_nearest'].median())\n",
    "\n",
    "# число парков в радиусе 3 км\n",
    "data['parks_around3000']=data['parks_around3000'].fillna(data['parks_around3000'].median())\n",
    "# расстояние до ближайшего парка (м)\n",
    "data['parks_nearest']=data['parks_nearest'].fillna(data['parks_nearest'].median())\n",
    "# число водоёмов в радиусе 3 км\n",
    "data['ponds_around3000']=data['ponds_around3000'].fillna(data['ponds_around3000'].median())\n",
    "# расстояние до ближайшего водоёма (м)\n",
    "data['ponds_nearest']=data['ponds_nearest'].fillna(data['ponds_nearest'].median())\n",
    "\n",
    "print(data.isna().sum())"
   ]
  },
  {
   "cell_type": "code",
   "execution_count": 16,
   "metadata": {},
   "outputs": [
    {
     "data": {
      "text/plain": [
       "<AxesSubplot:>"
      ]
     },
     "execution_count": 16,
     "metadata": {},
     "output_type": "execute_result"
    },
    {
     "data": {
      "image/png": "[encoded data removed]",
      "text/plain": [
       "<Figure size 2160x720 with 1 Axes>"
      ]
     },
     "metadata": {
      "needs_background": "light"
     },
     "output_type": "display_data"
    }
   ],
   "source": [
    "# days_exposition - сколько дней было размещено объявление (от публикации до снятия)\n",
    "#data['first_day_exposition'].hist(figsize=(30, 10))\n",
    "data['days_exposition']=data['days_exposition'].fillna(value=0)\n",
    "data['days_exposition'].hist(figsize=(30, 10))\n",
    "# Slack: Вижу прямую взаимосвязь пропусков с датой публикации, предполагаю, что это квартиры, которые не продали.\n",
    "# Пропуски в days_exposition можно не заполнять, достаточно исследовать как они распределены относительно даты \n",
    "# публикации и составить гипотезу о том, как они появляются.\n",
    "# Пропуск решил заполнить нулем. "
   ]
  },
  {
   "cell_type": "code",
   "execution_count": 17,
   "metadata": {},
   "outputs": [
    {
     "data": {
      "text/html": [
       "<div>\n",
       "<style scoped>\n",
       "    .dataframe tbody tr th:only-of-type {\n",
       "        vertical-align: middle;\n",
       "    }\n",
       "\n",
       "    .dataframe tbody tr th {\n",
       "        vertical-align: top;\n",
       "    }\n",
       "\n",
       "    .dataframe thead th {\n",
       "        text-align: right;\n",
       "    }\n",
       "</style>\n",
       "<table border=\"1\" class=\"dataframe\">\n",
       "  <thead>\n",
       "    <tr style=\"text-align: right;\">\n",
       "      <th></th>\n",
       "      <th>total_images</th>\n",
       "      <th>last_price</th>\n",
       "      <th>total_area</th>\n",
       "      <th>first_day_exposition</th>\n",
       "      <th>rooms</th>\n",
       "      <th>ceiling_height</th>\n",
       "      <th>floors_total</th>\n",
       "      <th>living_area</th>\n",
       "      <th>floor</th>\n",
       "      <th>is_apartment</th>\n",
       "      <th>...</th>\n",
       "      <th>kitchen_area</th>\n",
       "      <th>balcony</th>\n",
       "      <th>locality_name</th>\n",
       "      <th>airports_nearest</th>\n",
       "      <th>cityCenters_nearest</th>\n",
       "      <th>parks_around3000</th>\n",
       "      <th>parks_nearest</th>\n",
       "      <th>ponds_around3000</th>\n",
       "      <th>ponds_nearest</th>\n",
       "      <th>days_exposition</th>\n",
       "    </tr>\n",
       "  </thead>\n",
       "  <tbody>\n",
       "    <tr>\n",
       "      <th>20698</th>\n",
       "      <td>10</td>\n",
       "      <td>3400000.0</td>\n",
       "      <td>32.00</td>\n",
       "      <td>2017-09-02T00:00:00</td>\n",
       "      <td>1</td>\n",
       "      <td>2.60</td>\n",
       "      <td>9.0</td>\n",
       "      <td>17.9</td>\n",
       "      <td>6</td>\n",
       "      <td>False</td>\n",
       "      <td>...</td>\n",
       "      <td>6.3</td>\n",
       "      <td>0.0</td>\n",
       "      <td>Санкт-Петербург</td>\n",
       "      <td>45014.0</td>\n",
       "      <td>17252.0</td>\n",
       "      <td>0.0</td>\n",
       "      <td>454.5</td>\n",
       "      <td>0.0</td>\n",
       "      <td>502.0</td>\n",
       "      <td>89.0</td>\n",
       "    </tr>\n",
       "    <tr>\n",
       "      <th>12223</th>\n",
       "      <td>20</td>\n",
       "      <td>59000000.0</td>\n",
       "      <td>127.50</td>\n",
       "      <td>2017-01-24T00:00:00</td>\n",
       "      <td>4</td>\n",
       "      <td>3.00</td>\n",
       "      <td>12.0</td>\n",
       "      <td>85.0</td>\n",
       "      <td>8</td>\n",
       "      <td>False</td>\n",
       "      <td>...</td>\n",
       "      <td>13.0</td>\n",
       "      <td>4.0</td>\n",
       "      <td>Санкт-Петербург</td>\n",
       "      <td>28098.0</td>\n",
       "      <td>6800.0</td>\n",
       "      <td>2.0</td>\n",
       "      <td>84.0</td>\n",
       "      <td>3.0</td>\n",
       "      <td>234.0</td>\n",
       "      <td>5.0</td>\n",
       "    </tr>\n",
       "    <tr>\n",
       "      <th>1269</th>\n",
       "      <td>12</td>\n",
       "      <td>7000000.0</td>\n",
       "      <td>53.70</td>\n",
       "      <td>2017-09-27T00:00:00</td>\n",
       "      <td>2</td>\n",
       "      <td>2.65</td>\n",
       "      <td>12.0</td>\n",
       "      <td>28.6</td>\n",
       "      <td>11</td>\n",
       "      <td>False</td>\n",
       "      <td>...</td>\n",
       "      <td>15.7</td>\n",
       "      <td>2.0</td>\n",
       "      <td>Санкт-Петербург</td>\n",
       "      <td>26766.0</td>\n",
       "      <td>10939.0</td>\n",
       "      <td>1.0</td>\n",
       "      <td>524.0</td>\n",
       "      <td>1.0</td>\n",
       "      <td>913.0</td>\n",
       "      <td>60.0</td>\n",
       "    </tr>\n",
       "    <tr>\n",
       "      <th>4044</th>\n",
       "      <td>7</td>\n",
       "      <td>3250000.0</td>\n",
       "      <td>32.60</td>\n",
       "      <td>2018-08-27T00:00:00</td>\n",
       "      <td>1</td>\n",
       "      <td>2.65</td>\n",
       "      <td>25.0</td>\n",
       "      <td>16.0</td>\n",
       "      <td>16</td>\n",
       "      <td>False</td>\n",
       "      <td>...</td>\n",
       "      <td>8.2</td>\n",
       "      <td>0.0</td>\n",
       "      <td>посёлок Шушары</td>\n",
       "      <td>13908.0</td>\n",
       "      <td>19694.0</td>\n",
       "      <td>0.0</td>\n",
       "      <td>454.5</td>\n",
       "      <td>1.0</td>\n",
       "      <td>645.0</td>\n",
       "      <td>63.0</td>\n",
       "    </tr>\n",
       "    <tr>\n",
       "      <th>4400</th>\n",
       "      <td>4</td>\n",
       "      <td>12300000.0</td>\n",
       "      <td>78.65</td>\n",
       "      <td>2017-09-09T00:00:00</td>\n",
       "      <td>3</td>\n",
       "      <td>2.65</td>\n",
       "      <td>5.0</td>\n",
       "      <td>48.0</td>\n",
       "      <td>1</td>\n",
       "      <td>False</td>\n",
       "      <td>...</td>\n",
       "      <td>11.0</td>\n",
       "      <td>0.0</td>\n",
       "      <td>Пушкин</td>\n",
       "      <td>14567.0</td>\n",
       "      <td>26720.0</td>\n",
       "      <td>2.0</td>\n",
       "      <td>403.0</td>\n",
       "      <td>0.0</td>\n",
       "      <td>502.0</td>\n",
       "      <td>4.0</td>\n",
       "    </tr>\n",
       "    <tr>\n",
       "      <th>23518</th>\n",
       "      <td>1</td>\n",
       "      <td>6200000.0</td>\n",
       "      <td>55.00</td>\n",
       "      <td>2017-12-16T00:00:00</td>\n",
       "      <td>2</td>\n",
       "      <td>3.00</td>\n",
       "      <td>6.0</td>\n",
       "      <td>32.2</td>\n",
       "      <td>2</td>\n",
       "      <td>False</td>\n",
       "      <td>...</td>\n",
       "      <td>8.4</td>\n",
       "      <td>0.0</td>\n",
       "      <td>Санкт-Петербург</td>\n",
       "      <td>16245.0</td>\n",
       "      <td>7776.0</td>\n",
       "      <td>0.0</td>\n",
       "      <td>454.5</td>\n",
       "      <td>0.0</td>\n",
       "      <td>502.0</td>\n",
       "      <td>47.0</td>\n",
       "    </tr>\n",
       "    <tr>\n",
       "      <th>12241</th>\n",
       "      <td>10</td>\n",
       "      <td>4100000.0</td>\n",
       "      <td>40.00</td>\n",
       "      <td>2017-09-26T00:00:00</td>\n",
       "      <td>2</td>\n",
       "      <td>3.03</td>\n",
       "      <td>5.0</td>\n",
       "      <td>29.1</td>\n",
       "      <td>1</td>\n",
       "      <td>False</td>\n",
       "      <td>...</td>\n",
       "      <td>6.5</td>\n",
       "      <td>0.0</td>\n",
       "      <td>Санкт-Петербург</td>\n",
       "      <td>30942.0</td>\n",
       "      <td>5839.0</td>\n",
       "      <td>0.0</td>\n",
       "      <td>454.5</td>\n",
       "      <td>1.0</td>\n",
       "      <td>919.0</td>\n",
       "      <td>181.0</td>\n",
       "    </tr>\n",
       "    <tr>\n",
       "      <th>14848</th>\n",
       "      <td>17</td>\n",
       "      <td>3500000.0</td>\n",
       "      <td>32.80</td>\n",
       "      <td>2017-10-11T00:00:00</td>\n",
       "      <td>1</td>\n",
       "      <td>2.50</td>\n",
       "      <td>9.0</td>\n",
       "      <td>17.4</td>\n",
       "      <td>4</td>\n",
       "      <td>False</td>\n",
       "      <td>...</td>\n",
       "      <td>8.1</td>\n",
       "      <td>0.0</td>\n",
       "      <td>Санкт-Петербург</td>\n",
       "      <td>47981.0</td>\n",
       "      <td>16106.0</td>\n",
       "      <td>0.0</td>\n",
       "      <td>454.5</td>\n",
       "      <td>0.0</td>\n",
       "      <td>502.0</td>\n",
       "      <td>327.0</td>\n",
       "    </tr>\n",
       "    <tr>\n",
       "      <th>18813</th>\n",
       "      <td>12</td>\n",
       "      <td>8488000.0</td>\n",
       "      <td>72.00</td>\n",
       "      <td>2018-12-15T00:00:00</td>\n",
       "      <td>3</td>\n",
       "      <td>2.65</td>\n",
       "      <td>13.0</td>\n",
       "      <td>43.0</td>\n",
       "      <td>3</td>\n",
       "      <td>False</td>\n",
       "      <td>...</td>\n",
       "      <td>8.5</td>\n",
       "      <td>0.0</td>\n",
       "      <td>Санкт-Петербург</td>\n",
       "      <td>10958.0</td>\n",
       "      <td>13427.0</td>\n",
       "      <td>0.0</td>\n",
       "      <td>454.5</td>\n",
       "      <td>0.0</td>\n",
       "      <td>502.0</td>\n",
       "      <td>0.0</td>\n",
       "    </tr>\n",
       "    <tr>\n",
       "      <th>18004</th>\n",
       "      <td>12</td>\n",
       "      <td>4300000.0</td>\n",
       "      <td>62.00</td>\n",
       "      <td>2017-12-11T00:00:00</td>\n",
       "      <td>2</td>\n",
       "      <td>2.65</td>\n",
       "      <td>16.0</td>\n",
       "      <td>30.0</td>\n",
       "      <td>2</td>\n",
       "      <td>False</td>\n",
       "      <td>...</td>\n",
       "      <td>10.6</td>\n",
       "      <td>0.0</td>\n",
       "      <td>Всеволожск</td>\n",
       "      <td>26756.5</td>\n",
       "      <td>13105.0</td>\n",
       "      <td>0.0</td>\n",
       "      <td>454.5</td>\n",
       "      <td>1.0</td>\n",
       "      <td>502.0</td>\n",
       "      <td>43.0</td>\n",
       "    </tr>\n",
       "  </tbody>\n",
       "</table>\n",
       "<p>10 rows × 22 columns</p>\n",
       "</div>"
      ],
      "text/plain": [
       "       total_images  last_price  total_area first_day_exposition  rooms  \\\n",
       "20698            10   3400000.0       32.00  2017-09-02T00:00:00      1   \n",
       "12223            20  59000000.0      127.50  2017-01-24T00:00:00      4   \n",
       "1269             12   7000000.0       53.70  2017-09-27T00:00:00      2   \n",
       "4044              7   3250000.0       32.60  2018-08-27T00:00:00      1   \n",
       "4400              4  12300000.0       78.65  2017-09-09T00:00:00      3   \n",
       "23518             1   6200000.0       55.00  2017-12-16T00:00:00      2   \n",
       "12241            10   4100000.0       40.00  2017-09-26T00:00:00      2   \n",
       "14848            17   3500000.0       32.80  2017-10-11T00:00:00      1   \n",
       "18813            12   8488000.0       72.00  2018-12-15T00:00:00      3   \n",
       "18004            12   4300000.0       62.00  2017-12-11T00:00:00      2   \n",
       "\n",
       "       ceiling_height  floors_total  living_area  floor  is_apartment  ...  \\\n",
       "20698            2.60           9.0         17.9      6         False  ...   \n",
       "12223            3.00          12.0         85.0      8         False  ...   \n",
       "1269             2.65          12.0         28.6     11         False  ...   \n",
       "4044             2.65          25.0         16.0     16         False  ...   \n",
       "4400             2.65           5.0         48.0      1         False  ...   \n",
       "23518            3.00           6.0         32.2      2         False  ...   \n",
       "12241            3.03           5.0         29.1      1         False  ...   \n",
       "14848            2.50           9.0         17.4      4         False  ...   \n",
       "18813            2.65          13.0         43.0      3         False  ...   \n",
       "18004            2.65          16.0         30.0      2         False  ...   \n",
       "\n",
       "       kitchen_area  balcony    locality_name  airports_nearest  \\\n",
       "20698           6.3      0.0  Санкт-Петербург           45014.0   \n",
       "12223          13.0      4.0  Санкт-Петербург           28098.0   \n",
       "1269           15.7      2.0  Санкт-Петербург           26766.0   \n",
       "4044            8.2      0.0   посёлок Шушары           13908.0   \n",
       "4400           11.0      0.0           Пушкин           14567.0   \n",
       "23518           8.4      0.0  Санкт-Петербург           16245.0   \n",
       "12241           6.5      0.0  Санкт-Петербург           30942.0   \n",
       "14848           8.1      0.0  Санкт-Петербург           47981.0   \n",
       "18813           8.5      0.0  Санкт-Петербург           10958.0   \n",
       "18004          10.6      0.0       Всеволожск           26756.5   \n",
       "\n",
       "      cityCenters_nearest  parks_around3000  parks_nearest  ponds_around3000  \\\n",
       "20698             17252.0               0.0          454.5               0.0   \n",
       "12223              6800.0               2.0           84.0               3.0   \n",
       "1269              10939.0               1.0          524.0               1.0   \n",
       "4044              19694.0               0.0          454.5               1.0   \n",
       "4400              26720.0               2.0          403.0               0.0   \n",
       "23518              7776.0               0.0          454.5               0.0   \n",
       "12241              5839.0               0.0          454.5               1.0   \n",
       "14848             16106.0               0.0          454.5               0.0   \n",
       "18813             13427.0               0.0          454.5               0.0   \n",
       "18004             13105.0               0.0          454.5               1.0   \n",
       "\n",
       "       ponds_nearest  days_exposition  \n",
       "20698          502.0             89.0  \n",
       "12223          234.0              5.0  \n",
       "1269           913.0             60.0  \n",
       "4044           645.0             63.0  \n",
       "4400           502.0              4.0  \n",
       "23518          502.0             47.0  \n",
       "12241          919.0            181.0  \n",
       "14848          502.0            327.0  \n",
       "18813          502.0              0.0  \n",
       "18004          502.0             43.0  \n",
       "\n",
       "[10 rows x 22 columns]"
      ]
     },
     "execution_count": 17,
     "metadata": {},
     "output_type": "execute_result"
    }
   ],
   "source": [
    "# посмотрим как теперь выглядят данные\n",
    "data.sample(10)\n",
    "# можно и распределение посмотреть\n",
    "#data['is_apartment'].unique()\n",
    "#data['balcony'].value_counts().sort_values()\n",
    "#data['floor'].value_counts().sort_values()"
   ]
  },
  {
   "cell_type": "markdown",
   "metadata": {},
   "source": [
    "2.2.\tРассмотрите типы данных в каждом столбце:\n",
    "o\tНайдите столбцы, в которых нужно изменить тип данных.\n",
    "o\tПреобразуйте тип данных в выбранных столбцах.\n",
    "o\tВ ячейке с типом markdown поясните, почему нужно изменить тип данных.\n",
    "\n",
    "Этажи и балконы имеют целые значения, им можно присвоить int\n",
    "Число парков и число водоемов в радиусе 3 км тоже целочисленный тип"
   ]
  },
  {
   "cell_type": "code",
   "execution_count": 18,
   "metadata": {
    "scrolled": false
   },
   "outputs": [
    {
     "name": "stdout",
     "output_type": "stream",
     "text": [
      "<class 'pandas.core.frame.DataFrame'>\n",
      "Int64Index: 23650 entries, 0 to 23698\n",
      "Data columns (total 22 columns):\n",
      " #   Column                Non-Null Count  Dtype  \n",
      "---  ------                --------------  -----  \n",
      " 0   total_images          23650 non-null  int64  \n",
      " 1   last_price            23650 non-null  float64\n",
      " 2   total_area            23650 non-null  float64\n",
      " 3   first_day_exposition  23650 non-null  object \n",
      " 4   rooms                 23650 non-null  int64  \n",
      " 5   ceiling_height        23650 non-null  float64\n",
      " 6   floors_total          23650 non-null  int64  \n",
      " 7   living_area           23650 non-null  float64\n",
      " 8   floor                 23650 non-null  int64  \n",
      " 9   is_apartment          23650 non-null  bool   \n",
      " 10  studio                23650 non-null  bool   \n",
      " 11  open_plan             23650 non-null  bool   \n",
      " 12  kitchen_area          23650 non-null  float64\n",
      " 13  balcony               23650 non-null  int64  \n",
      " 14  locality_name         23650 non-null  object \n",
      " 15  airports_nearest      23650 non-null  float64\n",
      " 16  cityCenters_nearest   23650 non-null  float64\n",
      " 17  parks_around3000      23650 non-null  int64  \n",
      " 18  parks_nearest         23650 non-null  float64\n",
      " 19  ponds_around3000      23650 non-null  int64  \n",
      " 20  ponds_nearest         23650 non-null  float64\n",
      " 21  days_exposition       23650 non-null  float64\n",
      "dtypes: bool(3), float64(10), int64(7), object(2)\n",
      "memory usage: 4.2+ MB\n"
     ]
    }
   ],
   "source": [
    "# попытка сделать через цикл for \n",
    "#for x in ['floors_total', 'balcony', 'parks_around3000','ponds_around3000']:\n",
    "#    data[x].astype('int', errors='ignore')\n",
    "    \n",
    "data['floors_total']=data['floors_total'].astype('int')\n",
    "data['balcony']=data['balcony'].astype('int')\n",
    "data['parks_around3000']=data['parks_around3000'].astype('int', errors='ignore')\n",
    "data['ponds_around3000']=data['ponds_around3000'].astype('int', errors='ignore')\n",
    "data.info() \n",
    "# data['floors_total'] = data['floors_total'].astype(int, errors='ignore')#.to_frame()\n",
    "#data['floors_total'].unique()"
   ]
  },
  {
   "cell_type": "code",
   "execution_count": 19,
   "metadata": {},
   "outputs": [
    {
     "data": {
      "text/html": [
       "<div>\n",
       "<style scoped>\n",
       "    .dataframe tbody tr th:only-of-type {\n",
       "        vertical-align: middle;\n",
       "    }\n",
       "\n",
       "    .dataframe tbody tr th {\n",
       "        vertical-align: top;\n",
       "    }\n",
       "\n",
       "    .dataframe thead th {\n",
       "        text-align: right;\n",
       "    }\n",
       "</style>\n",
       "<table border=\"1\" class=\"dataframe\">\n",
       "  <thead>\n",
       "    <tr style=\"text-align: right;\">\n",
       "      <th></th>\n",
       "      <th>total_images</th>\n",
       "      <th>last_price</th>\n",
       "      <th>total_area</th>\n",
       "      <th>first_day_exposition</th>\n",
       "      <th>rooms</th>\n",
       "      <th>ceiling_height</th>\n",
       "      <th>floors_total</th>\n",
       "      <th>living_area</th>\n",
       "      <th>floor</th>\n",
       "      <th>is_apartment</th>\n",
       "      <th>...</th>\n",
       "      <th>kitchen_area</th>\n",
       "      <th>balcony</th>\n",
       "      <th>locality_name</th>\n",
       "      <th>airports_nearest</th>\n",
       "      <th>cityCenters_nearest</th>\n",
       "      <th>parks_around3000</th>\n",
       "      <th>parks_nearest</th>\n",
       "      <th>ponds_around3000</th>\n",
       "      <th>ponds_nearest</th>\n",
       "      <th>days_exposition</th>\n",
       "    </tr>\n",
       "  </thead>\n",
       "  <tbody>\n",
       "    <tr>\n",
       "      <th>20065</th>\n",
       "      <td>9</td>\n",
       "      <td>4840000.0</td>\n",
       "      <td>44.0</td>\n",
       "      <td>2017-06-08</td>\n",
       "      <td>2</td>\n",
       "      <td>2.55</td>\n",
       "      <td>5</td>\n",
       "      <td>28.0</td>\n",
       "      <td>2</td>\n",
       "      <td>False</td>\n",
       "      <td>...</td>\n",
       "      <td>5.5</td>\n",
       "      <td>1</td>\n",
       "      <td>Санкт-Петербург</td>\n",
       "      <td>10635.0</td>\n",
       "      <td>9892.0</td>\n",
       "      <td>2</td>\n",
       "      <td>416.0</td>\n",
       "      <td>0</td>\n",
       "      <td>502.0</td>\n",
       "      <td>258.0</td>\n",
       "    </tr>\n",
       "    <tr>\n",
       "      <th>16889</th>\n",
       "      <td>20</td>\n",
       "      <td>23290000.0</td>\n",
       "      <td>139.8</td>\n",
       "      <td>2016-08-04</td>\n",
       "      <td>3</td>\n",
       "      <td>3.00</td>\n",
       "      <td>8</td>\n",
       "      <td>78.9</td>\n",
       "      <td>6</td>\n",
       "      <td>False</td>\n",
       "      <td>...</td>\n",
       "      <td>18.3</td>\n",
       "      <td>0</td>\n",
       "      <td>Санкт-Петербург</td>\n",
       "      <td>36998.0</td>\n",
       "      <td>9189.0</td>\n",
       "      <td>1</td>\n",
       "      <td>2409.0</td>\n",
       "      <td>3</td>\n",
       "      <td>195.0</td>\n",
       "      <td>0.0</td>\n",
       "    </tr>\n",
       "    <tr>\n",
       "      <th>16380</th>\n",
       "      <td>2</td>\n",
       "      <td>3100000.0</td>\n",
       "      <td>30.5</td>\n",
       "      <td>2018-11-21</td>\n",
       "      <td>1</td>\n",
       "      <td>2.50</td>\n",
       "      <td>5</td>\n",
       "      <td>18.0</td>\n",
       "      <td>2</td>\n",
       "      <td>False</td>\n",
       "      <td>...</td>\n",
       "      <td>6.0</td>\n",
       "      <td>0</td>\n",
       "      <td>Санкт-Петербург</td>\n",
       "      <td>24345.0</td>\n",
       "      <td>15424.0</td>\n",
       "      <td>0</td>\n",
       "      <td>454.5</td>\n",
       "      <td>0</td>\n",
       "      <td>502.0</td>\n",
       "      <td>27.0</td>\n",
       "    </tr>\n",
       "    <tr>\n",
       "      <th>23194</th>\n",
       "      <td>14</td>\n",
       "      <td>3900000.0</td>\n",
       "      <td>41.0</td>\n",
       "      <td>2017-09-19</td>\n",
       "      <td>1</td>\n",
       "      <td>2.75</td>\n",
       "      <td>17</td>\n",
       "      <td>20.0</td>\n",
       "      <td>16</td>\n",
       "      <td>False</td>\n",
       "      <td>...</td>\n",
       "      <td>8.0</td>\n",
       "      <td>0</td>\n",
       "      <td>Санкт-Петербург</td>\n",
       "      <td>17049.0</td>\n",
       "      <td>16956.0</td>\n",
       "      <td>0</td>\n",
       "      <td>454.5</td>\n",
       "      <td>1</td>\n",
       "      <td>755.0</td>\n",
       "      <td>126.0</td>\n",
       "    </tr>\n",
       "    <tr>\n",
       "      <th>11907</th>\n",
       "      <td>12</td>\n",
       "      <td>2600000.0</td>\n",
       "      <td>31.0</td>\n",
       "      <td>2017-03-21</td>\n",
       "      <td>1</td>\n",
       "      <td>2.65</td>\n",
       "      <td>4</td>\n",
       "      <td>16.7</td>\n",
       "      <td>4</td>\n",
       "      <td>False</td>\n",
       "      <td>...</td>\n",
       "      <td>5.3</td>\n",
       "      <td>1</td>\n",
       "      <td>Санкт-Петербург</td>\n",
       "      <td>17128.0</td>\n",
       "      <td>17036.0</td>\n",
       "      <td>0</td>\n",
       "      <td>454.5</td>\n",
       "      <td>1</td>\n",
       "      <td>860.0</td>\n",
       "      <td>209.0</td>\n",
       "    </tr>\n",
       "    <tr>\n",
       "      <th>21212</th>\n",
       "      <td>6</td>\n",
       "      <td>3950000.0</td>\n",
       "      <td>62.0</td>\n",
       "      <td>2016-08-05</td>\n",
       "      <td>2</td>\n",
       "      <td>2.65</td>\n",
       "      <td>9</td>\n",
       "      <td>34.0</td>\n",
       "      <td>2</td>\n",
       "      <td>False</td>\n",
       "      <td>...</td>\n",
       "      <td>11.3</td>\n",
       "      <td>0</td>\n",
       "      <td>посёлок Шушары</td>\n",
       "      <td>23592.0</td>\n",
       "      <td>29378.0</td>\n",
       "      <td>0</td>\n",
       "      <td>454.5</td>\n",
       "      <td>1</td>\n",
       "      <td>400.0</td>\n",
       "      <td>103.0</td>\n",
       "    </tr>\n",
       "    <tr>\n",
       "      <th>22281</th>\n",
       "      <td>10</td>\n",
       "      <td>11700000.0</td>\n",
       "      <td>92.0</td>\n",
       "      <td>2016-03-14</td>\n",
       "      <td>3</td>\n",
       "      <td>2.75</td>\n",
       "      <td>19</td>\n",
       "      <td>56.9</td>\n",
       "      <td>3</td>\n",
       "      <td>False</td>\n",
       "      <td>...</td>\n",
       "      <td>17.0</td>\n",
       "      <td>2</td>\n",
       "      <td>Санкт-Петербург</td>\n",
       "      <td>19174.0</td>\n",
       "      <td>7397.0</td>\n",
       "      <td>1</td>\n",
       "      <td>552.0</td>\n",
       "      <td>1</td>\n",
       "      <td>202.0</td>\n",
       "      <td>638.0</td>\n",
       "    </tr>\n",
       "    <tr>\n",
       "      <th>16753</th>\n",
       "      <td>20</td>\n",
       "      <td>6920000.0</td>\n",
       "      <td>56.4</td>\n",
       "      <td>2018-09-05</td>\n",
       "      <td>2</td>\n",
       "      <td>2.75</td>\n",
       "      <td>14</td>\n",
       "      <td>33.6</td>\n",
       "      <td>7</td>\n",
       "      <td>False</td>\n",
       "      <td>...</td>\n",
       "      <td>8.7</td>\n",
       "      <td>2</td>\n",
       "      <td>Санкт-Петербург</td>\n",
       "      <td>19403.0</td>\n",
       "      <td>14211.0</td>\n",
       "      <td>1</td>\n",
       "      <td>58.0</td>\n",
       "      <td>0</td>\n",
       "      <td>502.0</td>\n",
       "      <td>104.0</td>\n",
       "    </tr>\n",
       "    <tr>\n",
       "      <th>22882</th>\n",
       "      <td>5</td>\n",
       "      <td>4600000.0</td>\n",
       "      <td>46.0</td>\n",
       "      <td>2017-07-17</td>\n",
       "      <td>1</td>\n",
       "      <td>2.65</td>\n",
       "      <td>14</td>\n",
       "      <td>19.0</td>\n",
       "      <td>5</td>\n",
       "      <td>False</td>\n",
       "      <td>...</td>\n",
       "      <td>15.0</td>\n",
       "      <td>2</td>\n",
       "      <td>Санкт-Петербург</td>\n",
       "      <td>35723.0</td>\n",
       "      <td>16024.0</td>\n",
       "      <td>1</td>\n",
       "      <td>620.0</td>\n",
       "      <td>3</td>\n",
       "      <td>422.0</td>\n",
       "      <td>122.0</td>\n",
       "    </tr>\n",
       "    <tr>\n",
       "      <th>8071</th>\n",
       "      <td>0</td>\n",
       "      <td>2000000.0</td>\n",
       "      <td>52.0</td>\n",
       "      <td>2018-06-25</td>\n",
       "      <td>2</td>\n",
       "      <td>3.00</td>\n",
       "      <td>3</td>\n",
       "      <td>30.0</td>\n",
       "      <td>1</td>\n",
       "      <td>False</td>\n",
       "      <td>...</td>\n",
       "      <td>10.6</td>\n",
       "      <td>0</td>\n",
       "      <td>Волхов</td>\n",
       "      <td>26756.5</td>\n",
       "      <td>13105.0</td>\n",
       "      <td>0</td>\n",
       "      <td>454.5</td>\n",
       "      <td>1</td>\n",
       "      <td>502.0</td>\n",
       "      <td>33.0</td>\n",
       "    </tr>\n",
       "  </tbody>\n",
       "</table>\n",
       "<p>10 rows × 22 columns</p>\n",
       "</div>"
      ],
      "text/plain": [
       "       total_images  last_price  total_area first_day_exposition  rooms  \\\n",
       "20065             9   4840000.0        44.0           2017-06-08      2   \n",
       "16889            20  23290000.0       139.8           2016-08-04      3   \n",
       "16380             2   3100000.0        30.5           2018-11-21      1   \n",
       "23194            14   3900000.0        41.0           2017-09-19      1   \n",
       "11907            12   2600000.0        31.0           2017-03-21      1   \n",
       "21212             6   3950000.0        62.0           2016-08-05      2   \n",
       "22281            10  11700000.0        92.0           2016-03-14      3   \n",
       "16753            20   6920000.0        56.4           2018-09-05      2   \n",
       "22882             5   4600000.0        46.0           2017-07-17      1   \n",
       "8071              0   2000000.0        52.0           2018-06-25      2   \n",
       "\n",
       "       ceiling_height  floors_total  living_area  floor  is_apartment  ...  \\\n",
       "20065            2.55             5         28.0      2         False  ...   \n",
       "16889            3.00             8         78.9      6         False  ...   \n",
       "16380            2.50             5         18.0      2         False  ...   \n",
       "23194            2.75            17         20.0     16         False  ...   \n",
       "11907            2.65             4         16.7      4         False  ...   \n",
       "21212            2.65             9         34.0      2         False  ...   \n",
       "22281            2.75            19         56.9      3         False  ...   \n",
       "16753            2.75            14         33.6      7         False  ...   \n",
       "22882            2.65            14         19.0      5         False  ...   \n",
       "8071             3.00             3         30.0      1         False  ...   \n",
       "\n",
       "       kitchen_area  balcony    locality_name  airports_nearest  \\\n",
       "20065           5.5        1  Санкт-Петербург           10635.0   \n",
       "16889          18.3        0  Санкт-Петербург           36998.0   \n",
       "16380           6.0        0  Санкт-Петербург           24345.0   \n",
       "23194           8.0        0  Санкт-Петербург           17049.0   \n",
       "11907           5.3        1  Санкт-Петербург           17128.0   \n",
       "21212          11.3        0   посёлок Шушары           23592.0   \n",
       "22281          17.0        2  Санкт-Петербург           19174.0   \n",
       "16753           8.7        2  Санкт-Петербург           19403.0   \n",
       "22882          15.0        2  Санкт-Петербург           35723.0   \n",
       "8071           10.6        0           Волхов           26756.5   \n",
       "\n",
       "      cityCenters_nearest  parks_around3000  parks_nearest  ponds_around3000  \\\n",
       "20065              9892.0                 2          416.0                 0   \n",
       "16889              9189.0                 1         2409.0                 3   \n",
       "16380             15424.0                 0          454.5                 0   \n",
       "23194             16956.0                 0          454.5                 1   \n",
       "11907             17036.0                 0          454.5                 1   \n",
       "21212             29378.0                 0          454.5                 1   \n",
       "22281              7397.0                 1          552.0                 1   \n",
       "16753             14211.0                 1           58.0                 0   \n",
       "22882             16024.0                 1          620.0                 3   \n",
       "8071              13105.0                 0          454.5                 1   \n",
       "\n",
       "       ponds_nearest  days_exposition  \n",
       "20065          502.0            258.0  \n",
       "16889          195.0              0.0  \n",
       "16380          502.0             27.0  \n",
       "23194          755.0            126.0  \n",
       "11907          860.0            209.0  \n",
       "21212          400.0            103.0  \n",
       "22281          202.0            638.0  \n",
       "16753          502.0            104.0  \n",
       "22882          422.0            122.0  \n",
       "8071           502.0             33.0  \n",
       "\n",
       "[10 rows x 22 columns]"
      ]
     },
     "execution_count": 19,
     "metadata": {},
     "output_type": "execute_result"
    }
   ],
   "source": [
    "# дату публикации поменяем\n",
    "data['first_day_exposition'] = pd.to_datetime(data['first_day_exposition'], format=\"%Y-%m-%dT%H:%M:%S\")\n",
    "data.sample(10)"
   ]
  },
  {
   "cell_type": "markdown",
   "metadata": {},
   "source": [
    "2.3.\tИзучите уникальные значения в столбце с названиями и устраните неявные дубликаты. Например, «поселок Рябово» и «поселок городского типа Рябово», «поселок Тельмана» и «посёлок Тельмана» — это обозначения одних и тех же населённых пунктов. Вы можете заменить названия в существующем столбце или создать новый с названиями без дубликатов."
   ]
  },
  {
   "cell_type": "code",
   "execution_count": 20,
   "metadata": {
    "scrolled": true
   },
   "outputs": [
    {
     "name": "stdout",
     "output_type": "stream",
     "text": [
      "['санкт-петербург' 'поселок шушары' 'городской поселок янино-1'\n",
      " 'поселок парголово' 'поселок мурино' 'ломоносов' 'сертолово' 'петергоф'\n",
      " 'пушкин' 'деревня кудрово' 'коммунар' 'колпино'\n",
      " 'городской поселок красный бор' 'гатчина' 'деревня федоровское' 'выборг'\n",
      " 'кронштадт' 'кировск' 'деревня новое девяткино' 'поселок металлострой'\n",
      " 'городской поселок лебяжье' 'городской поселок сиверский'\n",
      " 'поселок молодцово' 'городской поселок кузьмоловский'\n",
      " 'садовое товарищество новая ропша' 'павловск' 'деревня пикколово'\n",
      " 'всеволожск' 'волхов' 'кингисепп' 'приозерск' 'сестрорецк'\n",
      " 'деревня куттузи' 'поселок аннино' 'городской поселок ефимовский'\n",
      " 'поселок плодовое' 'деревня заклинье' 'поселок торковичи'\n",
      " 'поселок первомайское' 'красное село' 'поселок понтонный' 'сясьстрой'\n",
      " 'деревня старая' 'деревня лесколово' 'поселок новый свет' 'сланцы'\n",
      " 'село путилово' 'ивангород' 'мурино' 'шлиссельбург' 'никольское'\n",
      " 'зеленогорск' 'сосновый бор' 'деревня оржицы' 'деревня кальтино'\n",
      " 'кудрово' 'поселок романовка' 'поселок бугры' 'городской поселок рощино'\n",
      " 'кириши' 'луга' 'волосово' 'отрадное' 'село павлово' 'поселок оредеж'\n",
      " 'село копорье' 'поселок молодежное' 'тихвин' 'поселок победа'\n",
      " 'деревня нурма' 'городской поселок синявино' 'тосно' 'поселок стрельна'\n",
      " 'бокситогорск' 'поселок александровская' 'деревня лопухинка' 'пикалево'\n",
      " 'поселок терволово' 'городской поселок советский' 'подпорожье'\n",
      " 'поселок петровское' 'городской поселок токсово' 'поселок сельцо'\n",
      " 'городской поселок вырица' 'деревня кипень' 'деревня келози'\n",
      " 'деревня вартемяги' 'поселок тельмана' 'поселок севастьяново'\n",
      " 'городской поселок большая ижора' 'городской поселок павлово'\n",
      " 'деревня агалатово' 'поселок новогорелово'\n",
      " 'городской поселок лесогорский' 'деревня лаголово' 'поселок цвелодубово'\n",
      " 'городской поселок рахья' 'деревня белогорка' 'поселок заводской'\n",
      " 'городской поселок новоселье' 'деревня большие колпаны'\n",
      " 'деревня горбунки' 'деревня батово' 'деревня заневка' 'деревня иссад'\n",
      " 'приморск' 'городской поселок федоровское' 'деревня мистолово'\n",
      " 'новая ладога' 'поселок зимитицы' 'поселок барышево'\n",
      " 'деревня разметелево' 'городской поселок имени свердлова'\n",
      " 'деревня пеники' 'поселок рябово' 'деревня пудомяги'\n",
      " 'поселок станции корнево' 'деревня низино' 'деревня бегуницы'\n",
      " 'поселок поляны' 'городской поселок мга' 'поселок елизаветино'\n",
      " 'городской поселок кузнечное' 'деревня колтуши' 'поселок запорожское'\n",
      " 'деревня гостилицы' 'деревня малое карлино' 'поселок мичуринское'\n",
      " 'городской поселок имени морозова' 'поселок песочный' 'поселок сосново'\n",
      " 'деревня аро' 'поселок ильичево' 'городской поселок тайцы'\n",
      " 'деревня малое верево' 'деревня извара' 'поселок станции вещево'\n",
      " 'село паша' 'деревня калитино' 'городской поселок ульяновка'\n",
      " 'деревня чудской бор' 'городской поселок дубровка' 'деревня мины'\n",
      " 'поселок войсковицы' 'деревня коркино' 'поселок ропша'\n",
      " 'городской поселок приладожский' 'поселок щеглово' 'поселок гаврилово'\n",
      " 'лодейное поле' 'деревня рабитицы' 'городской поселок никольский'\n",
      " 'деревня кузьмолово' 'деревня малые колпаны' 'поселок петро-славянка'\n",
      " 'городской поселок назия' 'поселок репино' 'поселок углово'\n",
      " 'поселок старая малукса' 'садовое товарищество рахья' 'деревня меньково'\n",
      " 'деревня старые бегуницы' 'поселок саперный' 'поселок семрино'\n",
      " 'поселок глажево' 'поселок кобринское' 'деревня гарболово' 'деревня юкки'\n",
      " 'поселок станции приветнинское' 'деревня мануйлово' 'деревня пчева'\n",
      " 'поселок цвылево' 'поселок мельниково' 'поселок пудость'\n",
      " 'поселок усть-луга' 'светогорск' 'любань' 'поселок селезнево'\n",
      " 'городской поселок рябово' 'каменногорск' 'деревня кривко'\n",
      " 'поселок глебычево' 'деревня парицы' 'поселок жилпоселок'\n",
      " 'поселок войскорово' 'село никольское' 'поселок стеклянный'\n",
      " 'городской поселок важины' 'поселок мыза-ивановка' 'село русско-высоцкое'\n",
      " 'городской поселок форносово' 'село старая ладога' 'поселок житково'\n",
      " 'городской поселок виллози' 'деревня лампово' 'деревня шпаньково'\n",
      " 'деревня лаврики' 'поселок сумино' 'поселок возрождение'\n",
      " 'деревня старосиверская' 'поселок кикерино' 'деревня старое хинколово'\n",
      " 'поселок пригородный' 'поселок торфяное' 'городской поселок будогощь'\n",
      " 'поселок суходолье' 'поселок красная долина' 'деревня хапо-ое'\n",
      " 'городской поселок дружная горка' 'поселок лисий нос' 'деревня яльгелево'\n",
      " 'село рождествено' 'деревня старополье' 'поселок левашово'\n",
      " 'деревня сяськелево' 'деревня камышовка'\n",
      " 'садоводческое некоммерческое товарищество лесная поляна'\n",
      " 'деревня хязельки' 'поселок жилгородок' 'деревня ялгино'\n",
      " 'поселок новый учхоз' 'поселок гончарово' 'поселок почап'\n",
      " 'поселок саперное' 'поселок платформа 69-й километр' 'поселок каложицы'\n",
      " 'деревня фалилеево' 'деревня пельгора' 'деревня торошковичи'\n",
      " 'поселок белоостров' 'поселок алексеевка' 'поселок серебрянский'\n",
      " 'поселок лукаши' 'деревня щеглово' 'деревня тарасово'\n",
      " 'поселок кингисеппский' 'поселок при железнодорожной станции вещево'\n",
      " 'поселок ушаки' 'деревня котлы' 'деревня сижно' 'деревня торосово'\n",
      " 'поселок форт красная горка' 'деревня новолисино'\n",
      " 'поселок станции громово' 'деревня глинка' 'деревня старая пустошь'\n",
      " 'поселок коммунары' 'поселок починок' 'городской поселок вознесенье'\n",
      " 'деревня разбегаево' 'поселок гладкое'\n",
      " 'поселок при железнодорожной станции приветнинское' 'поселок тесово-4'\n",
      " 'деревня бор' 'поселок коробицыно' 'деревня большая вруда'\n",
      " 'деревня курковицы' 'поселок кобралово' 'деревня суоранда'\n",
      " 'городской поселок кондратьево' 'коттеджный поселок счастье'\n",
      " 'поселок любань' 'деревня реброво' 'деревня зимитицы' 'деревня тойворово'\n",
      " 'поселок семиозерье' 'поселок лесное' 'поселок совхозный'\n",
      " 'поселок ленинское' 'поселок суйда' 'деревня нижние осельки'\n",
      " 'поселок станции свирь' 'поселок перово' 'высоцк' 'поселок гарболово'\n",
      " 'село шум' 'поселок котельский' 'поселок станции лужайка'\n",
      " 'деревня большая пустомержа' 'поселок красносельское'\n",
      " 'деревня вахнова кара' 'деревня пижма'\n",
      " 'коттеджный поселок кивеннапа север' 'поселок ромашки' 'деревня каськово'\n",
      " 'деревня куровицы' 'поселок плоское' 'поселок кирпичное'\n",
      " 'деревня ям-тесово' 'деревня раздолье' 'деревня терпилицы'\n",
      " 'поселок шугозеро' 'деревня ваганово' 'поселок пушное'\n",
      " 'садовое товарищество садко' 'поселок усть-ижора' 'деревня выскатка'\n",
      " 'городской поселок свирьстрой' 'поселок громово' 'деревня кисельня'\n",
      " 'деревня трубников бор' 'поселок калитино' 'поселок высокоключевой'\n",
      " 'садовое товарищество приладожский' 'поселок пансионат зеленый бор'\n",
      " 'деревня ненимяки' 'деревня снегиревка' 'деревня рапполово'\n",
      " 'деревня пустынка' 'поселок рабитицы' 'деревня большой сабск'\n",
      " 'деревня русско' 'деревня лупполово' 'деревня большое рейзино'\n",
      " 'деревня малая романовка' 'поселок дружноселье' 'поселок пчевжа'\n",
      " 'поселок володарское' 'деревня нижняя' 'коттеджный поселок лесное'\n",
      " 'деревня тихковицы' 'деревня борисова грива' 'поселок дзержинского']\n"
     ]
    }
   ],
   "source": [
    "# обработаем название населённого пункта\n",
    "\n",
    "# приводим к нижнему регистру\n",
    "data['locality_name'] = data['locality_name'].str.lower()\n",
    "# Заменяем е на ё\n",
    "data['locality_name'] = data['locality_name'].str.replace('ё', 'е', regex=True)\n",
    "# заменяем \n",
    "data['locality_name'] = data['locality_name'].str.replace('поселок городского типа', 'городской поселок')\n",
    "print(data['locality_name'].unique())"
   ]
  },
  {
   "cell_type": "code",
   "execution_count": 21,
   "metadata": {},
   "outputs": [
    {
     "data": {
      "text/plain": [
       "323"
      ]
     },
     "execution_count": 21,
     "metadata": {},
     "output_type": "execute_result"
    }
   ],
   "source": [
    "# check\n",
    "data['locality_name'].nunique()"
   ]
  },
  {
   "cell_type": "markdown",
   "metadata": {},
   "source": [
    "2.4.\tНайдите и устраните редкие и выбивающиеся значения. Например, в столбце ceiling_height может быть указана высота потолков 25 м и 32 м. Логично предположить, что на самом деле это вещественные значения: 2.5 м и 3.2 м. Попробуйте обработать аномалии в этом и других столбцах.\n",
    "o\tЕсли природа аномалии понятна и данные действительно искажены, то восстановите корректное значение.\n",
    "o\tВ противном случае удалите редкие и выбивающиеся значения.\n",
    "o\tВ ячейке с типом markdown опишите, какие особенности в данных вы обнаружили.\n"
   ]
  },
  {
   "cell_type": "code",
   "execution_count": 22,
   "metadata": {},
   "outputs": [
    {
     "name": "stdout",
     "output_type": "stream",
     "text": [
      "2.65     9836\n",
      "2.50     3522\n",
      "2.60     1646\n",
      "2.70     1580\n",
      "3.00     1109\n",
      "         ... \n",
      "3.76        1\n",
      "10.00       1\n",
      "2.49        1\n",
      "2.89        1\n",
      "4.65        1\n",
      "Name: ceiling_height, Length: 178, dtype: int64\n"
     ]
    },
    {
     "data": {
      "image/png": "[encoded data removed]",
      "text/plain": [
       "<Figure size 504x360 with 1 Axes>"
      ]
     },
     "metadata": {
      "needs_background": "light"
     },
     "output_type": "display_data"
    }
   ],
   "source": [
    "# ceiling_height высота потолков выше 21 метра вряд ли бывает. Уменьшим на 10. \n",
    "data.loc[(data['ceiling_height'] >= 21), 'ceiling_height'] = data['ceiling_height']*0.1\n",
    "         \n",
    "print(data['ceiling_height'].value_counts())\n",
    "data['ceiling_height'].hist(figsize=(7, 5));"
   ]
  },
  {
   "cell_type": "code",
   "execution_count": 23,
   "metadata": {},
   "outputs": [
    {
     "name": "stdout",
     "output_type": "stream",
     "text": [
      "[ 2.7   2.65  3.03  2.5   2.67  2.56  3.05  2.75  2.6   2.9   2.8   2.55\n",
      "  3.    3.2   2.61  3.25  3.45  2.77  2.85  2.64  2.57  4.15  3.5   3.3\n",
      "  2.71  4.    2.47  2.73  2.84  3.1   2.34  3.4   3.06  2.72  2.54  2.51\n",
      "  2.78  2.76  2.58  3.7   2.52  5.2   2.87  2.66  2.59  2.    2.45  3.6\n",
      "  2.92  3.11  3.13  3.8   3.15  3.55  3.16  3.62  3.12  2.53  2.74  2.96\n",
      "  2.46  5.3   5.    2.79  2.95  4.06  2.94  3.82  3.54  3.53  2.83  4.7\n",
      "  2.4   3.38  3.01  5.6   3.65  3.9   3.18  3.35  2.3   3.57  2.48  2.62\n",
      "  2.82  3.98  2.63  3.83  3.52  3.95  3.75  2.88  3.67  3.87  3.66  3.85\n",
      "  3.86  4.19  3.24  4.8   4.5   4.2   3.36  3.08  3.68  3.07  3.37  3.09\n",
      "  8.    3.26  3.34  2.81  3.44  2.97  3.14  4.37  2.68  3.22  3.27  4.1\n",
      "  2.93  3.46  2.4   3.47  3.33  3.63  3.32  1.2   8.3   2.98  2.86  3.17\n",
      "  4.4   3.28  3.04  4.45  5.5   3.84  3.23  3.02  3.21  3.43  3.78  4.3\n",
      "  3.39  2.69  3.31  4.65  3.56  2.2   3.51  3.93  3.42  2.99  3.49 14.\n",
      "  4.14  2.91  3.88  1.75  4.25  3.29 20.    2.25  3.76  3.69  6.    2.26\n",
      "  2.89  3.58  5.8   2.49  4.9   3.48 10.3   1.   10.    3.59]\n"
     ]
    }
   ],
   "source": [
    "print(data['ceiling_height'].unique())"
   ]
  },
  {
   "cell_type": "code",
   "execution_count": 24,
   "metadata": {},
   "outputs": [
    {
     "name": "stdout",
     "output_type": "stream",
     "text": [
      "<class 'pandas.core.frame.DataFrame'>\n",
      "Int64Index: 23650 entries, 0 to 23698\n",
      "Data columns (total 22 columns):\n",
      " #   Column                Non-Null Count  Dtype         \n",
      "---  ------                --------------  -----         \n",
      " 0   total_images          23650 non-null  int64         \n",
      " 1   last_price            23650 non-null  float64       \n",
      " 2   total_area            23650 non-null  float64       \n",
      " 3   first_day_exposition  23650 non-null  datetime64[ns]\n",
      " 4   rooms                 23650 non-null  int64         \n",
      " 5   ceiling_height        23650 non-null  float64       \n",
      " 6   floors_total          23650 non-null  int64         \n",
      " 7   living_area           23650 non-null  float64       \n",
      " 8   floor                 23650 non-null  int64         \n",
      " 9   is_apartment          23650 non-null  bool          \n",
      " 10  studio                23650 non-null  bool          \n",
      " 11  open_plan             23650 non-null  bool          \n",
      " 12  kitchen_area          23650 non-null  float64       \n",
      " 13  balcony               23650 non-null  int64         \n",
      " 14  locality_name         23650 non-null  object        \n",
      " 15  airports_nearest      23650 non-null  float64       \n",
      " 16  cityCenters_nearest   23650 non-null  float64       \n",
      " 17  parks_around3000      23650 non-null  int64         \n",
      " 18  parks_nearest         23650 non-null  float64       \n",
      " 19  ponds_around3000      23650 non-null  int64         \n",
      " 20  ponds_nearest         23650 non-null  float64       \n",
      " 21  days_exposition       23650 non-null  float64       \n",
      "dtypes: bool(3), datetime64[ns](1), float64(10), int64(7), object(1)\n",
      "memory usage: 4.2+ MB\n"
     ]
    }
   ],
   "source": [
    "# check\n",
    "data.info()"
   ]
  },
  {
   "cell_type": "code",
   "execution_count": 25,
   "metadata": {
    "scrolled": false
   },
   "outputs": [
    {
     "data": {
      "text/html": [
       "<style  type=\"text/css\" >\n",
       "</style><table id=\"T_29940_\" ><thead>    <tr>        <th class=\"blank level0\" ></th>        <th class=\"col_heading level0 col0\" >rooms</th>        <th class=\"col_heading level0 col1\" >total_area</th>        <th class=\"col_heading level0 col2\" >ceiling_height</th>        <th class=\"col_heading level0 col3\" >days_exposition</th>        <th class=\"col_heading level0 col4\" >last_price</th>        <th class=\"col_heading level0 col5\" >living_area</th>        <th class=\"col_heading level0 col6\" >kitchen_area</th>        <th class=\"col_heading level0 col7\" >floor</th>        <th class=\"col_heading level0 col8\" >floors_total</th>    </tr></thead><tbody>\n",
       "                <tr>\n",
       "                        <th id=\"T_29940_level0_row0\" class=\"row_heading level0 row0\" >count</th>\n",
       "                        <td id=\"T_29940_row0_col0\" class=\"data row0 col0\" >23,650.00</td>\n",
       "                        <td id=\"T_29940_row0_col1\" class=\"data row0 col1\" >23,650.00</td>\n",
       "                        <td id=\"T_29940_row0_col2\" class=\"data row0 col2\" >23,650.00</td>\n",
       "                        <td id=\"T_29940_row0_col3\" class=\"data row0 col3\" >23,650.00</td>\n",
       "                        <td id=\"T_29940_row0_col4\" class=\"data row0 col4\" >23,650.00</td>\n",
       "                        <td id=\"T_29940_row0_col5\" class=\"data row0 col5\" >23,650.00</td>\n",
       "                        <td id=\"T_29940_row0_col6\" class=\"data row0 col6\" >23,650.00</td>\n",
       "                        <td id=\"T_29940_row0_col7\" class=\"data row0 col7\" >23,650.00</td>\n",
       "                        <td id=\"T_29940_row0_col8\" class=\"data row0 col8\" >23,650.00</td>\n",
       "            </tr>\n",
       "            <tr>\n",
       "                        <th id=\"T_29940_level0_row1\" class=\"row_heading level0 row1\" >min</th>\n",
       "                        <td id=\"T_29940_row1_col0\" class=\"data row1 col0\" >0.00</td>\n",
       "                        <td id=\"T_29940_row1_col1\" class=\"data row1 col1\" >12.00</td>\n",
       "                        <td id=\"T_29940_row1_col2\" class=\"data row1 col2\" >1.00</td>\n",
       "                        <td id=\"T_29940_row1_col3\" class=\"data row1 col3\" >0.00</td>\n",
       "                        <td id=\"T_29940_row1_col4\" class=\"data row1 col4\" >12,190.00</td>\n",
       "                        <td id=\"T_29940_row1_col5\" class=\"data row1 col5\" >2.00</td>\n",
       "                        <td id=\"T_29940_row1_col6\" class=\"data row1 col6\" >1.30</td>\n",
       "                        <td id=\"T_29940_row1_col7\" class=\"data row1 col7\" >1.00</td>\n",
       "                        <td id=\"T_29940_row1_col8\" class=\"data row1 col8\" >1.00</td>\n",
       "            </tr>\n",
       "            <tr>\n",
       "                        <th id=\"T_29940_level0_row2\" class=\"row_heading level0 row2\" >max</th>\n",
       "                        <td id=\"T_29940_row2_col0\" class=\"data row2 col0\" >19.00</td>\n",
       "                        <td id=\"T_29940_row2_col1\" class=\"data row2 col1\" >900.00</td>\n",
       "                        <td id=\"T_29940_row2_col2\" class=\"data row2 col2\" >20.00</td>\n",
       "                        <td id=\"T_29940_row2_col3\" class=\"data row2 col3\" >1,580.00</td>\n",
       "                        <td id=\"T_29940_row2_col4\" class=\"data row2 col4\" >763,000,000.00</td>\n",
       "                        <td id=\"T_29940_row2_col5\" class=\"data row2 col5\" >409.70</td>\n",
       "                        <td id=\"T_29940_row2_col6\" class=\"data row2 col6\" >112.00</td>\n",
       "                        <td id=\"T_29940_row2_col7\" class=\"data row2 col7\" >33.00</td>\n",
       "                        <td id=\"T_29940_row2_col8\" class=\"data row2 col8\" >60.00</td>\n",
       "            </tr>\n",
       "    </tbody></table>"
      ],
      "text/plain": [
       "<pandas.io.formats.style.Styler at 0x7f6f106dc4f0>"
      ]
     },
     "execution_count": 25,
     "metadata": {},
     "output_type": "execute_result"
    }
   ],
   "source": [
    "# check\n",
    "\n",
    "# Показатели о кол-ве объявлений в датасете, минимальных и максимальных значениях \n",
    "# в выбранных параметрах о продаже квартир\n",
    "# сырые данные\n",
    "\n",
    "(\n",
    "    data[['rooms', 'total_area', 'ceiling_height', 'days_exposition', 'last_price', 'living_area',  'kitchen_area',\n",
    "          'floor', 'floors_total']]\n",
    "    .apply (['count', 'min', 'max'])   \n",
    "    .style.format(\"{:,.2f}\")\n",
    ")"
   ]
  },
  {
   "cell_type": "markdown",
   "metadata": {},
   "source": [
    "<div class=\"alert alert-success\">\n",
    "<font size=\"4\", color= \"seagreen\"><b>✔️ Комментарий ревьюера</b></font>\n",
    "    <br /> \n",
    "    <font size=\"3\", color = \"black\">\n",
    "<br />Для выполнения пункта 2.4. существует два подхода\n",
    "        \n",
    "Можно механически бороться с выбросами, ...\n",
    "               \n",
    "основная проблема такого подхода — не учитывается неоднородность нашей выборки: у нас здесь и малые поселки, и вторая столица страны, и исторический фонд и массовая застройка, и однушки и довольно большое кол-во многокомнатных квартир, или наоборот одна две квартиры с количеством комнат больше 7-ми ...\n",
    "        \n",
    "\n",
    "        \n",
    "если бы у нас в таблице были бы только однокомнатные квартиры из определенного района массовой застройки, тогда да, мы бы боролись с выбросами традиционными способами, при нашем многообразии населенных пунктов, многокомнатности такие подходы не работают... т.е. они работают, но это усложнит наш проект — придется разбить и объединить записи нашей таблицы по нескольким параметрам (кол-во комнат, район, и т.д.), а затем только выполнять все остальные пункты на каждой отдельной выборке\n",
    "        \n",
    "Остается другой подход — убираем редкие значения и следим за количеством потерь... \n",
    "         \n",
    "Для выборки из 23-х тысяч значений, 4 записи со стоимостью квадратного метра выше 10 млн. руб., довольно редкое явление\n",
    "\n",
    "Хороший пример, высота потолков, которую мы отрезаем по нижней и верхней планке, это скорее аномальные записи, посмотрим на другой аспект — на редкости: кол-во комнат\n",
    "\n",
    "__т.е. мы не говорим о том, что квартир с кол-ом комнат выше 7 не бывает, мы говорим, что для нашего исследования это редкие выбивающиеся из общей картины уникальные объекты, по которым необходимо проводить отдельную работу ...__\n",
    "        \n",
    "подобным образом рассматриваем и остальные параметры\n",
    "        \n",
    "наши помощники\n",
    "        \n",
    "1. гистограммы, с хорошим масштабом\n",
    "2. метод describe() или облегченная версия, пример выше\n",
    "3. метод value_counts()\n",
    "        \n",
    "плюс жизненный опыт "
   ]
  },
  {
   "cell_type": "code",
   "execution_count": 26,
   "metadata": {},
   "outputs": [
    {
     "data": {
      "text/html": [
       "<div>\n",
       "<style scoped>\n",
       "    .dataframe tbody tr th:only-of-type {\n",
       "        vertical-align: middle;\n",
       "    }\n",
       "\n",
       "    .dataframe tbody tr th {\n",
       "        vertical-align: top;\n",
       "    }\n",
       "\n",
       "    .dataframe thead th {\n",
       "        text-align: right;\n",
       "    }\n",
       "</style>\n",
       "<table border=\"1\" class=\"dataframe\">\n",
       "  <thead>\n",
       "    <tr style=\"text-align: right;\">\n",
       "      <th></th>\n",
       "      <th>rooms</th>\n",
       "    </tr>\n",
       "  </thead>\n",
       "  <tbody>\n",
       "    <tr>\n",
       "      <th>1</th>\n",
       "      <td>8036</td>\n",
       "    </tr>\n",
       "    <tr>\n",
       "      <th>2</th>\n",
       "      <td>7924</td>\n",
       "    </tr>\n",
       "    <tr>\n",
       "      <th>3</th>\n",
       "      <td>5797</td>\n",
       "    </tr>\n",
       "    <tr>\n",
       "      <th>4</th>\n",
       "      <td>1175</td>\n",
       "    </tr>\n",
       "    <tr>\n",
       "      <th>5</th>\n",
       "      <td>326</td>\n",
       "    </tr>\n",
       "    <tr>\n",
       "      <th>0</th>\n",
       "      <td>197</td>\n",
       "    </tr>\n",
       "    <tr>\n",
       "      <th>6</th>\n",
       "      <td>105</td>\n",
       "    </tr>\n",
       "    <tr>\n",
       "      <th>7</th>\n",
       "      <td>59</td>\n",
       "    </tr>\n",
       "    <tr>\n",
       "      <th>8</th>\n",
       "      <td>12</td>\n",
       "    </tr>\n",
       "    <tr>\n",
       "      <th>9</th>\n",
       "      <td>8</td>\n",
       "    </tr>\n",
       "    <tr>\n",
       "      <th>10</th>\n",
       "      <td>3</td>\n",
       "    </tr>\n",
       "    <tr>\n",
       "      <th>11</th>\n",
       "      <td>2</td>\n",
       "    </tr>\n",
       "    <tr>\n",
       "      <th>14</th>\n",
       "      <td>2</td>\n",
       "    </tr>\n",
       "    <tr>\n",
       "      <th>19</th>\n",
       "      <td>1</td>\n",
       "    </tr>\n",
       "    <tr>\n",
       "      <th>16</th>\n",
       "      <td>1</td>\n",
       "    </tr>\n",
       "    <tr>\n",
       "      <th>12</th>\n",
       "      <td>1</td>\n",
       "    </tr>\n",
       "    <tr>\n",
       "      <th>15</th>\n",
       "      <td>1</td>\n",
       "    </tr>\n",
       "  </tbody>\n",
       "</table>\n",
       "</div>"
      ],
      "text/plain": [
       "    rooms\n",
       "1    8036\n",
       "2    7924\n",
       "3    5797\n",
       "4    1175\n",
       "5     326\n",
       "0     197\n",
       "6     105\n",
       "7      59\n",
       "8      12\n",
       "9       8\n",
       "10      3\n",
       "11      2\n",
       "14      2\n",
       "19      1\n",
       "16      1\n",
       "12      1\n",
       "15      1"
      ]
     },
     "execution_count": 26,
     "metadata": {},
     "output_type": "execute_result"
    }
   ],
   "source": [
    "# check\n",
    "data.rooms.value_counts().to_frame()"
   ]
  },
  {
   "cell_type": "code",
   "execution_count": 27,
   "metadata": {
    "scrolled": true
   },
   "outputs": [
    {
     "data": {
      "image/png": "[encoded data removed]",
      "text/plain": [
       "<Figure size 1080x216 with 1 Axes>"
      ]
     },
     "metadata": {
      "needs_background": "light"
     },
     "output_type": "display_data"
    }
   ],
   "source": [
    "# check\n",
    "data.total_area.hist(bins = 150, figsize = (15,3));"
   ]
  },
  {
   "cell_type": "markdown",
   "metadata": {},
   "source": [
    "<div class=\"alert alert-success\">\n",
    "<font size=\"4\", color= \"seagreen\"><b>✔️ Комментарий ревьюера</b></font>\n",
    "    <br /> \n",
    "    <font size=\"3\", color = \"black\">\n",
    "<br />т.е. все квартиры более двухсот квадратных метров можно считать редкостями\n",
    "        \n",
    "особенно это заметно на втором графике, где мы подробно рассматриваем промежуток от 180 кв. метров до 500"
   ]
  },
  {
   "cell_type": "code",
   "execution_count": 28,
   "metadata": {
    "scrolled": false
   },
   "outputs": [
    {
     "data": {
      "image/png": "[encoded data removed]",
      "text/plain": [
       "<Figure size 1080x216 with 1 Axes>"
      ]
     },
     "metadata": {
      "needs_background": "light"
     },
     "output_type": "display_data"
    }
   ],
   "source": [
    "# check\n",
    "data.total_area.hist(bins = 150, figsize = (15,3), range = (180,500));"
   ]
  },
  {
   "cell_type": "code",
   "execution_count": 29,
   "metadata": {},
   "outputs": [
    {
     "data": {
      "text/plain": [
       "(11.111, 56.4]    13529\n",
       "(56.4, 100.8]      8323\n",
       "(100.8, 145.2]     1165\n",
       "(145.2, 189.6]      368\n",
       "(189.6, 234.0]      119\n",
       "(234.0, 278.4]       61\n",
       "(278.4, 322.8]       37\n",
       "(322.8, 367.2]       14\n",
       "(367.2, 411.6]       14\n",
       "(456.0, 500.4]        9\n",
       "(411.6, 456.0]        4\n",
       "(589.2, 633.6]        4\n",
       "(500.4, 544.8]        2\n",
       "(855.6, 900.0]        1\n",
       "(544.8, 589.2]        0\n",
       "(633.6, 678.0]        0\n",
       "(678.0, 722.4]        0\n",
       "(722.4, 766.8]        0\n",
       "(766.8, 811.2]        0\n",
       "(811.2, 855.6]        0\n",
       "Name: total_area, dtype: int64"
      ]
     },
     "execution_count": 29,
     "metadata": {},
     "output_type": "execute_result"
    }
   ],
   "source": [
    "# check\n",
    "data.total_area.value_counts(bins =20)"
   ]
  },
  {
   "cell_type": "code",
   "execution_count": 30,
   "metadata": {},
   "outputs": [
    {
     "data": {
      "text/html": [
       "<style  type=\"text/css\" >\n",
       "</style><table id=\"T_f319b_\" ><thead>    <tr>        <th class=\"blank level0\" ></th>        <th class=\"col_heading level0 col0\" >rooms</th>        <th class=\"col_heading level0 col1\" >total_area</th>        <th class=\"col_heading level0 col2\" >ceiling_height</th>        <th class=\"col_heading level0 col3\" >days_exposition</th>        <th class=\"col_heading level0 col4\" >last_price</th>        <th class=\"col_heading level0 col5\" >living_area</th>        <th class=\"col_heading level0 col6\" >kitchen_area</th>        <th class=\"col_heading level0 col7\" >floor</th>        <th class=\"col_heading level0 col8\" >floors_total</th>    </tr></thead><tbody>\n",
       "                <tr>\n",
       "                        <th id=\"T_f319b_level0_row0\" class=\"row_heading level0 row0\" >0.01</th>\n",
       "                        <td id=\"T_f319b_row0_col0\" class=\"data row0 col0\" >1.00</td>\n",
       "                        <td id=\"T_f319b_row0_col1\" class=\"data row0 col1\" >25.17</td>\n",
       "                        <td id=\"T_f319b_row0_col2\" class=\"data row0 col2\" >2.50</td>\n",
       "                        <td id=\"T_f319b_row0_col3\" class=\"data row0 col3\" >0.00</td>\n",
       "                        <td id=\"T_f319b_row0_col4\" class=\"data row0 col4\" >1,000,000.00</td>\n",
       "                        <td id=\"T_f319b_row0_col5\" class=\"data row0 col5\" >13.00</td>\n",
       "                        <td id=\"T_f319b_row0_col6\" class=\"data row0 col6\" >5.00</td>\n",
       "                        <td id=\"T_f319b_row0_col7\" class=\"data row0 col7\" >1.00</td>\n",
       "                        <td id=\"T_f319b_row0_col8\" class=\"data row0 col8\" >2.00</td>\n",
       "            </tr>\n",
       "            <tr>\n",
       "                        <th id=\"T_f319b_level0_row1\" class=\"row_heading level0 row1\" >0.5</th>\n",
       "                        <td id=\"T_f319b_row1_col0\" class=\"data row1 col0\" >2.00</td>\n",
       "                        <td id=\"T_f319b_row1_col1\" class=\"data row1 col1\" >52.00</td>\n",
       "                        <td id=\"T_f319b_row1_col2\" class=\"data row1 col2\" >2.65</td>\n",
       "                        <td id=\"T_f319b_row1_col3\" class=\"data row1 col3\" >73.00</td>\n",
       "                        <td id=\"T_f319b_row1_col4\" class=\"data row1 col4\" >4,650,000.00</td>\n",
       "                        <td id=\"T_f319b_row1_col5\" class=\"data row1 col5\" >30.00</td>\n",
       "                        <td id=\"T_f319b_row1_col6\" class=\"data row1 col6\" >10.00</td>\n",
       "                        <td id=\"T_f319b_row1_col7\" class=\"data row1 col7\" >4.00</td>\n",
       "                        <td id=\"T_f319b_row1_col8\" class=\"data row1 col8\" >9.00</td>\n",
       "            </tr>\n",
       "            <tr>\n",
       "                        <th id=\"T_f319b_level0_row2\" class=\"row_heading level0 row2\" >0.9</th>\n",
       "                        <td id=\"T_f319b_row2_col0\" class=\"data row2 col0\" >3.00</td>\n",
       "                        <td id=\"T_f319b_row2_col1\" class=\"data row2 col1\" >93.50</td>\n",
       "                        <td id=\"T_f319b_row2_col2\" class=\"data row2 col2\" >3.00</td>\n",
       "                        <td id=\"T_f319b_row2_col3\" class=\"data row2 col3\" >425.00</td>\n",
       "                        <td id=\"T_f319b_row2_col4\" class=\"data row2 col4\" >10,900,000.00</td>\n",
       "                        <td id=\"T_f319b_row2_col5\" class=\"data row2 col5\" >53.71</td>\n",
       "                        <td id=\"T_f319b_row2_col6\" class=\"data row2 col6\" >15.10</td>\n",
       "                        <td id=\"T_f319b_row2_col7\" class=\"data row2 col7\" >13.00</td>\n",
       "                        <td id=\"T_f319b_row2_col8\" class=\"data row2 col8\" >22.00</td>\n",
       "            </tr>\n",
       "            <tr>\n",
       "                        <th id=\"T_f319b_level0_row3\" class=\"row_heading level0 row3\" >0.9976</th>\n",
       "                        <td id=\"T_f319b_row3_col0\" class=\"data row3 col0\" >7.00</td>\n",
       "                        <td id=\"T_f319b_row3_col1\" class=\"data row3 col1\" >309.77</td>\n",
       "                        <td id=\"T_f319b_row3_col2\" class=\"data row3 col2\" >4.00</td>\n",
       "                        <td id=\"T_f319b_row3_col3\" class=\"data row3 col3\" >1,280.24</td>\n",
       "                        <td id=\"T_f319b_row3_col4\" class=\"data row3 col4\" >82,000,000.00</td>\n",
       "                        <td id=\"T_f319b_row3_col5\" class=\"data row3 col5\" >180.00</td>\n",
       "                        <td id=\"T_f319b_row3_col6\" class=\"data row3 col6\" >50.00</td>\n",
       "                        <td id=\"T_f319b_row3_col7\" class=\"data row3 col7\" >25.00</td>\n",
       "                        <td id=\"T_f319b_row3_col8\" class=\"data row3 col8\" >27.00</td>\n",
       "            </tr>\n",
       "    </tbody></table>"
      ],
      "text/plain": [
       "<pandas.io.formats.style.Styler at 0x7f6f10a0c160>"
      ]
     },
     "execution_count": 30,
     "metadata": {},
     "output_type": "execute_result"
    }
   ],
   "source": [
    "# check\n",
    "\n",
    "# Значения параметров объектов недвижимости на разных квантилях\n",
    "\n",
    "(\n",
    "    data[['rooms', 'total_area', 'ceiling_height', 'days_exposition', 'last_price', 'living_area',  \n",
    "        'kitchen_area', 'floor',   'floors_total']]\n",
    "    .quantile([0.01, .5, .90, .9976])  \n",
    "    .style.format(\"{:,.2f}\")\n",
    ")"
   ]
  },
  {
   "cell_type": "markdown",
   "metadata": {},
   "source": [
    "<div class=\"alert alert-success\">\n",
    "<font size=\"4\", color= \"seagreen\"><b>✔️ Комментарий ревьюера </b></font>\n",
    "    <br /> \n",
    "    <font size=\"3\", color = \"black\">\n",
    "<br />Квантили что это такое\n",
    "        \n",
    "https://fin-accounting.ru/cfa/l1/quantitative/cfa-quartiles-quintiles-deciles-percentiles?ysclid=l7gy2kky4i156375632\n",
    "        \n",
    "они помогают увидеть редкости и аномалии в данных"
   ]
  },
  {
   "cell_type": "code",
   "execution_count": 31,
   "metadata": {},
   "outputs": [
    {
     "data": {
      "text/html": [
       "<style  type=\"text/css\" >\n",
       "</style><table id=\"T_a3860_\" ><thead>    <tr>        <th class=\"blank level0\" ></th>        <th class=\"col_heading level0 col0\" >rooms</th>        <th class=\"col_heading level0 col1\" >total_area</th>        <th class=\"col_heading level0 col2\" >ceiling_height</th>        <th class=\"col_heading level0 col3\" >days_exposition</th>        <th class=\"col_heading level0 col4\" >last_price</th>        <th class=\"col_heading level0 col5\" >living_area</th>        <th class=\"col_heading level0 col6\" >kitchen_area</th>        <th class=\"col_heading level0 col7\" >floor</th>        <th class=\"col_heading level0 col8\" >floors_total</th>    </tr></thead><tbody>\n",
       "                <tr>\n",
       "                        <th id=\"T_a3860_level0_row0\" class=\"row_heading level0 row0\" >0.01</th>\n",
       "                        <td id=\"T_a3860_row0_col0\" class=\"data row0 col0\" >1.00</td>\n",
       "                        <td id=\"T_a3860_row0_col1\" class=\"data row0 col1\" >27.00</td>\n",
       "                        <td id=\"T_a3860_row0_col2\" class=\"data row0 col2\" >2.50</td>\n",
       "                        <td id=\"T_a3860_row0_col3\" class=\"data row0 col3\" >0.00</td>\n",
       "                        <td id=\"T_a3860_row0_col4\" class=\"data row0 col4\" >1,000,000.00</td>\n",
       "                        <td id=\"T_a3860_row0_col5\" class=\"data row0 col5\" >13.32</td>\n",
       "                        <td id=\"T_a3860_row0_col6\" class=\"data row0 col6\" >5.00</td>\n",
       "                        <td id=\"T_a3860_row0_col7\" class=\"data row0 col7\" >1.00</td>\n",
       "                        <td id=\"T_a3860_row0_col8\" class=\"data row0 col8\" >2.00</td>\n",
       "            </tr>\n",
       "            <tr>\n",
       "                        <th id=\"T_a3860_level0_row1\" class=\"row_heading level0 row1\" >0.5</th>\n",
       "                        <td id=\"T_a3860_row1_col0\" class=\"data row1 col0\" >2.00</td>\n",
       "                        <td id=\"T_a3860_row1_col1\" class=\"data row1 col1\" >51.00</td>\n",
       "                        <td id=\"T_a3860_row1_col2\" class=\"data row1 col2\" >2.65</td>\n",
       "                        <td id=\"T_a3860_row1_col3\" class=\"data row1 col3\" >73.00</td>\n",
       "                        <td id=\"T_a3860_row1_col4\" class=\"data row1 col4\" >4,550,000.00</td>\n",
       "                        <td id=\"T_a3860_row1_col5\" class=\"data row1 col5\" >30.00</td>\n",
       "                        <td id=\"T_a3860_row1_col6\" class=\"data row1 col6\" >9.60</td>\n",
       "                        <td id=\"T_a3860_row1_col7\" class=\"data row1 col7\" >4.00</td>\n",
       "                        <td id=\"T_a3860_row1_col8\" class=\"data row1 col8\" >9.00</td>\n",
       "            </tr>\n",
       "            <tr>\n",
       "                        <th id=\"T_a3860_level0_row2\" class=\"row_heading level0 row2\" >0.9</th>\n",
       "                        <td id=\"T_a3860_row2_col0\" class=\"data row2 col0\" >3.00</td>\n",
       "                        <td id=\"T_a3860_row2_col1\" class=\"data row2 col1\" >87.30</td>\n",
       "                        <td id=\"T_a3860_row2_col2\" class=\"data row2 col2\" >2.95</td>\n",
       "                        <td id=\"T_a3860_row2_col3\" class=\"data row2 col3\" >419.00</td>\n",
       "                        <td id=\"T_a3860_row2_col4\" class=\"data row2 col4\" >9,700,000.00</td>\n",
       "                        <td id=\"T_a3860_row2_col5\" class=\"data row2 col5\" >51.60</td>\n",
       "                        <td id=\"T_a3860_row2_col6\" class=\"data row2 col6\" >14.00</td>\n",
       "                        <td id=\"T_a3860_row2_col7\" class=\"data row2 col7\" >13.00</td>\n",
       "                        <td id=\"T_a3860_row2_col8\" class=\"data row2 col8\" >22.00</td>\n",
       "            </tr>\n",
       "            <tr>\n",
       "                        <th id=\"T_a3860_level0_row3\" class=\"row_heading level0 row3\" >0.9976</th>\n",
       "                        <td id=\"T_a3860_row3_col0\" class=\"data row3 col0\" >6.00</td>\n",
       "                        <td id=\"T_a3860_row3_col1\" class=\"data row3 col1\" >201.50</td>\n",
       "                        <td id=\"T_a3860_row3_col2\" class=\"data row3 col2\" >4.00</td>\n",
       "                        <td id=\"T_a3860_row3_col3\" class=\"data row3 col3\" >1,278.01</td>\n",
       "                        <td id=\"T_a3860_row3_col4\" class=\"data row3 col4\" >45,900,720.00</td>\n",
       "                        <td id=\"T_a3860_row3_col5\" class=\"data row3 col5\" >126.40</td>\n",
       "                        <td id=\"T_a3860_row3_col6\" class=\"data row3 col6\" >21.10</td>\n",
       "                        <td id=\"T_a3860_row3_col7\" class=\"data row3 col7\" >25.00</td>\n",
       "                        <td id=\"T_a3860_row3_col8\" class=\"data row3 col8\" >27.00</td>\n",
       "            </tr>\n",
       "    </tbody></table>"
      ],
      "text/plain": [
       "<pandas.io.formats.style.Styler at 0x7f6f1035abb0>"
      ]
     },
     "execution_count": 31,
     "metadata": {},
     "output_type": "execute_result"
    }
   ],
   "source": [
    "data = data.loc[data['rooms']<8]\n",
    "data = data.loc[data['rooms']>0]\n",
    "data = data.loc[data['total_area']<300]\n",
    "\n",
    "data = data.loc[data['ceiling_height']<5]\n",
    "data = data.loc[data['ceiling_height']>2]\n",
    "\n",
    "data = data.loc[data['living_area']<180]\n",
    "\n",
    "data = data.loc[data['kitchen_area']<22]\n",
    "data = data.loc[data['kitchen_area']>3]\n",
    "#print(data.shape[0])\n",
    "(\n",
    "    data[['rooms', 'total_area', 'ceiling_height', 'days_exposition', 'last_price', 'living_area',  \n",
    "        'kitchen_area', 'floor',   'floors_total']]\n",
    "    .quantile([0.01, .5, .90, .9976])  \n",
    "    .style.format(\"{:,.2f}\")\n",
    ")\n",
    "\n",
    "# data.total_area.value_counts(bins =20)"
   ]
  },
  {
   "cell_type": "code",
   "execution_count": 32,
   "metadata": {
    "scrolled": false
   },
   "outputs": [
    {
     "data": {
      "text/html": [
       "<style  type=\"text/css\" >\n",
       "</style><table id=\"T_2da6e_\" ><thead>    <tr>        <th class=\"blank level0\" ></th>        <th class=\"col_heading level0 col0\" >rooms</th>        <th class=\"col_heading level0 col1\" >total_area</th>        <th class=\"col_heading level0 col2\" >ceiling_height</th>        <th class=\"col_heading level0 col3\" >days_exposition</th>        <th class=\"col_heading level0 col4\" >last_price</th>        <th class=\"col_heading level0 col5\" >living_area</th>        <th class=\"col_heading level0 col6\" >kitchen_area</th>        <th class=\"col_heading level0 col7\" >floor</th>        <th class=\"col_heading level0 col8\" >floors_total</th>    </tr></thead><tbody>\n",
       "                <tr>\n",
       "                        <th id=\"T_2da6e_level0_row0\" class=\"row_heading level0 row0\" >count</th>\n",
       "                        <td id=\"T_2da6e_row0_col0\" class=\"data row0 col0\" >22,498.00</td>\n",
       "                        <td id=\"T_2da6e_row0_col1\" class=\"data row0 col1\" >22,498.00</td>\n",
       "                        <td id=\"T_2da6e_row0_col2\" class=\"data row0 col2\" >22,498.00</td>\n",
       "                        <td id=\"T_2da6e_row0_col3\" class=\"data row0 col3\" >22,498.00</td>\n",
       "                        <td id=\"T_2da6e_row0_col4\" class=\"data row0 col4\" >22,498.00</td>\n",
       "                        <td id=\"T_2da6e_row0_col5\" class=\"data row0 col5\" >22,498.00</td>\n",
       "                        <td id=\"T_2da6e_row0_col6\" class=\"data row0 col6\" >22,498.00</td>\n",
       "                        <td id=\"T_2da6e_row0_col7\" class=\"data row0 col7\" >22,498.00</td>\n",
       "                        <td id=\"T_2da6e_row0_col8\" class=\"data row0 col8\" >22,498.00</td>\n",
       "            </tr>\n",
       "            <tr>\n",
       "                        <th id=\"T_2da6e_level0_row1\" class=\"row_heading level0 row1\" >min</th>\n",
       "                        <td id=\"T_2da6e_row1_col0\" class=\"data row1 col0\" >1.00</td>\n",
       "                        <td id=\"T_2da6e_row1_col1\" class=\"data row1 col1\" >12.00</td>\n",
       "                        <td id=\"T_2da6e_row1_col2\" class=\"data row1 col2\" >2.20</td>\n",
       "                        <td id=\"T_2da6e_row1_col3\" class=\"data row1 col3\" >0.00</td>\n",
       "                        <td id=\"T_2da6e_row1_col4\" class=\"data row1 col4\" >430,000.00</td>\n",
       "                        <td id=\"T_2da6e_row1_col5\" class=\"data row1 col5\" >2.00</td>\n",
       "                        <td id=\"T_2da6e_row1_col6\" class=\"data row1 col6\" >3.20</td>\n",
       "                        <td id=\"T_2da6e_row1_col7\" class=\"data row1 col7\" >1.00</td>\n",
       "                        <td id=\"T_2da6e_row1_col8\" class=\"data row1 col8\" >1.00</td>\n",
       "            </tr>\n",
       "            <tr>\n",
       "                        <th id=\"T_2da6e_level0_row2\" class=\"row_heading level0 row2\" >max</th>\n",
       "                        <td id=\"T_2da6e_row2_col0\" class=\"data row2 col0\" >7.00</td>\n",
       "                        <td id=\"T_2da6e_row2_col1\" class=\"data row2 col1\" >295.00</td>\n",
       "                        <td id=\"T_2da6e_row2_col2\" class=\"data row2 col2\" >4.80</td>\n",
       "                        <td id=\"T_2da6e_row2_col3\" class=\"data row2 col3\" >1,580.00</td>\n",
       "                        <td id=\"T_2da6e_row2_col4\" class=\"data row2 col4\" >159,984,000.00</td>\n",
       "                        <td id=\"T_2da6e_row2_col5\" class=\"data row2 col5\" >177.00</td>\n",
       "                        <td id=\"T_2da6e_row2_col6\" class=\"data row2 col6\" >21.90</td>\n",
       "                        <td id=\"T_2da6e_row2_col7\" class=\"data row2 col7\" >33.00</td>\n",
       "                        <td id=\"T_2da6e_row2_col8\" class=\"data row2 col8\" >60.00</td>\n",
       "            </tr>\n",
       "    </tbody></table>"
      ],
      "text/plain": [
       "<pandas.io.formats.style.Styler at 0x7f6f0e4434c0>"
      ]
     },
     "execution_count": 32,
     "metadata": {},
     "output_type": "execute_result"
    }
   ],
   "source": [
    "# check\n",
    "\n",
    "# Показатели о кол-ве объявлений в датасете, минимальных и максимальных значениях \n",
    "# в выбранных параметрах о продаже квартир\n",
    "\n",
    "\n",
    "(\n",
    "    data[['rooms', 'total_area', 'ceiling_height', 'days_exposition', 'last_price', 'living_area',  'kitchen_area',\n",
    "          'floor', 'floors_total']]\n",
    "    .apply (['count', 'min', 'max'])   \n",
    "    .style.format(\"{:,.2f}\")\n",
    ")"
   ]
  },
  {
   "cell_type": "code",
   "execution_count": 33,
   "metadata": {},
   "outputs": [
    {
     "data": {
      "image/png": "[encoded data removed]",
      "text/plain": [
       "<Figure size 1080x216 with 1 Axes>"
      ]
     },
     "metadata": {
      "needs_background": "light"
     },
     "output_type": "display_data"
    }
   ],
   "source": [
    "# check\n",
    "data.hist(column = 'days_exposition', bins = 50, figsize = (15,3), range = (0.1,5));"
   ]
  },
  {
   "cell_type": "code",
   "execution_count": 34,
   "metadata": {},
   "outputs": [],
   "source": [
    "# Черновик Работа с редкими и выбивающимися значениями\n",
    "# 'rooms', 'total_area', 'ceiling_height', 'days_exposition', 'last_price', 'living_area',  'kitchen_area', 'floors_total'\n",
    "\n",
    "# Функция для подсчёта границ с учетом 1.5 размаха\n",
    "# def quartile_range(df, column):\n",
    "#     q1 = df[column].quantile(0.25)\n",
    "#     q3 = df[column].quantile(0.75)\n",
    "#     iqr = q3 - q1\n",
    "#     dfq = df.loc[(df[column] < q3 + 1.5*iqr) & (df[column] > q1 - 1.5*iqr), column]\n",
    "#     return dfq\n",
    "# Столбцы с выбросами\n",
    "# list_features = ['rooms', 'total_area', 'ceiling_height', 'days_exposition', 'last_price', 'living_area',  'kitchen_area', 'floors_total']\n",
    "# for col in list_features:\n",
    "#     data[col] = quartile_range(data, col)\n",
    "\n",
    "# Изучаем, есть ли выбивающиеся значения\n",
    "# data.describe()"
   ]
  },
  {
   "cell_type": "markdown",
   "metadata": {},
   "source": [
    "### Посчитайте и добавьте в таблицу новые столбцы"
   ]
  },
  {
   "cell_type": "markdown",
   "metadata": {},
   "source": [
    "•\tцена одного квадратного метра;\n",
    "\n",
    "•\tдень недели публикации объявления (0 — понедельник, 1 — вторник и так далее);\n",
    "\n",
    "•\tмесяц публикации объявления;\n",
    "\n",
    "•\tгод публикации объявления;\n",
    "\n",
    "•\tтип этажа квартиры (значения — «‎первый», «последний», «другой»);\n",
    "\n",
    "•\tрасстояние до центра города в километрах (переведите из м в км и округлите до целых значений)."
   ]
  },
  {
   "cell_type": "code",
   "execution_count": 35,
   "metadata": {},
   "outputs": [
    {
     "name": "stdout",
     "output_type": "stream",
     "text": [
      "65\n"
     ]
    },
    {
     "data": {
      "text/html": [
       "<div>\n",
       "<style scoped>\n",
       "    .dataframe tbody tr th:only-of-type {\n",
       "        vertical-align: middle;\n",
       "    }\n",
       "\n",
       "    .dataframe tbody tr th {\n",
       "        vertical-align: top;\n",
       "    }\n",
       "\n",
       "    .dataframe thead th {\n",
       "        text-align: right;\n",
       "    }\n",
       "</style>\n",
       "<table border=\"1\" class=\"dataframe\">\n",
       "  <thead>\n",
       "    <tr style=\"text-align: right;\">\n",
       "      <th></th>\n",
       "      <th>total_images</th>\n",
       "      <th>last_price</th>\n",
       "      <th>total_area</th>\n",
       "      <th>first_day_exposition</th>\n",
       "      <th>rooms</th>\n",
       "      <th>ceiling_height</th>\n",
       "      <th>floors_total</th>\n",
       "      <th>living_area</th>\n",
       "      <th>floor</th>\n",
       "      <th>is_apartment</th>\n",
       "      <th>...</th>\n",
       "      <th>parks_around3000</th>\n",
       "      <th>parks_nearest</th>\n",
       "      <th>ponds_around3000</th>\n",
       "      <th>ponds_nearest</th>\n",
       "      <th>days_exposition</th>\n",
       "      <th>one_m_price</th>\n",
       "      <th>weekday</th>\n",
       "      <th>month</th>\n",
       "      <th>year</th>\n",
       "      <th>floor_type</th>\n",
       "    </tr>\n",
       "  </thead>\n",
       "  <tbody>\n",
       "    <tr>\n",
       "      <th>5643</th>\n",
       "      <td>17</td>\n",
       "      <td>4100000.0</td>\n",
       "      <td>44.0</td>\n",
       "      <td>2019-03-28</td>\n",
       "      <td>2</td>\n",
       "      <td>2.60</td>\n",
       "      <td>5</td>\n",
       "      <td>28.0</td>\n",
       "      <td>1</td>\n",
       "      <td>False</td>\n",
       "      <td>...</td>\n",
       "      <td>2</td>\n",
       "      <td>591.0</td>\n",
       "      <td>0</td>\n",
       "      <td>502.0</td>\n",
       "      <td>0.0</td>\n",
       "      <td>93181</td>\n",
       "      <td>3</td>\n",
       "      <td>3</td>\n",
       "      <td>2019</td>\n",
       "      <td>первый</td>\n",
       "    </tr>\n",
       "    <tr>\n",
       "      <th>7874</th>\n",
       "      <td>6</td>\n",
       "      <td>12870000.0</td>\n",
       "      <td>68.6</td>\n",
       "      <td>2017-04-24</td>\n",
       "      <td>2</td>\n",
       "      <td>3.10</td>\n",
       "      <td>10</td>\n",
       "      <td>36.0</td>\n",
       "      <td>3</td>\n",
       "      <td>False</td>\n",
       "      <td>...</td>\n",
       "      <td>0</td>\n",
       "      <td>454.5</td>\n",
       "      <td>2</td>\n",
       "      <td>356.0</td>\n",
       "      <td>224.0</td>\n",
       "      <td>187609</td>\n",
       "      <td>0</td>\n",
       "      <td>4</td>\n",
       "      <td>2017</td>\n",
       "      <td>другой</td>\n",
       "    </tr>\n",
       "    <tr>\n",
       "      <th>2567</th>\n",
       "      <td>0</td>\n",
       "      <td>3700000.0</td>\n",
       "      <td>43.6</td>\n",
       "      <td>2017-07-19</td>\n",
       "      <td>1</td>\n",
       "      <td>2.65</td>\n",
       "      <td>17</td>\n",
       "      <td>16.4</td>\n",
       "      <td>8</td>\n",
       "      <td>False</td>\n",
       "      <td>...</td>\n",
       "      <td>0</td>\n",
       "      <td>454.5</td>\n",
       "      <td>1</td>\n",
       "      <td>1036.0</td>\n",
       "      <td>69.0</td>\n",
       "      <td>84862</td>\n",
       "      <td>2</td>\n",
       "      <td>7</td>\n",
       "      <td>2017</td>\n",
       "      <td>другой</td>\n",
       "    </tr>\n",
       "    <tr>\n",
       "      <th>13326</th>\n",
       "      <td>5</td>\n",
       "      <td>2000000.0</td>\n",
       "      <td>39.0</td>\n",
       "      <td>2019-01-09</td>\n",
       "      <td>1</td>\n",
       "      <td>2.65</td>\n",
       "      <td>5</td>\n",
       "      <td>17.5</td>\n",
       "      <td>5</td>\n",
       "      <td>False</td>\n",
       "      <td>...</td>\n",
       "      <td>0</td>\n",
       "      <td>454.5</td>\n",
       "      <td>1</td>\n",
       "      <td>502.0</td>\n",
       "      <td>34.0</td>\n",
       "      <td>51282</td>\n",
       "      <td>2</td>\n",
       "      <td>1</td>\n",
       "      <td>2019</td>\n",
       "      <td>последний</td>\n",
       "    </tr>\n",
       "    <tr>\n",
       "      <th>4947</th>\n",
       "      <td>9</td>\n",
       "      <td>2750000.0</td>\n",
       "      <td>38.7</td>\n",
       "      <td>2018-11-21</td>\n",
       "      <td>1</td>\n",
       "      <td>2.65</td>\n",
       "      <td>9</td>\n",
       "      <td>17.8</td>\n",
       "      <td>3</td>\n",
       "      <td>False</td>\n",
       "      <td>...</td>\n",
       "      <td>0</td>\n",
       "      <td>454.5</td>\n",
       "      <td>1</td>\n",
       "      <td>502.0</td>\n",
       "      <td>0.0</td>\n",
       "      <td>71059</td>\n",
       "      <td>2</td>\n",
       "      <td>11</td>\n",
       "      <td>2018</td>\n",
       "      <td>другой</td>\n",
       "    </tr>\n",
       "    <tr>\n",
       "      <th>8713</th>\n",
       "      <td>16</td>\n",
       "      <td>7500000.0</td>\n",
       "      <td>56.0</td>\n",
       "      <td>2019-03-22</td>\n",
       "      <td>2</td>\n",
       "      <td>4.00</td>\n",
       "      <td>4</td>\n",
       "      <td>34.0</td>\n",
       "      <td>3</td>\n",
       "      <td>False</td>\n",
       "      <td>...</td>\n",
       "      <td>0</td>\n",
       "      <td>454.5</td>\n",
       "      <td>3</td>\n",
       "      <td>650.0</td>\n",
       "      <td>0.0</td>\n",
       "      <td>133928</td>\n",
       "      <td>4</td>\n",
       "      <td>3</td>\n",
       "      <td>2019</td>\n",
       "      <td>другой</td>\n",
       "    </tr>\n",
       "    <tr>\n",
       "      <th>3246</th>\n",
       "      <td>16</td>\n",
       "      <td>5099000.0</td>\n",
       "      <td>51.2</td>\n",
       "      <td>2018-02-08</td>\n",
       "      <td>2</td>\n",
       "      <td>2.50</td>\n",
       "      <td>5</td>\n",
       "      <td>30.1</td>\n",
       "      <td>4</td>\n",
       "      <td>False</td>\n",
       "      <td>...</td>\n",
       "      <td>1</td>\n",
       "      <td>379.0</td>\n",
       "      <td>1</td>\n",
       "      <td>486.0</td>\n",
       "      <td>110.0</td>\n",
       "      <td>99589</td>\n",
       "      <td>3</td>\n",
       "      <td>2</td>\n",
       "      <td>2018</td>\n",
       "      <td>другой</td>\n",
       "    </tr>\n",
       "    <tr>\n",
       "      <th>4060</th>\n",
       "      <td>0</td>\n",
       "      <td>1240000.0</td>\n",
       "      <td>30.0</td>\n",
       "      <td>2018-03-09</td>\n",
       "      <td>1</td>\n",
       "      <td>2.65</td>\n",
       "      <td>5</td>\n",
       "      <td>30.0</td>\n",
       "      <td>2</td>\n",
       "      <td>False</td>\n",
       "      <td>...</td>\n",
       "      <td>0</td>\n",
       "      <td>454.5</td>\n",
       "      <td>1</td>\n",
       "      <td>502.0</td>\n",
       "      <td>37.0</td>\n",
       "      <td>41333</td>\n",
       "      <td>4</td>\n",
       "      <td>3</td>\n",
       "      <td>2018</td>\n",
       "      <td>другой</td>\n",
       "    </tr>\n",
       "    <tr>\n",
       "      <th>6434</th>\n",
       "      <td>14</td>\n",
       "      <td>2967000.0</td>\n",
       "      <td>36.0</td>\n",
       "      <td>2016-12-28</td>\n",
       "      <td>1</td>\n",
       "      <td>2.65</td>\n",
       "      <td>24</td>\n",
       "      <td>30.0</td>\n",
       "      <td>16</td>\n",
       "      <td>False</td>\n",
       "      <td>...</td>\n",
       "      <td>0</td>\n",
       "      <td>454.5</td>\n",
       "      <td>1</td>\n",
       "      <td>502.0</td>\n",
       "      <td>314.0</td>\n",
       "      <td>82416</td>\n",
       "      <td>2</td>\n",
       "      <td>12</td>\n",
       "      <td>2016</td>\n",
       "      <td>другой</td>\n",
       "    </tr>\n",
       "    <tr>\n",
       "      <th>8746</th>\n",
       "      <td>11</td>\n",
       "      <td>5750000.0</td>\n",
       "      <td>77.7</td>\n",
       "      <td>2015-10-27</td>\n",
       "      <td>3</td>\n",
       "      <td>2.65</td>\n",
       "      <td>9</td>\n",
       "      <td>51.9</td>\n",
       "      <td>3</td>\n",
       "      <td>False</td>\n",
       "      <td>...</td>\n",
       "      <td>0</td>\n",
       "      <td>454.5</td>\n",
       "      <td>0</td>\n",
       "      <td>502.0</td>\n",
       "      <td>364.0</td>\n",
       "      <td>74002</td>\n",
       "      <td>1</td>\n",
       "      <td>10</td>\n",
       "      <td>2015</td>\n",
       "      <td>другой</td>\n",
       "    </tr>\n",
       "  </tbody>\n",
       "</table>\n",
       "<p>10 rows × 27 columns</p>\n",
       "</div>"
      ],
      "text/plain": [
       "       total_images  last_price  total_area first_day_exposition  rooms  \\\n",
       "5643             17   4100000.0        44.0           2019-03-28      2   \n",
       "7874              6  12870000.0        68.6           2017-04-24      2   \n",
       "2567              0   3700000.0        43.6           2017-07-19      1   \n",
       "13326             5   2000000.0        39.0           2019-01-09      1   \n",
       "4947              9   2750000.0        38.7           2018-11-21      1   \n",
       "8713             16   7500000.0        56.0           2019-03-22      2   \n",
       "3246             16   5099000.0        51.2           2018-02-08      2   \n",
       "4060              0   1240000.0        30.0           2018-03-09      1   \n",
       "6434             14   2967000.0        36.0           2016-12-28      1   \n",
       "8746             11   5750000.0        77.7           2015-10-27      3   \n",
       "\n",
       "       ceiling_height  floors_total  living_area  floor  is_apartment  ...  \\\n",
       "5643             2.60             5         28.0      1         False  ...   \n",
       "7874             3.10            10         36.0      3         False  ...   \n",
       "2567             2.65            17         16.4      8         False  ...   \n",
       "13326            2.65             5         17.5      5         False  ...   \n",
       "4947             2.65             9         17.8      3         False  ...   \n",
       "8713             4.00             4         34.0      3         False  ...   \n",
       "3246             2.50             5         30.1      4         False  ...   \n",
       "4060             2.65             5         30.0      2         False  ...   \n",
       "6434             2.65            24         30.0     16         False  ...   \n",
       "8746             2.65             9         51.9      3         False  ...   \n",
       "\n",
       "       parks_around3000  parks_nearest  ponds_around3000  ponds_nearest  \\\n",
       "5643                  2          591.0                 0          502.0   \n",
       "7874                  0          454.5                 2          356.0   \n",
       "2567                  0          454.5                 1         1036.0   \n",
       "13326                 0          454.5                 1          502.0   \n",
       "4947                  0          454.5                 1          502.0   \n",
       "8713                  0          454.5                 3          650.0   \n",
       "3246                  1          379.0                 1          486.0   \n",
       "4060                  0          454.5                 1          502.0   \n",
       "6434                  0          454.5                 1          502.0   \n",
       "8746                  0          454.5                 0          502.0   \n",
       "\n",
       "      days_exposition  one_m_price  weekday  month  year  floor_type  \n",
       "5643              0.0        93181        3      3  2019      первый  \n",
       "7874            224.0       187609        0      4  2017      другой  \n",
       "2567             69.0        84862        2      7  2017      другой  \n",
       "13326            34.0        51282        2      1  2019   последний  \n",
       "4947              0.0        71059        2     11  2018      другой  \n",
       "8713              0.0       133928        4      3  2019      другой  \n",
       "3246            110.0        99589        3      2  2018      другой  \n",
       "4060             37.0        41333        4      3  2018      другой  \n",
       "6434            314.0        82416        2     12  2016      другой  \n",
       "8746            364.0        74002        1     10  2015      другой  \n",
       "\n",
       "[10 rows x 27 columns]"
      ]
     },
     "execution_count": 35,
     "metadata": {},
     "output_type": "execute_result"
    }
   ],
   "source": [
    "# Добавляем столбец со стоимостью квадратного метра (one_m_price) и приводим его в целочисленный тип\n",
    "data['one_m_price'] = data['last_price'] / data['total_area']\n",
    "data['one_m_price'] = data['one_m_price'].astype(int)\n",
    "\n",
    "# Добавляем столбцы дня недели, месяца и года\n",
    "data['weekday'] = data['first_day_exposition'].dt.weekday\n",
    "data['month'] = data['first_day_exposition'].dt.month\n",
    "data['year'] = data['first_day_exposition'].dt.year\n",
    "\n",
    "# Создаём функцию для заполнения нового столбца с типом этажа\n",
    "def floor_group(row):\n",
    "    if row['floor'] == 1:\n",
    "        return 'первый'\n",
    "    elif row['floor'] == row['floors_total']:\n",
    "        return 'последний'\n",
    "    else:\n",
    "        return 'другой'\n",
    "data['floor_type'] = data.apply(floor_group, axis=1)\n",
    "\n",
    "# расстояние до центра города в километрах (переведите из м в км и округлите до целых значений).\n",
    "data['cityCenters_nearest'] = data['cityCenters_nearest'] / 1000\n",
    "data['cityCenters_nearest'] = data['cityCenters_nearest'].astype(int)\n",
    "print(data['cityCenters_nearest'].max())\n",
    "data.sample(10)"
   ]
  },
  {
   "cell_type": "markdown",
   "metadata": {},
   "source": [
    "### Проведите исследовательский анализ данных"
   ]
  },
  {
   "cell_type": "markdown",
   "metadata": {},
   "source": [
    "#### \tИзучите следующие параметры объектов:\n",
    "\n",
    "- общая площадь;\n",
    "жилая площадь;\n",
    "площадь кухни;\n",
    "\n",
    "- цена объекта;\n",
    "количество комнат;\n",
    "высота потолков;\n",
    "\n",
    "- этаж квартиры;\n",
    "тип этажа квартиры («первый», «последний», «другой»);\n",
    "общее количество этажей в доме;\n",
    "\n",
    "- расстояние до центра города в метрах;\n",
    "расстояние до ближайшего аэропорта;\n",
    "расстояние до ближайшего парка;\n",
    "\n",
    "- день и месяц публикации объявления.\n",
    "\n",
    "Постройте отдельные гистограммы для каждого из этих параметров. Опишите все ваши наблюдения по параметрам в ячейке с типом markdown.\n"
   ]
  },
  {
   "cell_type": "code",
   "execution_count": 36,
   "metadata": {
    "scrolled": false
   },
   "outputs": [
    {
     "data": {
      "image/png": "[encoded data removed]",
      "text/plain": [
       "<Figure size 432x288 with 1 Axes>"
      ]
     },
     "metadata": {
      "needs_background": "light"
     },
     "output_type": "display_data"
    },
    {
     "name": "stdout",
     "output_type": "stream",
     "text": [
      "Наибольшие по площади варианты:\n",
      "10181    295.00\n",
      "15017    293.60\n",
      "18832    284.00\n",
      "5534     283.00\n",
      "5631     280.00\n",
      "7274     280.00\n",
      "1808     274.65\n",
      "3267     266.20\n",
      "9433     260.00\n",
      "12067    259.60\n",
      "Name: total_area, dtype: float64\n"
     ]
    },
    {
     "data": {
      "image/png": "[encoded data removed]",
      "text/plain": [
       "<Figure size 432x288 with 1 Axes>"
      ]
     },
     "metadata": {
      "needs_background": "light"
     },
     "output_type": "display_data"
    },
    {
     "name": "stdout",
     "output_type": "stream",
     "text": [
      "Наибольшие по жилой площади варианты:\n",
      "5534     177.0\n",
      "8634     175.0\n",
      "7658     174.3\n",
      "7997     167.0\n",
      "21676    164.7\n",
      "22965    164.3\n",
      "12522    160.0\n",
      "5631     160.0\n",
      "16141    160.0\n",
      "22904    159.6\n",
      "Name: living_area, dtype: float64\n"
     ]
    },
    {
     "data": {
      "image/png": "[encoded data removed]",
      "text/plain": [
       "<Figure size 432x288 with 1 Axes>"
      ]
     },
     "metadata": {
      "needs_background": "light"
     },
     "output_type": "display_data"
    },
    {
     "name": "stdout",
     "output_type": "stream",
     "text": [
      "Наибольшие по площади кухни варианты:\n",
      "13776    21.90\n",
      "3290     21.90\n",
      "16959    21.90\n",
      "19424    21.90\n",
      "11158    21.90\n",
      "3065     21.87\n",
      "13818    21.82\n",
      "6149     21.80\n",
      "8050     21.80\n",
      "11835    21.80\n",
      "Name: kitchen_area, dtype: float64\n"
     ]
    }
   ],
   "source": [
    "# Общая площадь\n",
    "plt.hist(data['total_area'], bins=30, range=(10,200))\n",
    "plt.title('Площадь квартир')\n",
    "plt.xlabel('Квадратные метры')\n",
    "plt.ylabel('Количество квартир')\n",
    "plt.show()\n",
    "print('Наибольшие по площади варианты:')\n",
    "print(data['total_area'].sort_values(ascending=False).head(10))\n",
    "\n",
    "# Жилая площадь\n",
    "plt.hist(data['living_area'], bins=70, range=(10,80))\n",
    "plt.title('Жилая площадь')\n",
    "plt.xlabel('Квадратные метры')\n",
    "plt.ylabel('Количество квартир')\n",
    "plt.show()\n",
    "print('Наибольшие по жилой площади варианты:')\n",
    "print(data['living_area'].sort_values(ascending=False).head(10))\n",
    "\n",
    "# Площадь кухни\n",
    "plt.hist(data['kitchen_area'], bins=30, range=(0,30))\n",
    "plt.title('Площадь кухни')\n",
    "plt.xlabel('Квадратные метры')\n",
    "plt.ylabel('Количество квартир')\n",
    "plt.show()\n",
    "print('Наибольшие по площади кухни варианты:')\n",
    "print(data['kitchen_area'].sort_values(ascending=False).head(10))"
   ]
  },
  {
   "cell_type": "code",
   "execution_count": 37,
   "metadata": {},
   "outputs": [
    {
     "data": {
      "image/png": "[encoded data removed]",
      "text/plain": [
       "<Figure size 432x288 with 1 Axes>"
      ]
     },
     "metadata": {
      "needs_background": "light"
     },
     "output_type": "display_data"
    },
    {
     "name": "stdout",
     "output_type": "stream",
     "text": [
      "Наибольшие по цене варианты:\n",
      "2536     159984000.0\n",
      "12674    140000000.0\n",
      "13864    130000000.0\n",
      "4996     124000000.0\n",
      "5631      99000000.0\n",
      "16590     98000000.0\n",
      "509       90000000.0\n",
      "5534      87000000.0\n",
      "11430     85000000.0\n",
      "10362     83820000.0\n",
      "Name: last_price, dtype: float64\n"
     ]
    }
   ],
   "source": [
    "# цена объекта\n",
    "plt.hist(data['last_price'], bins=30, range=(0,20000000))\n",
    "plt.title('Стоимость квартир')\n",
    "plt.xlabel('Стоимость')\n",
    "plt.ylabel('Количество квартир')\n",
    "plt.show()\n",
    "print('Наибольшие по цене варианты:')\n",
    "print(data['last_price'].sort_values(ascending=False).head(10))"
   ]
  },
  {
   "cell_type": "code",
   "execution_count": 38,
   "metadata": {},
   "outputs": [
    {
     "data": {
      "image/png": "[encoded data removed]",
      "text/plain": [
       "<Figure size 432x288 with 1 Axes>"
      ]
     },
     "metadata": {
      "needs_background": "light"
     },
     "output_type": "display_data"
    },
    {
     "data": {
      "image/png": "[encoded data removed]",
      "text/plain": [
       "<Figure size 432x288 with 1 Axes>"
      ]
     },
     "metadata": {
      "needs_background": "light"
     },
     "output_type": "display_data"
    }
   ],
   "source": [
    "# количество комнат\n",
    "plt.hist(data['rooms'], bins=7, range=(1,7))\n",
    "plt.title('Комнаты')\n",
    "plt.xlabel('Количество комнат')\n",
    "plt.ylabel('Количество квартир')\n",
    "plt.show()\n",
    "#print('Наибольшие по числу комнат варианты:')\n",
    "#print(data['rooms'].sort_values(ascending=False).head(10))\n",
    "\n",
    "# Высота потолков\n",
    "plt.hist(data.query('(ceiling_height > 2) & (ceiling_height < 4)')['ceiling_height'], bins=20)\n",
    "plt.title('Высота потолков')\n",
    "plt.xlabel('Метры')\n",
    "plt.ylabel('Количество квартир')\n",
    "plt.show()\n",
    "#print('Наибольшие по высоте потолков варианты:')\n",
    "#print(data['ceiling_height'].sort_values(ascending=False).head(10))"
   ]
  },
  {
   "cell_type": "code",
   "execution_count": 39,
   "metadata": {
    "scrolled": false
   },
   "outputs": [
    {
     "data": {
      "image/png": "[encoded data removed]",
      "text/plain": [
       "<Figure size 432x288 with 1 Axes>"
      ]
     },
     "metadata": {
      "needs_background": "light"
     },
     "output_type": "display_data"
    }
   ],
   "source": [
    "# этаж квартиры; 'floor'\n",
    "plt.hist(data['floor'], bins=20, range=(1,35))\n",
    "plt.title('Этаж')\n",
    "plt.xlabel('Количество этажей')\n",
    "plt.ylabel('Количество квартир')\n",
    "plt.show()\n",
    "#print('Наибольшие по числу этажей варианты:')\n",
    "#print(data['floor'].sort_values(ascending=False).head(10))"
   ]
  },
  {
   "cell_type": "code",
   "execution_count": 40,
   "metadata": {},
   "outputs": [
    {
     "data": {
      "image/png": "[encoded data removed]",
      "text/plain": [
       "<Figure size 432x288 with 1 Axes>"
      ]
     },
     "metadata": {
      "needs_background": "light"
     },
     "output_type": "display_data"
    }
   ],
   "source": [
    "# общее количество этажей в доме; floors_total\n",
    "plt.hist(data['floors_total'], bins=20, range=(1,35))\n",
    "plt.title('Общее количество этажей в доме')\n",
    "plt.xlabel('Общее количество этажей')\n",
    "plt.ylabel('Количество квартир')\n",
    "plt.show()\n",
    "#print('Наибольшие по числу этажей варианты:')\n",
    "#print(data['floor'].sort_values(ascending=False).head(10))"
   ]
  },
  {
   "cell_type": "code",
   "execution_count": 41,
   "metadata": {},
   "outputs": [
    {
     "data": {
      "text/plain": [
       "<AxesSubplot:>"
      ]
     },
     "execution_count": 41,
     "metadata": {},
     "output_type": "execute_result"
    },
    {
     "data": {
      "image/png": "[encoded data removed]",
      "text/plain": [
       "<Figure size 432x288 with 1 Axes>"
      ]
     },
     "metadata": {
      "needs_background": "light"
     },
     "output_type": "display_data"
    }
   ],
   "source": [
    "# тип этажа квартиры («первый», «последний», «другой»); 'floor_type'\n",
    "data['floor_type'].value_counts().plot(kind='bar', grid=True)\n"
   ]
  },
  {
   "cell_type": "code",
   "execution_count": 42,
   "metadata": {},
   "outputs": [
    {
     "data": {
      "image/png": "[encoded data removed]",
      "text/plain": [
       "<Figure size 432x288 with 1 Axes>"
      ]
     },
     "metadata": {
      "needs_background": "light"
     },
     "output_type": "display_data"
    }
   ],
   "source": [
    "# расстояние до центра города в метрах; \n",
    "plt.hist(data['cityCenters_nearest'], bins=10, range=(1,20))\n",
    "plt.title('Расстояние до центра города')\n",
    "plt.xlabel('Расстояние до центра города')\n",
    "plt.ylabel('Количество квартир')\n",
    "plt.show()\n",
    "#print('Наиболее удаленные варианты:')\n",
    "#print(data['rooms'].sort_values(ascending=False).head(10))"
   ]
  },
  {
   "cell_type": "code",
   "execution_count": 43,
   "metadata": {},
   "outputs": [
    {
     "data": {
      "image/png": "[encoded data removed]",
      "text/plain": [
       "<Figure size 432x288 with 1 Axes>"
      ]
     },
     "metadata": {
      "needs_background": "light"
     },
     "output_type": "display_data"
    }
   ],
   "source": [
    "# расстояние до ближайшего аэропорта; \n",
    "plt.hist(data['airports_nearest'], bins=10, range=(0,3))\n",
    "plt.title('Расстояние до ближайшего аэропорта')\n",
    "plt.xlabel('Расстояние до ближайшего аэропорта')\n",
    "plt.ylabel('Количество квартир')\n",
    "plt.show()\n",
    "#print('Наиболее удаленные варианты:')\n",
    "#print(data['airports_nearest'].sort_values(ascending=False).head(10))"
   ]
  },
  {
   "cell_type": "code",
   "execution_count": 44,
   "metadata": {},
   "outputs": [
    {
     "data": {
      "image/png": "[encoded data removed]",
      "text/plain": [
       "<Figure size 432x288 with 1 Axes>"
      ]
     },
     "metadata": {
      "needs_background": "light"
     },
     "output_type": "display_data"
    }
   ],
   "source": [
    "# расстояние до ближайшего парка;\n",
    "plt.hist(data['parks_nearest'], bins=10, range=(0,20))\n",
    "plt.title('Расстояние до ближайшего парка')\n",
    "plt.xlabel('Расстояние до ближайшего парка')\n",
    "plt.ylabel('Количество квартир')\n",
    "plt.show()\n",
    "#print('Наиболее удаленные варианты:')\n",
    "#print(data['parks_nearest'].sort_values(ascending=False).head(10))"
   ]
  },
  {
   "cell_type": "code",
   "execution_count": 45,
   "metadata": {},
   "outputs": [
    {
     "data": {
      "image/png": "[encoded data removed]",
      "text/plain": [
       "<Figure size 432x288 with 1 Axes>"
      ]
     },
     "metadata": {
      "needs_background": "light"
     },
     "output_type": "display_data"
    }
   ],
   "source": [
    "# день публикации объявления.\n",
    "plt.hist(data['weekday'], bins=7, range=(0,7))\n",
    "plt.title('день публикации объявления')\n",
    "plt.xlabel('день публикации объявления')\n",
    "plt.ylabel('Количество квартир')\n",
    "plt.show()"
   ]
  },
  {
   "cell_type": "code",
   "execution_count": 46,
   "metadata": {},
   "outputs": [
    {
     "data": {
      "image/png": "[encoded data removed]",
      "text/plain": [
       "<Figure size 432x288 with 1 Axes>"
      ]
     },
     "metadata": {
      "needs_background": "light"
     },
     "output_type": "display_data"
    }
   ],
   "source": [
    "# месяц публикации объявления.\n",
    "plt.hist(data['month'], bins=[1,2,3,4,5,6,7,8,9,10,11,12], range=(0,12))\n",
    "plt.title('Месяц публикации объявления')\n",
    "plt.xlabel('Месяц публикации объявления')\n",
    "plt.ylabel('Количество квартир')\n",
    "plt.show()"
   ]
  },
  {
   "cell_type": "markdown",
   "metadata": {},
   "source": [
    "Вывод\n",
    "\n",
    "Площадь\n",
    "Большинство квартир - менее 100 квадратных метров, больше площадь практически не встречается. В подборке есть несколько очень больших и странных вариантов с площадью более 200 квадратных метров. Квартира площадью 900 квадратных метров это, наверное, Эрмитаж. \n",
    "\n",
    "Самое распространенное значение жилой площади – 31 квадратный метр. Несколько пиков вызваны вероятно, тем, что это жилые площади для 1-комнатной, затем для 2-комнатной и после этого для 3-комнатной квартиры. После 80 метров встречаются единичные случаи\n",
    "По площади кухни очень много вариантов от 5 до 10 метров – возможно, в выборке много хрущевок. Больше 20 метров кухни встречаются мало. Больше 30 - единичные случаи.\n",
    "\n",
    "Стоимость\n",
    "В основном стоимость квартир - порядка 4 миллионов. Больше 20 миллионов вариантов мало, и они выглядят очень странно и некоторые - на порядок дороже.\n",
    "Комнаты\n",
    "В основном квартиры состоят из 1, 2 и 3 комнат. Есть определенная доля 4-комнатных квартир. Варианты, где больше 7 комнат выглядят странно. Возможно, это отдельный дом.\n",
    "Высота потолков\n",
    "Большинство вариантов имеют высоту потолков от 2,5 до 2,8 метров. \n",
    "\n",
    "Наиболее распространенные этажи квартиры представлены в диапазоне от 1 до 5; \n",
    "Наиболее распространенные варианты находятся в пятиэтажках и девятиэтажках. \n",
    "Тип этажа квартиры в основном представлен не «первый» и не «последний».  \n",
    "\n",
    "Расстояния\n",
    "Наиболее распространенное расстояние до центра города 13 км; \n",
    "В расстояниях до ближайшего аэропорта очень много нулевых значений. Возможно, эти данные были заполнены некорректно.  \n",
    "В расстояниях до ближайшего парка наиболее распространенные значения расположились от 18 до 20 км. Возможно, эти данные вычислялись некорректно – учитывались только самые распространенные парки. \n",
    "\n",
    "День и месяц публикации объявления.\n",
    "Самые распространенные дни публикаций – рабочие. В субботу и воскресенье размещение объявлений происходило практически в два раза реже. \n",
    "Самые распространенные месяцы публикаций – ноябрь и декабрь. "
   ]
  },
  {
   "cell_type": "markdown",
   "metadata": {},
   "source": [
    "Самый распространенный месяц публикаций – декабрь."
   ]
  },
  {
   "cell_type": "markdown",
   "metadata": {},
   "source": [
    "#### Изучите, как быстро продавались квартиры (столбец days_exposition). Этот параметр показывает, сколько дней было размещено каждое объявление.\n",
    "- Постройте гистограмму.\n",
    "- Посчитайте среднее и медиану.\n",
    "В ячейке типа markdown опишите, сколько времени обычно занимает продажа. Какие продажи можно считать быстрыми, а какие — необычно долгими?\n"
   ]
  },
  {
   "cell_type": "code",
   "execution_count": 47,
   "metadata": {},
   "outputs": [
    {
     "name": "stdout",
     "output_type": "stream",
     "text": [
      "Время продажи (медиана): 73.0\n",
      "Время продажи (среднее): 155.07929593741665\n"
     ]
    },
    {
     "data": {
      "image/png": "[encoded data removed]",
      "text/plain": [
       "<Figure size 432x288 with 1 Axes>"
      ]
     },
     "metadata": {
      "needs_background": "light"
     },
     "output_type": "display_data"
    },
    {
     "data": {
      "text/plain": [
       "count    19557.000000\n",
       "mean       178.400266\n",
       "std        217.118632\n",
       "min          1.000000\n",
       "25%         45.000000\n",
       "50%         94.000000\n",
       "75%        228.000000\n",
       "max       1580.000000\n",
       "Name: days_exposition, dtype: float64"
      ]
     },
     "execution_count": 47,
     "metadata": {},
     "output_type": "execute_result"
    }
   ],
   "source": [
    "#days_exposition\n",
    "print('Время продажи (медиана):', data['days_exposition'].median())\n",
    "print('Время продажи (среднее):', data['days_exposition'].mean())\n",
    "# Гистограма времени продажи\n",
    "plt.hist(data.query('days_exposition != 0')['days_exposition'], bins=100, range=(0,250))\n",
    "plt.title('Время продажи')\n",
    "plt.xlabel('Дни')\n",
    "plt.ylabel('Количество квартир')\n",
    "plt.show()\n",
    "# Изучаем значения срока продажи\n",
    "data.query('days_exposition != 0')['days_exposition'].describe()"
   ]
  },
  {
   "cell_type": "markdown",
   "metadata": {},
   "source": [
    "Вывод.\n",
    "\n",
    "Медианное время продажи - 95 дней. Среднее время продажи - 181 день.\n",
    "В основном квартиры продаются за срок в 100 дней. Есть большое число квартир, проданных всего за несколько дней после публикации. А также есть варианты, которые продавались несколько десятков месяцев.\n",
    "\n",
    "Быстрой продажей можно назвать срок в 45 дней и меньше. Долгой продажей - 210 дней (7 месяцев) и дольше."
   ]
  },
  {
   "cell_type": "code",
   "execution_count": 48,
   "metadata": {},
   "outputs": [
    {
     "name": "stdout",
     "output_type": "stream",
     "text": [
      "Index(['total_images', 'last_price', 'total_area', 'first_day_exposition',\n",
      "       'rooms', 'ceiling_height', 'floors_total', 'living_area', 'floor',\n",
      "       'is_apartment', 'studio', 'open_plan', 'kitchen_area', 'balcony',\n",
      "       'locality_name', 'airports_nearest', 'cityCenters_nearest',\n",
      "       'parks_around3000', 'parks_nearest', 'ponds_around3000',\n",
      "       'ponds_nearest', 'days_exposition', 'one_m_price', 'weekday', 'month',\n",
      "       'year', 'floor_type'],\n",
      "      dtype='object')\n"
     ]
    },
    {
     "data": {
      "text/plain": [
       "count    19557.000000\n",
       "mean       178.400266\n",
       "std        217.118632\n",
       "min          1.000000\n",
       "25%         45.000000\n",
       "50%         94.000000\n",
       "75%        228.000000\n",
       "max       1580.000000\n",
       "Name: days_exposition, dtype: float64"
      ]
     },
     "execution_count": 48,
     "metadata": {},
     "output_type": "execute_result"
    },
    {
     "data": {
      "image/png": "[encoded data removed]",
      "text/plain": [
       "<Figure size 432x288 with 1 Axes>"
      ]
     },
     "metadata": {
      "needs_background": "light"
     },
     "output_type": "display_data"
    }
   ],
   "source": [
    "print(data.columns)\n",
    "\n",
    "#диаграмма размаха\n",
    "#plt.boxplot(data[data['days_exposition']!=0]['days_exposition'])\n",
    "plt.boxplot(data.query('days_exposition != 0')['days_exposition'])\n",
    "plt.ylim(1,1000)\n",
    "\n",
    "#среднее значение, медиана и межквартильный размах\n",
    "data[data['days_exposition']!=0]['days_exposition'].describe()\n",
    "#data[data['days_exposition']!=0]['days_exposition'].value_counts()"
   ]
  },
  {
   "cell_type": "markdown",
   "metadata": {},
   "source": [
    "####\tКакие факторы больше всего влияют на общую (полную) стоимость объекта?\n",
    "\n",
    "Изучите, зависит ли цена от:\n",
    "\n",
    "- общей площади;\n",
    "- жилой площади;\n",
    "- площади кухни;\n",
    "- количества комнат;\n",
    "- этажа, на котором расположена квартира (первый, последний, другой);\n",
    "- даты размещения (день недели, месяц, год).\n",
    "\n",
    "Постройте графики, которые покажут зависимость цены от указанных выше параметров. Для подготовки данных перед визуализацией вы можете использовать сводные таблицы.\n"
   ]
  },
  {
   "cell_type": "code",
   "execution_count": 49,
   "metadata": {
    "scrolled": true
   },
   "outputs": [
    {
     "data": {
      "image/png": "[encoded data removed]",
      "text/plain": [
       "<Figure size 360x360 with 1 Axes>"
      ]
     },
     "metadata": {
      "needs_background": "light"
     },
     "output_type": "display_data"
    },
    {
     "name": "stdout",
     "output_type": "stream",
     "text": [
      "Корреляция цены и общей площади: \n",
      "\n",
      "            last_price  total_area\n",
      "last_price     1.00000     0.89287\n",
      "total_area     0.89287     1.00000 \n",
      "\n"
     ]
    },
    {
     "data": {
      "image/png": "[encoded data removed]",
      "text/plain": [
       "<Figure size 360x360 with 1 Axes>"
      ]
     },
     "metadata": {
      "needs_background": "light"
     },
     "output_type": "display_data"
    },
    {
     "name": "stdout",
     "output_type": "stream",
     "text": [
      "Корреляция цены и жилой площади: \n",
      "\n",
      "             last_price  living_area\n",
      "last_price     1.000000     0.746904\n",
      "living_area    0.746904     1.000000 \n",
      "\n"
     ]
    },
    {
     "data": {
      "image/png": "[encoded data removed]",
      "text/plain": [
       "<Figure size 360x360 with 1 Axes>"
      ]
     },
     "metadata": {
      "needs_background": "light"
     },
     "output_type": "display_data"
    },
    {
     "name": "stdout",
     "output_type": "stream",
     "text": [
      "Корреляция цены и площади кухни: \n",
      "\n",
      "              kitchen_area  last_price\n",
      "kitchen_area      1.000000    0.470304\n",
      "last_price        0.470304    1.000000 \n",
      "\n"
     ]
    }
   ],
   "source": [
    "\n",
    "\n",
    "# Зависимость цены от площади\n",
    "(\n",
    "    data.pivot_table(index='total_area', values='last_price')\n",
    "    .plot(grid=True, style='o', figsize=(5, 5))\n",
    ")\n",
    "plt.show()\n",
    "print('Корреляция цены и общей площади:','\\n')\n",
    "print(data.pivot_table(index='floor', values=['total_area', 'last_price']).corr(),'\\n')\n",
    "\n",
    "# Зависимость цены от жилой площади\n",
    "(\n",
    "    data.pivot_table(index='living_area', values='last_price')\n",
    "    .plot(grid=True, style='o', figsize=(5, 5))\n",
    ")\n",
    "plt.show()\n",
    "print('Корреляция цены и жилой площади:','\\n')\n",
    "print(data.pivot_table(index='floor', values=['living_area', 'last_price']).corr(),'\\n')\n",
    "\n",
    "# Зависимость цены от площади кухни kitchen_area\n",
    "(\n",
    "    data.pivot_table(index='kitchen_area', values='last_price')\n",
    "    .plot(grid=True, style='o', figsize=(5, 5))\n",
    ")\n",
    "plt.show()\n",
    "print('Корреляция цены и площади кухни:','\\n')\n",
    "print(data.pivot_table(index='floor', values=['kitchen_area', 'last_price']).corr(),'\\n')"
   ]
  },
  {
   "cell_type": "code",
   "execution_count": 50,
   "metadata": {},
   "outputs": [
    {
     "data": {
      "image/png": "[encoded data removed]",
      "text/plain": [
       "<Figure size 576x576 with 1 Axes>"
      ]
     },
     "metadata": {
      "needs_background": "light"
     },
     "output_type": "display_data"
    }
   ],
   "source": [
    "x = data['total_area']\n",
    "y1 = data['last_price']\n",
    "fig, ax = plt.subplots()\n",
    "ax.scatter(x, y1,\n",
    "           c = 'r', # [[0.1, 0.63, 0.55, 0.05]],\n",
    "           s = 3)\n",
    "fig.set_figwidth(8)\n",
    "fig.set_figheight(8)\n",
    "ax.set_facecolor('black')\n",
    "plt.show()\n",
    "# plot.scatter(0, 1, s=12, grid=True)"
   ]
  },
  {
   "cell_type": "code",
   "execution_count": 52,
   "metadata": {
    "scrolled": true
   },
   "outputs": [
    {
     "data": {
      "image/png": "[encoded data removed]",
      "text/plain": [
       "<Figure size 360x360 with 1 Axes>"
      ]
     },
     "metadata": {
      "needs_background": "light"
     },
     "output_type": "display_data"
    },
    {
     "name": "stdout",
     "output_type": "stream",
     "text": [
      "Корреляция цены и числа комнат: \n",
      "\n",
      "            last_price     rooms\n",
      "last_price    1.000000  0.619526\n",
      "rooms         0.619526  1.000000 \n",
      "\n"
     ]
    }
   ],
   "source": [
    "# Зависимость цены от числа комнат\n",
    "(\n",
    "    data.query('rooms > 0').pivot_table(index='rooms', values='last_price')\n",
    "    .plot(grid=True, style='o-', figsize=(5, 5))\n",
    ")\n",
    "plt.show()\n",
    "print('Корреляция цены и числа комнат:','\\n')\n",
    "print(data.query('rooms > 0').pivot_table(index='floor', values=['rooms', 'last_price']).corr(),'\\n')"
   ]
  },
  {
   "cell_type": "code",
   "execution_count": 53,
   "metadata": {},
   "outputs": [
    {
     "data": {
      "image/png": "[encoded data removed]",
      "text/plain": [
       "<Figure size 360x360 with 1 Axes>"
      ]
     },
     "metadata": {
      "needs_background": "light"
     },
     "output_type": "display_data"
    }
   ],
   "source": [
    "# Зависимость цены от этажа\n",
    "(\n",
    "    data.pivot_table(index='floor_type', values='last_price', aggfunc='median')\n",
    "    .plot(grid=True, style='o-', figsize=(5, 5))\n",
    ")\n",
    "plt.show()"
   ]
  },
  {
   "cell_type": "code",
   "execution_count": 54,
   "metadata": {},
   "outputs": [
    {
     "data": {
      "image/png": "[encoded data removed]",
      "text/plain": [
       "<Figure size 360x360 with 1 Axes>"
      ]
     },
     "metadata": {
      "needs_background": "light"
     },
     "output_type": "display_data"
    },
    {
     "name": "stdout",
     "output_type": "stream",
     "text": [
      "Корреляция цена-день недели: \n",
      "\n",
      "            last_price   weekday\n",
      "last_price    1.000000  0.501144\n",
      "weekday       0.501144  1.000000 \n",
      "\n"
     ]
    },
    {
     "data": {
      "image/png": "[encoded data removed]",
      "text/plain": [
       "<Figure size 360x360 with 1 Axes>"
      ]
     },
     "metadata": {
      "needs_background": "light"
     },
     "output_type": "display_data"
    },
    {
     "name": "stdout",
     "output_type": "stream",
     "text": [
      "Корреляция цена-месяц размещения: \n",
      "\n",
      "            last_price    month\n",
      "last_price     1.00000  0.01079\n",
      "month          0.01079  1.00000 \n",
      "\n"
     ]
    },
    {
     "data": {
      "image/png": "[encoded data removed]",
      "text/plain": [
       "<Figure size 360x360 with 1 Axes>"
      ]
     },
     "metadata": {
      "needs_background": "light"
     },
     "output_type": "display_data"
    },
    {
     "name": "stdout",
     "output_type": "stream",
     "text": [
      "Корреляция цена-год размещения: \n",
      "\n",
      "            last_price      year\n",
      "last_price    1.000000  0.054467\n",
      "year          0.054467  1.000000 \n",
      "\n"
     ]
    }
   ],
   "source": [
    "# Зависимость цены от даты размещения (день недели\n",
    "(\n",
    "    data.pivot_table(index='weekday', values='last_price')\n",
    "    .plot(grid=True, style='o', figsize=(5, 5))\n",
    ")\n",
    "plt.show()\n",
    "print('Корреляция цена-день недели:','\\n')\n",
    "print(data.pivot_table(index='floor', values=['weekday', 'last_price']).corr(),'\\n')\n",
    "\n",
    "# Зависимость цены от даты размещения месяц\n",
    "(\n",
    "    data.pivot_table(index='month', values='last_price')\n",
    "    .plot(grid=True, style='o', figsize=(5, 5))\n",
    ")\n",
    "plt.show()\n",
    "print('Корреляция цена-месяц размещения:','\\n')\n",
    "print(data.pivot_table(index='floor', values=['month', 'last_price']).corr(),'\\n')\n",
    "\n",
    "# Зависимость цены от даты размещения год\n",
    "(\n",
    "    data.pivot_table(index='year', values='last_price')\n",
    "    .plot(grid=True, style='o', figsize=(5, 5))\n",
    ")\n",
    "plt.show()\n",
    "print('Корреляция цена-год размещения:','\\n')\n",
    "print(data.pivot_table(index='floor', values=['year', 'last_price']).corr(),'\\n')"
   ]
  },
  {
   "cell_type": "markdown",
   "metadata": {},
   "source": [
    "4.3. \n",
    "Выводы\n",
    "\n",
    "Чем больше общая площадь, тем выше стоимость. Корреляция этих параметров крайне высокая. Почти такая же корреляция у жилой площади. Зависимость цены от площади кухни небольшая и линейная. \n",
    "\n",
    "Число комнат влияет на цену (больше комнат - больше цена), однако зависимость ниже, чем у площади. Можно сделать два вывода: бывают квартиры с большими по площади комнатами; квартиры в центре состоят из малого числа комнат, но стоят достаточно высоко. 12-ти комнатные квартиры выставлялись в 4 раза дороже, чем остальные. \n",
    "\n",
    "Первый этаж непосредственно влияет на стоимость квартиры - в среднем квартиры на 1-м этаже значительно дешевле. Чуть дороже последний этаж. Наибольшая стоимость у квартир, расположенных не на 1-м и не на последнем этаже.\n",
    "\n",
    "Зависимость цены от дня недели почти линейная - к концу недели стоимость размещения возрастает. Но в воскресенье -  наоборот, выставляется дешевле, чем в остальные дни. \n",
    "\n",
    "Зависимости цены от месяца размещения как таковой нет. В сентябре и в декабре стоимость размещения наиболее высокая. \n",
    "\n",
    "Зависимость цены от года размещения наблюдается обратная. Цена была наиболее высокой в 2014 году и до 2018 г снижалась. В 2019 г. цена стала немного повышаться. "
   ]
  },
  {
   "cell_type": "markdown",
   "metadata": {},
   "source": [
    "#### \tПосчитайте среднюю цену одного квадратного метра в 10 населённых пунктах с наибольшим числом объявлений. Выделите населённые пункты с самой высокой и низкой стоимостью квадратного метра. Эти данные можно найти по имени в столбце locality_name."
   ]
  },
  {
   "cell_type": "code",
   "execution_count": 55,
   "metadata": {},
   "outputs": [
    {
     "data": {
      "text/html": [
       "<div>\n",
       "<style scoped>\n",
       "    .dataframe tbody tr th:only-of-type {\n",
       "        vertical-align: middle;\n",
       "    }\n",
       "\n",
       "    .dataframe tbody tr th {\n",
       "        vertical-align: top;\n",
       "    }\n",
       "\n",
       "    .dataframe thead th {\n",
       "        text-align: right;\n",
       "    }\n",
       "</style>\n",
       "<table border=\"1\" class=\"dataframe\">\n",
       "  <thead>\n",
       "    <tr style=\"text-align: right;\">\n",
       "      <th></th>\n",
       "      <th>Число объявлений</th>\n",
       "      <th>one_m_price</th>\n",
       "    </tr>\n",
       "    <tr>\n",
       "      <th>locality_name</th>\n",
       "      <th></th>\n",
       "      <th></th>\n",
       "    </tr>\n",
       "  </thead>\n",
       "  <tbody>\n",
       "    <tr>\n",
       "      <th>санкт-петербург</th>\n",
       "      <td>14789</td>\n",
       "      <td>111398</td>\n",
       "    </tr>\n",
       "    <tr>\n",
       "      <th>поселок мурино</th>\n",
       "      <td>524</td>\n",
       "      <td>84911</td>\n",
       "    </tr>\n",
       "    <tr>\n",
       "      <th>поселок шушары</th>\n",
       "      <td>432</td>\n",
       "      <td>78407</td>\n",
       "    </tr>\n",
       "    <tr>\n",
       "      <th>всеволожск</th>\n",
       "      <td>383</td>\n",
       "      <td>68492</td>\n",
       "    </tr>\n",
       "    <tr>\n",
       "      <th>пушкин</th>\n",
       "      <td>345</td>\n",
       "      <td>101623</td>\n",
       "    </tr>\n",
       "    <tr>\n",
       "      <th>колпино</th>\n",
       "      <td>335</td>\n",
       "      <td>75331</td>\n",
       "    </tr>\n",
       "    <tr>\n",
       "      <th>поселок парголово</th>\n",
       "      <td>321</td>\n",
       "      <td>90253</td>\n",
       "    </tr>\n",
       "    <tr>\n",
       "      <th>гатчина</th>\n",
       "      <td>304</td>\n",
       "      <td>68561</td>\n",
       "    </tr>\n",
       "    <tr>\n",
       "      <th>деревня кудрово</th>\n",
       "      <td>275</td>\n",
       "      <td>92622</td>\n",
       "    </tr>\n",
       "    <tr>\n",
       "      <th>выборг</th>\n",
       "      <td>227</td>\n",
       "      <td>58027</td>\n",
       "    </tr>\n",
       "  </tbody>\n",
       "</table>\n",
       "</div>"
      ],
      "text/plain": [
       "                   Число объявлений  one_m_price\n",
       "locality_name                                   \n",
       "санкт-петербург               14789       111398\n",
       "поселок мурино                  524        84911\n",
       "поселок шушары                  432        78407\n",
       "всеволожск                      383        68492\n",
       "пушкин                          345       101623\n",
       "колпино                         335        75331\n",
       "поселок парголово               321        90253\n",
       "гатчина                         304        68561\n",
       "деревня кудрово                 275        92622\n",
       "выборг                          227        58027"
      ]
     },
     "execution_count": 55,
     "metadata": {},
     "output_type": "execute_result"
    }
   ],
   "source": [
    "#print(data['one_m_price'].max()) # 1907500\n",
    "#print(data['one_m_price'].min()) # 111\n",
    "# {:.0f} - количество знаков после запятой \n",
    "pd.set_option('display.float_format', '{:.0f}'.format)\n",
    "\n",
    "data.groupby('locality_name').agg({'total_images':'count', 'one_m_price': 'mean'})\\\n",
    ".rename(columns = {'total_images': 'Число объявлений'})\\\n",
    ".sort_values(by = 'Число объявлений', ascending = False).head(10)\n"
   ]
  },
  {
   "cell_type": "markdown",
   "metadata": {},
   "source": [
    "Вывод\n",
    "Населенные пункты с самой высокой стоимостью квадратного метра - Санкт-Петербург и Пушкин. \n",
    "Населенный пункт с самой низкой стоимостью квадратного метра - Выборг. "
   ]
  },
  {
   "cell_type": "markdown",
   "metadata": {},
   "source": [
    "#### \tРанее вы посчитали расстояние до центра в километрах. Теперь выделите квартиры в Санкт-Петербурге с помощью столбца locality_name и вычислите среднюю цену каждого километра. Опишите, как стоимость объектов зависит от расстояния до центра города."
   ]
  },
  {
   "cell_type": "code",
   "execution_count": 56,
   "metadata": {},
   "outputs": [
    {
     "data": {
      "image/png": "[encoded data removed]",
      "text/plain": [
       "<Figure size 360x360 with 1 Axes>"
      ]
     },
     "metadata": {
      "needs_background": "light"
     },
     "output_type": "display_data"
    }
   ],
   "source": [
    "\n",
    "(\n",
    "    data.query('locality_name == \"санкт-петербург\"').pivot_table(index='cityCenters_nearest', values='last_price')\n",
    "    .plot(grid=True, style='o-', figsize=(5, 5))\n",
    ")\n",
    "plt.show()\n"
   ]
  },
  {
   "cell_type": "markdown",
   "metadata": {},
   "source": [
    "Вывод\n",
    "Стоимость при удалении от центра резко падает и остается высокой для квартир до 9 км от центра. Далее при увеличении расстояния стоимость падает не сильно. Повышающиеся значения на удалении 20 и 27 км скорее всего относятся к элитным районам. "
   ]
  },
  {
   "cell_type": "code",
   "execution_count": 57,
   "metadata": {},
   "outputs": [],
   "source": [
    "### Общий вывод"
   ]
  },
  {
   "cell_type": "markdown",
   "metadata": {},
   "source": []
  },
  {
   "cell_type": "markdown",
   "metadata": {},
   "source": [
    "В представленном отчете проведен исследовательский анализ данных. Первоначальные данные были проверены на пропуски, дубликаты и аномальные значения. Для более широкого анализа были добавлены столбцы с рассчитанными данными: цена одного квадратного метра, день, месяц и год публикации объявления, тип этажа квартиры и расстояние до центра города в километрах. Параметры объектов были изучены: построены гистограммы, выявлены зависимости и сделаны выводы. \n",
    "\n",
    "Медианное время продажи - 95 дней. Среднее время продажи - 181 день. В основном квартиры продаются за срок в 100 дней. Быстрой продажей можно назвать срок в 45 дней и меньше. Долгой продажей - 210 дней (7 месяцев) и дольше. \n",
    "\n",
    "На стоимость объявления больше всего влияет площадь квартиры, нежели число комнат.  Квартиры в центре состоят из малого числа комнат, но стоят достаточно высоко. Первый этаж значительно дешевле остальных вариантов. Также стоимость квартиры на последнем этаже ниже, чем на остальных, кроме первого. Большинство вариантов имеют высоту потолков от 2,5 до 3 метров. Наиболее распространенные варианты находятся в пятиэтажках.\n",
    "\n",
    "Самые распространенные дни публикаций – рабочие, самый «дорогой» день - пятница. В субботу и воскресенье размещение объявлений происходило практически в два раза реже и цены дешевле, чем в рабочие. \n",
    "\n",
    "Самый распространенный месяц публикаций – декабрь. В сентябре и в декабре стоимость размещения наиболее высокая. Цены на квартиры были наиболее высокими в 2014 году и до 2018 г снижалась. В 2019 г. цены стали повышаться.\n",
    "\n",
    "Населенные пункты с самой высокой стоимостью квадратного метра - Санкт-Петербург и Пушкин. \n",
    "Населенный пункт с самой низкой стоимостью квадратного метра - Выборг.\n",
    "\n",
    "Стоимость квартиры при удалении от центра резко падает, но остается высокой для квартир с удалением до 9 км от центра. Далее при увеличении расстояния стоимость уменьшается незначительно. В представленной выборке есть высокие значения цен, которые относятся скорее всего к элитным районам.\n"
   ]
  }
 ],
 "metadata": {
  "ExecuteTimeLog": [
   {
    "duration": 45,
    "start_time": "2022-10-10T08:14:32.547Z"
   },
   {
    "duration": 7,
    "start_time": "2022-10-10T08:14:56.060Z"
   },
   {
    "duration": 3074,
    "start_time": "2022-10-10T08:15:16.449Z"
   },
   {
    "duration": 2082,
    "start_time": "2022-10-10T08:26:50.838Z"
   },
   {
    "duration": 120,
    "start_time": "2022-10-10T08:27:15.779Z"
   },
   {
    "duration": 108,
    "start_time": "2022-10-10T08:41:42.180Z"
   },
   {
    "duration": 122,
    "start_time": "2022-10-10T08:50:08.727Z"
   },
   {
    "duration": 2215,
    "start_time": "2022-10-10T08:51:50.400Z"
   },
   {
    "duration": 2808,
    "start_time": "2022-10-10T19:22:57.529Z"
   },
   {
    "duration": 8,
    "start_time": "2022-10-10T19:23:31.035Z"
   },
   {
    "duration": 10,
    "start_time": "2022-10-10T19:28:59.700Z"
   },
   {
    "duration": 21,
    "start_time": "2022-10-10T19:33:02.663Z"
   },
   {
    "duration": 8,
    "start_time": "2022-10-10T19:57:17.287Z"
   },
   {
    "duration": 1333,
    "start_time": "2022-10-10T19:58:10.137Z"
   },
   {
    "duration": 1912,
    "start_time": "2022-10-10T19:58:59.032Z"
   },
   {
    "duration": 111,
    "start_time": "2022-10-10T19:59:12.272Z"
   },
   {
    "duration": 96,
    "start_time": "2022-10-10T19:59:46.296Z"
   },
   {
    "duration": 51,
    "start_time": "2022-10-11T04:35:37.213Z"
   },
   {
    "duration": 637,
    "start_time": "2022-10-11T04:35:42.648Z"
   },
   {
    "duration": 8,
    "start_time": "2022-10-11T04:35:45.437Z"
   },
   {
    "duration": 142,
    "start_time": "2022-10-11T04:37:25.081Z"
   },
   {
    "duration": 83,
    "start_time": "2022-10-11T04:44:52.392Z"
   },
   {
    "duration": 147,
    "start_time": "2022-10-11T05:09:37.087Z"
   },
   {
    "duration": 91,
    "start_time": "2022-10-11T05:09:43.803Z"
   },
   {
    "duration": 41,
    "start_time": "2022-10-11T05:43:40.113Z"
   },
   {
    "duration": 91,
    "start_time": "2022-10-11T05:47:50.410Z"
   },
   {
    "duration": 56,
    "start_time": "2022-10-11T05:48:13.420Z"
   },
   {
    "duration": 25,
    "start_time": "2022-10-11T05:48:25.842Z"
   },
   {
    "duration": 2041,
    "start_time": "2022-10-11T05:50:19.759Z"
   },
   {
    "duration": 4,
    "start_time": "2022-10-11T05:51:17.033Z"
   },
   {
    "duration": 6,
    "start_time": "2022-10-11T05:52:18.407Z"
   },
   {
    "duration": 9,
    "start_time": "2022-10-11T06:08:49.066Z"
   },
   {
    "duration": 6,
    "start_time": "2022-10-11T06:14:19.484Z"
   },
   {
    "duration": 497,
    "start_time": "2022-10-11T07:55:33.086Z"
   },
   {
    "duration": 33,
    "start_time": "2022-10-11T07:55:33.585Z"
   },
   {
    "duration": 2053,
    "start_time": "2022-10-11T07:55:33.619Z"
   },
   {
    "duration": 7,
    "start_time": "2022-10-11T07:55:35.674Z"
   },
   {
    "duration": 49,
    "start_time": "2022-10-11T07:55:35.682Z"
   },
   {
    "duration": 0,
    "start_time": "2022-10-11T07:55:35.732Z"
   },
   {
    "duration": 0,
    "start_time": "2022-10-11T07:55:35.733Z"
   },
   {
    "duration": 0,
    "start_time": "2022-10-11T07:55:35.735Z"
   },
   {
    "duration": 0,
    "start_time": "2022-10-11T07:55:35.736Z"
   },
   {
    "duration": 8,
    "start_time": "2022-10-11T07:56:57.925Z"
   },
   {
    "duration": 8,
    "start_time": "2022-10-11T07:57:05.438Z"
   },
   {
    "duration": 10,
    "start_time": "2022-10-11T07:57:40.643Z"
   },
   {
    "duration": 9,
    "start_time": "2022-10-11T07:58:00.964Z"
   },
   {
    "duration": 3118,
    "start_time": "2022-10-11T08:09:16.207Z"
   },
   {
    "duration": 403,
    "start_time": "2022-10-11T08:09:32.909Z"
   },
   {
    "duration": 216,
    "start_time": "2022-10-11T08:09:48.823Z"
   },
   {
    "duration": 8,
    "start_time": "2022-10-11T08:12:20.110Z"
   },
   {
    "duration": 233,
    "start_time": "2022-10-11T08:13:19.211Z"
   },
   {
    "duration": 265,
    "start_time": "2022-10-11T08:13:36.074Z"
   },
   {
    "duration": 200,
    "start_time": "2022-10-11T08:13:44.024Z"
   },
   {
    "duration": 197,
    "start_time": "2022-10-11T08:13:53.373Z"
   },
   {
    "duration": 14,
    "start_time": "2022-10-11T08:16:57.115Z"
   },
   {
    "duration": 9,
    "start_time": "2022-10-11T08:17:11.070Z"
   },
   {
    "duration": 10,
    "start_time": "2022-10-11T08:17:42.821Z"
   },
   {
    "duration": 108,
    "start_time": "2022-10-11T08:18:04.134Z"
   },
   {
    "duration": 132,
    "start_time": "2022-10-11T08:18:13.584Z"
   },
   {
    "duration": 11,
    "start_time": "2022-10-11T08:22:46.476Z"
   },
   {
    "duration": 129,
    "start_time": "2022-10-11T08:25:01.760Z"
   },
   {
    "duration": 10,
    "start_time": "2022-10-11T08:26:17.969Z"
   },
   {
    "duration": 9,
    "start_time": "2022-10-11T08:32:46.358Z"
   },
   {
    "duration": 1761,
    "start_time": "2022-10-11T08:37:57.998Z"
   },
   {
    "duration": 6,
    "start_time": "2022-10-11T08:38:31.125Z"
   },
   {
    "duration": 113,
    "start_time": "2022-10-11T08:38:53.158Z"
   },
   {
    "duration": 12,
    "start_time": "2022-10-11T08:47:36.040Z"
   },
   {
    "duration": 28,
    "start_time": "2022-10-11T08:49:46.124Z"
   },
   {
    "duration": 14,
    "start_time": "2022-10-11T09:20:19.584Z"
   },
   {
    "duration": 16,
    "start_time": "2022-10-11T09:20:43.393Z"
   },
   {
    "duration": 13,
    "start_time": "2022-10-11T09:21:23.098Z"
   },
   {
    "duration": 10,
    "start_time": "2022-10-11T09:23:32.485Z"
   },
   {
    "duration": 37,
    "start_time": "2022-10-11T09:42:28.630Z"
   },
   {
    "duration": 64,
    "start_time": "2022-10-11T10:00:37.109Z"
   },
   {
    "duration": 705,
    "start_time": "2022-10-11T23:06:54.543Z"
   },
   {
    "duration": 33,
    "start_time": "2022-10-11T23:07:02.509Z"
   },
   {
    "duration": 2125,
    "start_time": "2022-10-11T23:07:09.168Z"
   },
   {
    "duration": 7,
    "start_time": "2022-10-11T23:07:17.579Z"
   },
   {
    "duration": 74,
    "start_time": "2022-10-11T23:07:23.065Z"
   },
   {
    "duration": 15,
    "start_time": "2022-10-11T23:07:28.210Z"
   },
   {
    "duration": 18,
    "start_time": "2022-10-11T23:09:12.255Z"
   },
   {
    "duration": 9,
    "start_time": "2022-10-11T23:09:32.761Z"
   },
   {
    "duration": 9,
    "start_time": "2022-10-11T23:09:39.463Z"
   },
   {
    "duration": 9,
    "start_time": "2022-10-11T23:09:44.040Z"
   },
   {
    "duration": 17,
    "start_time": "2022-10-11T23:09:47.686Z"
   },
   {
    "duration": 12,
    "start_time": "2022-10-11T23:10:45.860Z"
   },
   {
    "duration": 700,
    "start_time": "2022-10-12T05:19:41.812Z"
   },
   {
    "duration": 29,
    "start_time": "2022-10-12T05:19:42.514Z"
   },
   {
    "duration": 2128,
    "start_time": "2022-10-12T05:19:42.544Z"
   },
   {
    "duration": 6,
    "start_time": "2022-10-12T05:19:44.675Z"
   },
   {
    "duration": 79,
    "start_time": "2022-10-12T05:19:44.682Z"
   },
   {
    "duration": 13,
    "start_time": "2022-10-12T05:19:44.762Z"
   },
   {
    "duration": 127,
    "start_time": "2022-10-12T05:19:44.777Z"
   },
   {
    "duration": 21,
    "start_time": "2022-10-12T05:19:44.905Z"
   },
   {
    "duration": 2,
    "start_time": "2022-10-12T05:19:44.928Z"
   },
   {
    "duration": 38,
    "start_time": "2022-10-12T05:19:44.932Z"
   },
   {
    "duration": 94,
    "start_time": "2022-10-12T05:19:44.971Z"
   },
   {
    "duration": 25,
    "start_time": "2022-10-12T05:45:27.861Z"
   },
   {
    "duration": 26,
    "start_time": "2022-10-12T05:46:21.773Z"
   },
   {
    "duration": 33,
    "start_time": "2022-10-12T05:46:24.533Z"
   },
   {
    "duration": 24,
    "start_time": "2022-10-12T05:47:50.156Z"
   },
   {
    "duration": 13,
    "start_time": "2022-10-12T05:50:47.435Z"
   },
   {
    "duration": 107,
    "start_time": "2022-10-12T05:51:02.033Z"
   },
   {
    "duration": 1008,
    "start_time": "2022-10-12T05:51:15.149Z"
   },
   {
    "duration": 22,
    "start_time": "2022-10-12T05:51:46.299Z"
   },
   {
    "duration": 29,
    "start_time": "2022-10-12T05:55:17.164Z"
   },
   {
    "duration": 28,
    "start_time": "2022-10-12T05:57:06.823Z"
   },
   {
    "duration": 26,
    "start_time": "2022-10-12T05:59:23.870Z"
   },
   {
    "duration": 26,
    "start_time": "2022-10-12T05:59:27.570Z"
   },
   {
    "duration": 15,
    "start_time": "2022-10-12T06:07:37.532Z"
   },
   {
    "duration": 26,
    "start_time": "2022-10-12T06:08:07.396Z"
   },
   {
    "duration": 26,
    "start_time": "2022-10-12T06:08:17.455Z"
   },
   {
    "duration": 13,
    "start_time": "2022-10-12T06:08:26.797Z"
   },
   {
    "duration": 7,
    "start_time": "2022-10-12T06:13:28.439Z"
   },
   {
    "duration": 8,
    "start_time": "2022-10-12T06:14:00.606Z"
   },
   {
    "duration": 26,
    "start_time": "2022-10-12T06:14:39.362Z"
   },
   {
    "duration": 14,
    "start_time": "2022-10-12T06:18:33.744Z"
   },
   {
    "duration": 32,
    "start_time": "2022-10-12T06:18:35.782Z"
   },
   {
    "duration": 10,
    "start_time": "2022-10-12T09:57:31.837Z"
   },
   {
    "duration": 17,
    "start_time": "2022-10-12T09:58:50.208Z"
   },
   {
    "duration": 40,
    "start_time": "2022-10-12T10:16:43.407Z"
   },
   {
    "duration": 38,
    "start_time": "2022-10-12T10:16:50.600Z"
   },
   {
    "duration": 212,
    "start_time": "2022-10-12T10:20:08.306Z"
   },
   {
    "duration": 291,
    "start_time": "2022-10-12T10:21:32.936Z"
   },
   {
    "duration": 405,
    "start_time": "2022-10-12T10:24:39.691Z"
   },
   {
    "duration": 285,
    "start_time": "2022-10-12T10:25:41.311Z"
   },
   {
    "duration": 42,
    "start_time": "2022-10-12T10:26:45.880Z"
   },
   {
    "duration": 14,
    "start_time": "2022-10-12T10:27:04.261Z"
   },
   {
    "duration": 16,
    "start_time": "2022-10-12T11:50:31.301Z"
   },
   {
    "duration": 27,
    "start_time": "2022-10-12T11:50:41.607Z"
   },
   {
    "duration": 12,
    "start_time": "2022-10-12T11:50:50.213Z"
   },
   {
    "duration": 836,
    "start_time": "2022-10-12T11:51:38.057Z"
   },
   {
    "duration": 26,
    "start_time": "2022-10-12T11:52:12.856Z"
   },
   {
    "duration": 8,
    "start_time": "2022-10-12T11:52:28.489Z"
   },
   {
    "duration": 29,
    "start_time": "2022-10-12T11:52:36.701Z"
   },
   {
    "duration": 13,
    "start_time": "2022-10-12T11:52:40.849Z"
   },
   {
    "duration": 5,
    "start_time": "2022-10-12T11:54:20.776Z"
   },
   {
    "duration": 28,
    "start_time": "2022-10-12T11:55:16.204Z"
   },
   {
    "duration": 125,
    "start_time": "2022-10-12T11:55:47.225Z"
   },
   {
    "duration": 543,
    "start_time": "2022-10-12T11:55:59.913Z"
   },
   {
    "duration": 36,
    "start_time": "2022-10-12T11:56:00.460Z"
   },
   {
    "duration": 51,
    "start_time": "2022-10-12T11:56:00.498Z"
   },
   {
    "duration": 2239,
    "start_time": "2022-10-12T11:56:00.553Z"
   },
   {
    "duration": 9,
    "start_time": "2022-10-12T11:56:02.795Z"
   },
   {
    "duration": 123,
    "start_time": "2022-10-12T11:56:02.805Z"
   },
   {
    "duration": 24,
    "start_time": "2022-10-12T11:56:02.930Z"
   },
   {
    "duration": 13,
    "start_time": "2022-10-12T11:56:02.956Z"
   },
   {
    "duration": 51,
    "start_time": "2022-10-12T11:56:02.971Z"
   },
   {
    "duration": 363,
    "start_time": "2022-10-12T11:56:03.025Z"
   },
   {
    "duration": 8,
    "start_time": "2022-10-12T11:56:03.390Z"
   },
   {
    "duration": 19,
    "start_time": "2022-10-12T11:56:03.408Z"
   },
   {
    "duration": 48,
    "start_time": "2022-10-12T11:56:03.429Z"
   },
   {
    "duration": 81,
    "start_time": "2022-10-12T11:56:03.479Z"
   },
   {
    "duration": 176,
    "start_time": "2022-10-12T11:56:03.562Z"
   },
   {
    "duration": 128,
    "start_time": "2022-10-12T11:56:03.740Z"
   },
   {
    "duration": 16,
    "start_time": "2022-10-12T11:58:09.061Z"
   },
   {
    "duration": 20,
    "start_time": "2022-10-12T11:58:48.820Z"
   },
   {
    "duration": 15,
    "start_time": "2022-10-12T12:00:00.904Z"
   },
   {
    "duration": 64,
    "start_time": "2022-10-12T12:03:56.349Z"
   },
   {
    "duration": 12,
    "start_time": "2022-10-12T12:04:36.813Z"
   },
   {
    "duration": 30,
    "start_time": "2022-10-12T12:06:48.359Z"
   },
   {
    "duration": 6,
    "start_time": "2022-10-12T12:07:28.900Z"
   },
   {
    "duration": 17,
    "start_time": "2022-10-12T12:19:21.873Z"
   },
   {
    "duration": 17,
    "start_time": "2022-10-12T12:19:45.897Z"
   },
   {
    "duration": 12,
    "start_time": "2022-10-12T12:20:19.539Z"
   },
   {
    "duration": 14,
    "start_time": "2022-10-12T12:21:54.593Z"
   },
   {
    "duration": 13,
    "start_time": "2022-10-12T12:22:12.661Z"
   },
   {
    "duration": 445,
    "start_time": "2022-10-12T12:22:36.758Z"
   },
   {
    "duration": 31,
    "start_time": "2022-10-12T12:22:37.205Z"
   },
   {
    "duration": 26,
    "start_time": "2022-10-12T12:22:37.237Z"
   },
   {
    "duration": 1943,
    "start_time": "2022-10-12T12:22:37.265Z"
   },
   {
    "duration": 8,
    "start_time": "2022-10-12T12:22:39.210Z"
   },
   {
    "duration": 70,
    "start_time": "2022-10-12T12:22:39.220Z"
   },
   {
    "duration": 23,
    "start_time": "2022-10-12T12:22:39.309Z"
   },
   {
    "duration": 12,
    "start_time": "2022-10-12T12:22:39.334Z"
   },
   {
    "duration": 73,
    "start_time": "2022-10-12T12:22:39.347Z"
   },
   {
    "duration": 232,
    "start_time": "2022-10-12T12:22:39.422Z"
   },
   {
    "duration": 27,
    "start_time": "2022-10-12T12:22:39.656Z"
   },
   {
    "duration": 28,
    "start_time": "2022-10-12T12:22:39.684Z"
   },
   {
    "duration": 2,
    "start_time": "2022-10-12T12:22:39.713Z"
   },
   {
    "duration": 36,
    "start_time": "2022-10-12T12:22:39.717Z"
   },
   {
    "duration": 37,
    "start_time": "2022-10-12T12:22:39.754Z"
   },
   {
    "duration": 108,
    "start_time": "2022-10-12T12:22:39.809Z"
   },
   {
    "duration": 77,
    "start_time": "2022-10-12T12:22:39.919Z"
   },
   {
    "duration": 13,
    "start_time": "2022-10-12T12:23:05.917Z"
   },
   {
    "duration": 14,
    "start_time": "2022-10-12T12:23:45.353Z"
   },
   {
    "duration": 5,
    "start_time": "2022-10-12T12:23:56.739Z"
   },
   {
    "duration": 5,
    "start_time": "2022-10-12T12:26:27.849Z"
   },
   {
    "duration": 6,
    "start_time": "2022-10-12T12:26:57.461Z"
   },
   {
    "duration": 16,
    "start_time": "2022-10-12T12:27:39.537Z"
   },
   {
    "duration": 16,
    "start_time": "2022-10-12T12:29:28.823Z"
   },
   {
    "duration": 36,
    "start_time": "2022-10-12T12:36:28.960Z"
   },
   {
    "duration": 109,
    "start_time": "2022-10-12T12:40:02.350Z"
   },
   {
    "duration": 25,
    "start_time": "2022-10-12T12:40:06.323Z"
   },
   {
    "duration": 27,
    "start_time": "2022-10-12T12:40:09.165Z"
   },
   {
    "duration": 1714,
    "start_time": "2022-10-12T12:40:11.761Z"
   },
   {
    "duration": 6,
    "start_time": "2022-10-12T12:40:14.722Z"
   },
   {
    "duration": 66,
    "start_time": "2022-10-12T12:40:18.614Z"
   },
   {
    "duration": 21,
    "start_time": "2022-10-12T12:40:21.116Z"
   },
   {
    "duration": 50,
    "start_time": "2022-10-12T12:40:45.139Z"
   },
   {
    "duration": 225,
    "start_time": "2022-10-12T12:40:52.722Z"
   },
   {
    "duration": 29,
    "start_time": "2022-10-12T12:40:57.532Z"
   },
   {
    "duration": 19,
    "start_time": "2022-10-12T12:41:02.690Z"
   },
   {
    "duration": 7,
    "start_time": "2022-10-12T12:55:01.754Z"
   },
   {
    "duration": 7,
    "start_time": "2022-10-12T12:57:55.375Z"
   },
   {
    "duration": 7,
    "start_time": "2022-10-12T12:58:07.161Z"
   },
   {
    "duration": 116,
    "start_time": "2022-10-12T13:00:48.738Z"
   },
   {
    "duration": 126,
    "start_time": "2022-10-12T13:01:06.338Z"
   },
   {
    "duration": 478,
    "start_time": "2022-10-12T13:06:16.470Z"
   },
   {
    "duration": 39,
    "start_time": "2022-10-12T13:06:16.950Z"
   },
   {
    "duration": 42,
    "start_time": "2022-10-12T13:06:16.991Z"
   },
   {
    "duration": 2125,
    "start_time": "2022-10-12T13:06:17.035Z"
   },
   {
    "duration": 7,
    "start_time": "2022-10-12T13:06:19.162Z"
   },
   {
    "duration": 76,
    "start_time": "2022-10-12T13:06:19.170Z"
   },
   {
    "duration": 28,
    "start_time": "2022-10-12T13:06:19.248Z"
   },
   {
    "duration": 14,
    "start_time": "2022-10-12T13:06:19.277Z"
   },
   {
    "duration": 75,
    "start_time": "2022-10-12T13:06:19.308Z"
   },
   {
    "duration": 253,
    "start_time": "2022-10-12T13:06:19.385Z"
   },
   {
    "duration": 32,
    "start_time": "2022-10-12T13:06:19.640Z"
   },
   {
    "duration": 15,
    "start_time": "2022-10-12T13:06:19.674Z"
   },
   {
    "duration": 3,
    "start_time": "2022-10-12T13:06:19.708Z"
   },
   {
    "duration": 44,
    "start_time": "2022-10-12T13:06:19.713Z"
   },
   {
    "duration": 66,
    "start_time": "2022-10-12T13:06:19.759Z"
   },
   {
    "duration": 123,
    "start_time": "2022-10-12T13:06:19.827Z"
   },
   {
    "duration": 6,
    "start_time": "2022-10-12T13:06:19.953Z"
   },
   {
    "duration": 92,
    "start_time": "2022-10-12T13:06:19.960Z"
   },
   {
    "duration": 12,
    "start_time": "2022-10-12T13:08:16.572Z"
   },
   {
    "duration": 112,
    "start_time": "2022-10-12T13:08:23.975Z"
   },
   {
    "duration": 7,
    "start_time": "2022-10-12T13:09:13.094Z"
   },
   {
    "duration": 4,
    "start_time": "2022-10-12T13:09:18.676Z"
   },
   {
    "duration": 5,
    "start_time": "2022-10-12T13:41:03.908Z"
   },
   {
    "duration": 409,
    "start_time": "2022-10-12T13:50:05.255Z"
   },
   {
    "duration": 357,
    "start_time": "2022-10-12T13:50:18.563Z"
   },
   {
    "duration": 9,
    "start_time": "2022-10-12T13:54:37.851Z"
   },
   {
    "duration": 19,
    "start_time": "2022-10-12T13:55:09.657Z"
   },
   {
    "duration": 20,
    "start_time": "2022-10-12T13:55:44.196Z"
   },
   {
    "duration": 750,
    "start_time": "2022-10-12T13:57:07.396Z"
   },
   {
    "duration": 0,
    "start_time": "2022-10-12T13:57:08.148Z"
   },
   {
    "duration": 0,
    "start_time": "2022-10-12T13:57:08.149Z"
   },
   {
    "duration": 0,
    "start_time": "2022-10-12T13:57:08.150Z"
   },
   {
    "duration": 0,
    "start_time": "2022-10-12T13:57:08.151Z"
   },
   {
    "duration": 0,
    "start_time": "2022-10-12T13:57:08.152Z"
   },
   {
    "duration": 0,
    "start_time": "2022-10-12T13:57:08.153Z"
   },
   {
    "duration": 0,
    "start_time": "2022-10-12T13:57:08.154Z"
   },
   {
    "duration": 0,
    "start_time": "2022-10-12T13:57:08.155Z"
   },
   {
    "duration": 0,
    "start_time": "2022-10-12T13:57:08.156Z"
   },
   {
    "duration": 0,
    "start_time": "2022-10-12T13:57:08.157Z"
   },
   {
    "duration": 0,
    "start_time": "2022-10-12T13:57:08.158Z"
   },
   {
    "duration": 0,
    "start_time": "2022-10-12T13:57:08.160Z"
   },
   {
    "duration": 0,
    "start_time": "2022-10-12T13:57:08.161Z"
   },
   {
    "duration": 0,
    "start_time": "2022-10-12T13:57:08.162Z"
   },
   {
    "duration": 1,
    "start_time": "2022-10-12T13:57:08.163Z"
   },
   {
    "duration": 0,
    "start_time": "2022-10-12T13:57:08.165Z"
   },
   {
    "duration": 0,
    "start_time": "2022-10-12T13:57:08.166Z"
   },
   {
    "duration": 0,
    "start_time": "2022-10-12T13:57:08.167Z"
   },
   {
    "duration": 19,
    "start_time": "2022-10-12T14:00:12.140Z"
   },
   {
    "duration": 17,
    "start_time": "2022-10-12T14:00:33.744Z"
   },
   {
    "duration": 17,
    "start_time": "2022-10-12T14:00:38.094Z"
   },
   {
    "duration": 528,
    "start_time": "2022-10-12T14:00:54.779Z"
   },
   {
    "duration": 0,
    "start_time": "2022-10-12T14:00:55.309Z"
   },
   {
    "duration": 0,
    "start_time": "2022-10-12T14:00:55.311Z"
   },
   {
    "duration": 0,
    "start_time": "2022-10-12T14:00:55.311Z"
   },
   {
    "duration": 0,
    "start_time": "2022-10-12T14:00:55.312Z"
   },
   {
    "duration": 0,
    "start_time": "2022-10-12T14:00:55.313Z"
   },
   {
    "duration": 0,
    "start_time": "2022-10-12T14:00:55.314Z"
   },
   {
    "duration": 0,
    "start_time": "2022-10-12T14:00:55.315Z"
   },
   {
    "duration": 0,
    "start_time": "2022-10-12T14:00:55.316Z"
   },
   {
    "duration": 0,
    "start_time": "2022-10-12T14:00:55.317Z"
   },
   {
    "duration": 0,
    "start_time": "2022-10-12T14:00:55.318Z"
   },
   {
    "duration": 0,
    "start_time": "2022-10-12T14:00:55.319Z"
   },
   {
    "duration": 0,
    "start_time": "2022-10-12T14:00:55.320Z"
   },
   {
    "duration": 0,
    "start_time": "2022-10-12T14:00:55.320Z"
   },
   {
    "duration": 0,
    "start_time": "2022-10-12T14:00:55.321Z"
   },
   {
    "duration": 0,
    "start_time": "2022-10-12T14:00:55.322Z"
   },
   {
    "duration": 0,
    "start_time": "2022-10-12T14:00:55.324Z"
   },
   {
    "duration": 0,
    "start_time": "2022-10-12T14:00:55.325Z"
   },
   {
    "duration": 0,
    "start_time": "2022-10-12T14:00:55.326Z"
   },
   {
    "duration": 17,
    "start_time": "2022-10-12T14:01:18.729Z"
   },
   {
    "duration": 9,
    "start_time": "2022-10-12T14:35:15.015Z"
   },
   {
    "duration": 65,
    "start_time": "2022-10-12T14:56:44.863Z"
   },
   {
    "duration": 513,
    "start_time": "2022-10-12T15:02:51.293Z"
   },
   {
    "duration": 34,
    "start_time": "2022-10-12T15:02:51.808Z"
   },
   {
    "duration": 27,
    "start_time": "2022-10-12T15:02:51.844Z"
   },
   {
    "duration": 2047,
    "start_time": "2022-10-12T15:02:51.873Z"
   },
   {
    "duration": 10,
    "start_time": "2022-10-12T15:02:53.923Z"
   },
   {
    "duration": 106,
    "start_time": "2022-10-12T15:02:53.935Z"
   },
   {
    "duration": 23,
    "start_time": "2022-10-12T15:02:54.043Z"
   },
   {
    "duration": 21,
    "start_time": "2022-10-12T15:02:54.067Z"
   },
   {
    "duration": 71,
    "start_time": "2022-10-12T15:02:54.090Z"
   },
   {
    "duration": 242,
    "start_time": "2022-10-12T15:02:54.163Z"
   },
   {
    "duration": 35,
    "start_time": "2022-10-12T15:02:54.407Z"
   },
   {
    "duration": 1407,
    "start_time": "2022-10-12T15:02:54.443Z"
   },
   {
    "duration": 0,
    "start_time": "2022-10-12T15:02:55.853Z"
   },
   {
    "duration": 0,
    "start_time": "2022-10-12T15:02:55.854Z"
   },
   {
    "duration": 0,
    "start_time": "2022-10-12T15:02:55.856Z"
   },
   {
    "duration": 0,
    "start_time": "2022-10-12T15:02:55.857Z"
   },
   {
    "duration": 0,
    "start_time": "2022-10-12T15:02:55.858Z"
   },
   {
    "duration": 0,
    "start_time": "2022-10-12T15:02:55.860Z"
   },
   {
    "duration": 0,
    "start_time": "2022-10-12T15:02:55.861Z"
   },
   {
    "duration": 0,
    "start_time": "2022-10-12T15:02:55.863Z"
   },
   {
    "duration": 0,
    "start_time": "2022-10-12T15:02:55.864Z"
   },
   {
    "duration": 0,
    "start_time": "2022-10-12T15:02:55.865Z"
   },
   {
    "duration": 0,
    "start_time": "2022-10-12T15:02:55.866Z"
   },
   {
    "duration": 0,
    "start_time": "2022-10-12T15:02:55.868Z"
   },
   {
    "duration": 0,
    "start_time": "2022-10-12T15:02:55.869Z"
   },
   {
    "duration": 0,
    "start_time": "2022-10-12T15:02:55.870Z"
   },
   {
    "duration": 666,
    "start_time": "2022-10-12T15:04:18.460Z"
   },
   {
    "duration": 32,
    "start_time": "2022-10-12T15:04:19.129Z"
   },
   {
    "duration": 29,
    "start_time": "2022-10-12T15:04:19.163Z"
   },
   {
    "duration": 2135,
    "start_time": "2022-10-12T15:04:19.209Z"
   },
   {
    "duration": 7,
    "start_time": "2022-10-12T15:04:21.346Z"
   },
   {
    "duration": 78,
    "start_time": "2022-10-12T15:04:21.354Z"
   },
   {
    "duration": 21,
    "start_time": "2022-10-12T15:04:21.434Z"
   },
   {
    "duration": 13,
    "start_time": "2022-10-12T15:04:21.457Z"
   },
   {
    "duration": 72,
    "start_time": "2022-10-12T15:04:21.471Z"
   },
   {
    "duration": 280,
    "start_time": "2022-10-12T15:04:21.545Z"
   },
   {
    "duration": 31,
    "start_time": "2022-10-12T15:04:21.826Z"
   },
   {
    "duration": 1233,
    "start_time": "2022-10-12T15:04:21.858Z"
   },
   {
    "duration": 0,
    "start_time": "2022-10-12T15:04:23.093Z"
   },
   {
    "duration": 0,
    "start_time": "2022-10-12T15:04:23.094Z"
   },
   {
    "duration": 0,
    "start_time": "2022-10-12T15:04:23.095Z"
   },
   {
    "duration": 0,
    "start_time": "2022-10-12T15:04:23.096Z"
   },
   {
    "duration": 0,
    "start_time": "2022-10-12T15:04:23.096Z"
   },
   {
    "duration": 0,
    "start_time": "2022-10-12T15:04:23.097Z"
   },
   {
    "duration": 0,
    "start_time": "2022-10-12T15:04:23.098Z"
   },
   {
    "duration": 0,
    "start_time": "2022-10-12T15:04:23.099Z"
   },
   {
    "duration": 0,
    "start_time": "2022-10-12T15:04:23.100Z"
   },
   {
    "duration": 0,
    "start_time": "2022-10-12T15:04:23.100Z"
   },
   {
    "duration": 0,
    "start_time": "2022-10-12T15:04:23.102Z"
   },
   {
    "duration": 0,
    "start_time": "2022-10-12T15:04:23.102Z"
   },
   {
    "duration": 0,
    "start_time": "2022-10-12T15:04:23.104Z"
   },
   {
    "duration": 0,
    "start_time": "2022-10-12T15:04:23.104Z"
   },
   {
    "duration": 1027,
    "start_time": "2022-10-12T15:05:22.955Z"
   },
   {
    "duration": 1049,
    "start_time": "2022-10-14T08:57:59.349Z"
   },
   {
    "duration": 31,
    "start_time": "2022-10-14T08:58:00.400Z"
   },
   {
    "duration": 36,
    "start_time": "2022-10-14T08:58:00.434Z"
   },
   {
    "duration": 2123,
    "start_time": "2022-10-14T08:58:00.472Z"
   },
   {
    "duration": 7,
    "start_time": "2022-10-14T08:58:02.596Z"
   },
   {
    "duration": 78,
    "start_time": "2022-10-14T08:58:02.605Z"
   },
   {
    "duration": 22,
    "start_time": "2022-10-14T08:58:02.685Z"
   },
   {
    "duration": 12,
    "start_time": "2022-10-14T08:58:02.709Z"
   },
   {
    "duration": 67,
    "start_time": "2022-10-14T08:58:02.722Z"
   },
   {
    "duration": 238,
    "start_time": "2022-10-14T08:58:02.790Z"
   },
   {
    "duration": 28,
    "start_time": "2022-10-14T08:58:03.030Z"
   },
   {
    "duration": 1181,
    "start_time": "2022-10-14T08:58:03.059Z"
   },
   {
    "duration": 0,
    "start_time": "2022-10-14T08:58:04.242Z"
   },
   {
    "duration": 0,
    "start_time": "2022-10-14T08:58:04.243Z"
   },
   {
    "duration": 0,
    "start_time": "2022-10-14T08:58:04.244Z"
   },
   {
    "duration": 0,
    "start_time": "2022-10-14T08:58:04.245Z"
   },
   {
    "duration": 0,
    "start_time": "2022-10-14T08:58:04.246Z"
   },
   {
    "duration": 0,
    "start_time": "2022-10-14T08:58:04.247Z"
   },
   {
    "duration": 0,
    "start_time": "2022-10-14T08:58:04.248Z"
   },
   {
    "duration": 0,
    "start_time": "2022-10-14T08:58:04.249Z"
   },
   {
    "duration": 0,
    "start_time": "2022-10-14T08:58:04.250Z"
   },
   {
    "duration": 0,
    "start_time": "2022-10-14T08:58:04.251Z"
   },
   {
    "duration": 0,
    "start_time": "2022-10-14T08:58:04.252Z"
   },
   {
    "duration": 0,
    "start_time": "2022-10-14T08:58:04.254Z"
   },
   {
    "duration": 0,
    "start_time": "2022-10-14T08:58:04.255Z"
   },
   {
    "duration": 0,
    "start_time": "2022-10-14T08:58:04.255Z"
   },
   {
    "duration": 88,
    "start_time": "2022-10-14T08:58:26.118Z"
   },
   {
    "duration": 26,
    "start_time": "2022-10-14T08:58:32.936Z"
   },
   {
    "duration": 27,
    "start_time": "2022-10-14T08:58:36.182Z"
   },
   {
    "duration": 2198,
    "start_time": "2022-10-14T08:58:39.760Z"
   },
   {
    "duration": 7,
    "start_time": "2022-10-14T08:58:47.280Z"
   },
   {
    "duration": 65,
    "start_time": "2022-10-14T08:58:54.020Z"
   },
   {
    "duration": 19,
    "start_time": "2022-10-14T08:58:56.167Z"
   },
   {
    "duration": 20,
    "start_time": "2022-10-14T08:59:11.531Z"
   },
   {
    "duration": 11,
    "start_time": "2022-10-14T08:59:28.615Z"
   },
   {
    "duration": 1229,
    "start_time": "2022-10-14T09:04:30.127Z"
   },
   {
    "duration": 18,
    "start_time": "2022-10-14T09:05:30.755Z"
   },
   {
    "duration": 15,
    "start_time": "2022-10-14T09:05:40.142Z"
   },
   {
    "duration": 736,
    "start_time": "2022-10-14T09:05:53.286Z"
   },
   {
    "duration": 27,
    "start_time": "2022-10-14T09:05:54.024Z"
   },
   {
    "duration": 37,
    "start_time": "2022-10-14T09:05:54.053Z"
   },
   {
    "duration": 2115,
    "start_time": "2022-10-14T09:05:54.092Z"
   },
   {
    "duration": 8,
    "start_time": "2022-10-14T09:05:56.209Z"
   },
   {
    "duration": 77,
    "start_time": "2022-10-14T09:05:56.218Z"
   },
   {
    "duration": 22,
    "start_time": "2022-10-14T09:05:56.297Z"
   },
   {
    "duration": 14,
    "start_time": "2022-10-14T09:05:56.321Z"
   },
   {
    "duration": 83,
    "start_time": "2022-10-14T09:05:56.336Z"
   },
   {
    "duration": 246,
    "start_time": "2022-10-14T09:05:56.422Z"
   },
   {
    "duration": 33,
    "start_time": "2022-10-14T09:05:56.670Z"
   },
   {
    "duration": 32,
    "start_time": "2022-10-14T09:05:56.705Z"
   },
   {
    "duration": 10,
    "start_time": "2022-10-14T09:05:56.739Z"
   },
   {
    "duration": 45,
    "start_time": "2022-10-14T09:05:56.750Z"
   },
   {
    "duration": 39,
    "start_time": "2022-10-14T09:05:56.797Z"
   },
   {
    "duration": 172,
    "start_time": "2022-10-14T09:05:56.837Z"
   },
   {
    "duration": 7,
    "start_time": "2022-10-14T09:05:57.011Z"
   },
   {
    "duration": 360,
    "start_time": "2022-10-14T09:05:57.019Z"
   },
   {
    "duration": 606,
    "start_time": "2022-10-14T09:05:57.380Z"
   },
   {
    "duration": 171,
    "start_time": "2022-10-14T09:05:57.988Z"
   },
   {
    "duration": 302,
    "start_time": "2022-10-14T09:05:58.161Z"
   },
   {
    "duration": 3,
    "start_time": "2022-10-14T09:05:58.465Z"
   },
   {
    "duration": 254,
    "start_time": "2022-10-14T09:05:58.469Z"
   },
   {
    "duration": 631,
    "start_time": "2022-10-14T09:05:58.725Z"
   },
   {
    "duration": 81,
    "start_time": "2022-10-14T09:05:59.357Z"
   },
   {
    "duration": 0,
    "start_time": "2022-10-14T09:05:59.440Z"
   },
   {
    "duration": 360,
    "start_time": "2022-10-14T10:29:30.914Z"
   },
   {
    "duration": 381,
    "start_time": "2022-10-14T10:30:04.179Z"
   },
   {
    "duration": 363,
    "start_time": "2022-10-14T10:31:03.314Z"
   },
   {
    "duration": 432,
    "start_time": "2022-10-14T10:32:35.368Z"
   },
   {
    "duration": 816,
    "start_time": "2022-10-14T10:33:19.606Z"
   },
   {
    "duration": 34,
    "start_time": "2022-10-14T10:33:20.424Z"
   },
   {
    "duration": 53,
    "start_time": "2022-10-14T10:33:20.459Z"
   },
   {
    "duration": 2469,
    "start_time": "2022-10-14T10:33:20.514Z"
   },
   {
    "duration": 12,
    "start_time": "2022-10-14T10:33:22.987Z"
   },
   {
    "duration": 110,
    "start_time": "2022-10-14T10:33:23.003Z"
   },
   {
    "duration": 23,
    "start_time": "2022-10-14T10:33:23.114Z"
   },
   {
    "duration": 12,
    "start_time": "2022-10-14T10:33:23.139Z"
   },
   {
    "duration": 84,
    "start_time": "2022-10-14T10:33:23.152Z"
   },
   {
    "duration": 284,
    "start_time": "2022-10-14T10:33:23.237Z"
   },
   {
    "duration": 30,
    "start_time": "2022-10-14T10:33:23.522Z"
   },
   {
    "duration": 35,
    "start_time": "2022-10-14T10:33:23.554Z"
   },
   {
    "duration": 46,
    "start_time": "2022-10-14T10:33:23.592Z"
   },
   {
    "duration": 68,
    "start_time": "2022-10-14T10:33:23.642Z"
   },
   {
    "duration": 166,
    "start_time": "2022-10-14T10:33:23.712Z"
   },
   {
    "duration": 8,
    "start_time": "2022-10-14T10:33:23.880Z"
   },
   {
    "duration": 386,
    "start_time": "2022-10-14T10:33:23.890Z"
   },
   {
    "duration": 646,
    "start_time": "2022-10-14T10:33:24.278Z"
   },
   {
    "duration": 202,
    "start_time": "2022-10-14T10:33:24.925Z"
   },
   {
    "duration": 329,
    "start_time": "2022-10-14T10:33:25.128Z"
   },
   {
    "duration": 2,
    "start_time": "2022-10-14T10:33:25.459Z"
   },
   {
    "duration": 309,
    "start_time": "2022-10-14T10:33:25.463Z"
   },
   {
    "duration": 715,
    "start_time": "2022-10-14T10:33:25.774Z"
   },
   {
    "duration": 102,
    "start_time": "2022-10-14T10:33:26.492Z"
   },
   {
    "duration": 0,
    "start_time": "2022-10-14T10:33:26.597Z"
   },
   {
    "duration": 9835,
    "start_time": "2022-10-14T10:35:18.697Z"
   },
   {
    "duration": 388,
    "start_time": "2022-10-14T10:35:39.191Z"
   },
   {
    "duration": 403,
    "start_time": "2022-10-14T10:36:00.717Z"
   },
   {
    "duration": 419,
    "start_time": "2022-10-14T10:36:24.625Z"
   },
   {
    "duration": 725,
    "start_time": "2022-10-14T10:36:39.442Z"
   },
   {
    "duration": 36,
    "start_time": "2022-10-14T10:36:40.169Z"
   },
   {
    "duration": 30,
    "start_time": "2022-10-14T10:36:40.207Z"
   },
   {
    "duration": 2519,
    "start_time": "2022-10-14T10:36:40.239Z"
   },
   {
    "duration": 7,
    "start_time": "2022-10-14T10:36:42.760Z"
   },
   {
    "duration": 80,
    "start_time": "2022-10-14T10:36:42.768Z"
   },
   {
    "duration": 42,
    "start_time": "2022-10-14T10:36:42.850Z"
   },
   {
    "duration": 21,
    "start_time": "2022-10-14T10:36:42.894Z"
   },
   {
    "duration": 77,
    "start_time": "2022-10-14T10:36:42.917Z"
   },
   {
    "duration": 270,
    "start_time": "2022-10-14T10:36:42.996Z"
   },
   {
    "duration": 52,
    "start_time": "2022-10-14T10:36:43.268Z"
   },
   {
    "duration": 17,
    "start_time": "2022-10-14T10:36:43.322Z"
   },
   {
    "duration": 45,
    "start_time": "2022-10-14T10:36:43.341Z"
   },
   {
    "duration": 45,
    "start_time": "2022-10-14T10:36:43.392Z"
   },
   {
    "duration": 159,
    "start_time": "2022-10-14T10:36:43.439Z"
   },
   {
    "duration": 5,
    "start_time": "2022-10-14T10:36:43.600Z"
   },
   {
    "duration": 394,
    "start_time": "2022-10-14T10:36:43.608Z"
   },
   {
    "duration": 654,
    "start_time": "2022-10-14T10:36:44.004Z"
   },
   {
    "duration": 205,
    "start_time": "2022-10-14T10:36:44.660Z"
   },
   {
    "duration": 347,
    "start_time": "2022-10-14T10:36:44.867Z"
   },
   {
    "duration": 3,
    "start_time": "2022-10-14T10:36:45.215Z"
   },
   {
    "duration": 296,
    "start_time": "2022-10-14T10:36:45.219Z"
   },
   {
    "duration": 658,
    "start_time": "2022-10-14T10:36:45.516Z"
   },
   {
    "duration": 98,
    "start_time": "2022-10-14T10:36:46.176Z"
   },
   {
    "duration": 0,
    "start_time": "2022-10-14T10:36:46.276Z"
   },
   {
    "duration": 136,
    "start_time": "2022-10-14T10:44:03.084Z"
   },
   {
    "duration": 133,
    "start_time": "2022-10-14T10:44:24.212Z"
   },
   {
    "duration": 151,
    "start_time": "2022-10-14T10:45:10.381Z"
   },
   {
    "duration": 1289,
    "start_time": "2022-10-14T10:47:40.043Z"
   },
   {
    "duration": 169,
    "start_time": "2022-10-14T10:47:50.861Z"
   },
   {
    "duration": 165,
    "start_time": "2022-10-14T10:49:07.392Z"
   },
   {
    "duration": 17,
    "start_time": "2022-10-14T10:56:36.227Z"
   },
   {
    "duration": 3,
    "start_time": "2022-10-14T10:57:35.606Z"
   },
   {
    "duration": 139,
    "start_time": "2022-10-14T11:00:18.233Z"
   },
   {
    "duration": 126,
    "start_time": "2022-10-14T11:03:24.453Z"
   },
   {
    "duration": 169,
    "start_time": "2022-10-14T11:03:35.040Z"
   },
   {
    "duration": 140,
    "start_time": "2022-10-14T11:03:46.629Z"
   },
   {
    "duration": 219,
    "start_time": "2022-10-14T11:04:22.896Z"
   },
   {
    "duration": 169,
    "start_time": "2022-10-14T11:06:17.073Z"
   },
   {
    "duration": 151,
    "start_time": "2022-10-14T11:06:30.612Z"
   },
   {
    "duration": 152,
    "start_time": "2022-10-14T11:07:15.892Z"
   },
   {
    "duration": 1780,
    "start_time": "2022-10-14T11:12:13.031Z"
   },
   {
    "duration": 144,
    "start_time": "2022-10-14T11:12:21.422Z"
   },
   {
    "duration": 135,
    "start_time": "2022-10-14T11:12:44.398Z"
   },
   {
    "duration": 165,
    "start_time": "2022-10-14T11:13:14.333Z"
   },
   {
    "duration": 133,
    "start_time": "2022-10-14T11:16:21.332Z"
   },
   {
    "duration": 143,
    "start_time": "2022-10-14T11:16:36.864Z"
   },
   {
    "duration": 144,
    "start_time": "2022-10-14T11:17:16.795Z"
   },
   {
    "duration": 140,
    "start_time": "2022-10-14T11:17:40.804Z"
   },
   {
    "duration": 200,
    "start_time": "2022-10-14T11:17:53.667Z"
   },
   {
    "duration": 123,
    "start_time": "2022-10-14T11:18:31.113Z"
   },
   {
    "duration": 513,
    "start_time": "2022-10-14T11:22:03.660Z"
   },
   {
    "duration": 529,
    "start_time": "2022-10-14T11:22:16.359Z"
   },
   {
    "duration": 600,
    "start_time": "2022-10-14T11:23:04.463Z"
   },
   {
    "duration": 81,
    "start_time": "2022-10-14T11:28:26.064Z"
   },
   {
    "duration": 158,
    "start_time": "2022-10-14T11:28:48.211Z"
   },
   {
    "duration": 170,
    "start_time": "2022-10-14T11:29:01.170Z"
   },
   {
    "duration": 266,
    "start_time": "2022-10-14T11:30:06.025Z"
   },
   {
    "duration": 270,
    "start_time": "2022-10-14T11:30:15.983Z"
   },
   {
    "duration": 122,
    "start_time": "2022-10-14T11:47:34.474Z"
   },
   {
    "duration": 128,
    "start_time": "2022-10-14T11:47:40.177Z"
   },
   {
    "duration": 661,
    "start_time": "2022-10-14T11:48:01.509Z"
   },
   {
    "duration": 30,
    "start_time": "2022-10-14T11:48:02.172Z"
   },
   {
    "duration": 73,
    "start_time": "2022-10-14T11:48:02.203Z"
   },
   {
    "duration": 2160,
    "start_time": "2022-10-14T11:48:02.278Z"
   },
   {
    "duration": 8,
    "start_time": "2022-10-14T11:48:04.440Z"
   },
   {
    "duration": 71,
    "start_time": "2022-10-14T11:48:04.449Z"
   },
   {
    "duration": 20,
    "start_time": "2022-10-14T11:48:04.522Z"
   },
   {
    "duration": 12,
    "start_time": "2022-10-14T11:48:04.544Z"
   },
   {
    "duration": 68,
    "start_time": "2022-10-14T11:48:04.557Z"
   },
   {
    "duration": 241,
    "start_time": "2022-10-14T11:48:04.628Z"
   },
   {
    "duration": 31,
    "start_time": "2022-10-14T11:48:04.871Z"
   },
   {
    "duration": 15,
    "start_time": "2022-10-14T11:48:04.904Z"
   },
   {
    "duration": 29,
    "start_time": "2022-10-14T11:48:04.921Z"
   },
   {
    "duration": 49,
    "start_time": "2022-10-14T11:48:04.952Z"
   },
   {
    "duration": 141,
    "start_time": "2022-10-14T11:48:05.002Z"
   },
   {
    "duration": 6,
    "start_time": "2022-10-14T11:48:05.144Z"
   },
   {
    "duration": 361,
    "start_time": "2022-10-14T11:48:05.152Z"
   },
   {
    "duration": 618,
    "start_time": "2022-10-14T11:48:05.514Z"
   },
   {
    "duration": 198,
    "start_time": "2022-10-14T11:48:06.135Z"
   },
   {
    "duration": 373,
    "start_time": "2022-10-14T11:48:06.335Z"
   },
   {
    "duration": 161,
    "start_time": "2022-10-14T11:48:06.710Z"
   },
   {
    "duration": 192,
    "start_time": "2022-10-14T11:48:06.873Z"
   },
   {
    "duration": 182,
    "start_time": "2022-10-14T11:48:07.069Z"
   },
   {
    "duration": 180,
    "start_time": "2022-10-14T11:48:07.254Z"
   },
   {
    "duration": 203,
    "start_time": "2022-10-14T11:48:07.436Z"
   },
   {
    "duration": 144,
    "start_time": "2022-10-14T11:48:07.641Z"
   },
   {
    "duration": 131,
    "start_time": "2022-10-14T11:48:07.787Z"
   },
   {
    "duration": 129,
    "start_time": "2022-10-14T11:48:07.922Z"
   },
   {
    "duration": 254,
    "start_time": "2022-10-14T11:48:08.053Z"
   },
   {
    "duration": 598,
    "start_time": "2022-10-14T11:48:08.309Z"
   },
   {
    "duration": 85,
    "start_time": "2022-10-14T11:48:08.908Z"
   },
   {
    "duration": 0,
    "start_time": "2022-10-14T11:48:08.994Z"
   },
   {
    "duration": 144,
    "start_time": "2022-10-14T11:48:49.005Z"
   },
   {
    "duration": 190,
    "start_time": "2022-10-14T11:49:02.610Z"
   },
   {
    "duration": 138,
    "start_time": "2022-10-14T11:49:15.198Z"
   },
   {
    "duration": 144,
    "start_time": "2022-10-14T11:50:29.441Z"
   },
   {
    "duration": 158,
    "start_time": "2022-10-14T11:50:39.281Z"
   },
   {
    "duration": 132,
    "start_time": "2022-10-14T11:50:58.813Z"
   },
   {
    "duration": 130,
    "start_time": "2022-10-14T11:51:06.790Z"
   },
   {
    "duration": 154,
    "start_time": "2022-10-14T11:51:15.254Z"
   },
   {
    "duration": 133,
    "start_time": "2022-10-14T11:51:32.502Z"
   },
   {
    "duration": 176,
    "start_time": "2022-10-14T12:25:07.194Z"
   },
   {
    "duration": 122,
    "start_time": "2022-10-14T12:25:30.031Z"
   },
   {
    "duration": 137,
    "start_time": "2022-10-14T12:25:44.314Z"
   },
   {
    "duration": 185,
    "start_time": "2022-10-14T12:25:51.024Z"
   },
   {
    "duration": 110,
    "start_time": "2022-10-14T12:26:04.430Z"
   },
   {
    "duration": 774,
    "start_time": "2022-10-14T12:26:38.459Z"
   },
   {
    "duration": 33,
    "start_time": "2022-10-14T12:26:39.235Z"
   },
   {
    "duration": 38,
    "start_time": "2022-10-14T12:26:39.269Z"
   },
   {
    "duration": 2234,
    "start_time": "2022-10-14T12:26:39.309Z"
   },
   {
    "duration": 8,
    "start_time": "2022-10-14T12:26:41.544Z"
   },
   {
    "duration": 75,
    "start_time": "2022-10-14T12:26:41.553Z"
   },
   {
    "duration": 21,
    "start_time": "2022-10-14T12:26:41.630Z"
   },
   {
    "duration": 12,
    "start_time": "2022-10-14T12:26:41.652Z"
   },
   {
    "duration": 65,
    "start_time": "2022-10-14T12:26:41.666Z"
   },
   {
    "duration": 249,
    "start_time": "2022-10-14T12:26:41.733Z"
   },
   {
    "duration": 30,
    "start_time": "2022-10-14T12:26:41.983Z"
   },
   {
    "duration": 17,
    "start_time": "2022-10-14T12:26:42.014Z"
   },
   {
    "duration": 55,
    "start_time": "2022-10-14T12:26:42.032Z"
   },
   {
    "duration": 38,
    "start_time": "2022-10-14T12:26:42.089Z"
   },
   {
    "duration": 157,
    "start_time": "2022-10-14T12:26:42.129Z"
   },
   {
    "duration": 4,
    "start_time": "2022-10-14T12:26:42.288Z"
   },
   {
    "duration": 351,
    "start_time": "2022-10-14T12:26:42.294Z"
   },
   {
    "duration": 606,
    "start_time": "2022-10-14T12:26:42.647Z"
   },
   {
    "duration": 175,
    "start_time": "2022-10-14T12:26:43.255Z"
   },
   {
    "duration": 282,
    "start_time": "2022-10-14T12:26:43.432Z"
   },
   {
    "duration": 144,
    "start_time": "2022-10-14T12:26:43.715Z"
   },
   {
    "duration": 145,
    "start_time": "2022-10-14T12:26:43.860Z"
   },
   {
    "duration": 125,
    "start_time": "2022-10-14T12:26:44.006Z"
   },
   {
    "duration": 147,
    "start_time": "2022-10-14T12:26:44.133Z"
   },
   {
    "duration": 207,
    "start_time": "2022-10-14T12:26:44.285Z"
   },
   {
    "duration": 141,
    "start_time": "2022-10-14T12:26:44.493Z"
   },
   {
    "duration": 131,
    "start_time": "2022-10-14T12:26:44.635Z"
   },
   {
    "duration": 127,
    "start_time": "2022-10-14T12:26:44.769Z"
   },
   {
    "duration": 251,
    "start_time": "2022-10-14T12:26:44.898Z"
   },
   {
    "duration": 564,
    "start_time": "2022-10-14T12:26:45.151Z"
   },
   {
    "duration": 91,
    "start_time": "2022-10-14T12:26:45.717Z"
   },
   {
    "duration": 0,
    "start_time": "2022-10-14T12:26:45.810Z"
   },
   {
    "duration": 129,
    "start_time": "2022-10-14T12:27:26.239Z"
   },
   {
    "duration": 199,
    "start_time": "2022-10-14T12:27:40.473Z"
   },
   {
    "duration": 134,
    "start_time": "2022-10-14T12:27:53.453Z"
   },
   {
    "duration": 145,
    "start_time": "2022-10-14T12:28:53.237Z"
   },
   {
    "duration": 141,
    "start_time": "2022-10-14T12:32:58.404Z"
   },
   {
    "duration": 141,
    "start_time": "2022-10-14T12:33:16.446Z"
   },
   {
    "duration": 23,
    "start_time": "2022-10-14T12:38:08.922Z"
   },
   {
    "duration": 134,
    "start_time": "2022-10-14T12:38:34.691Z"
   },
   {
    "duration": 123,
    "start_time": "2022-10-14T17:32:46.249Z"
   },
   {
    "duration": 98,
    "start_time": "2022-10-14T17:33:00.173Z"
   },
   {
    "duration": 119,
    "start_time": "2022-10-14T17:33:12.118Z"
   },
   {
    "duration": 20,
    "start_time": "2022-10-14T17:33:21.532Z"
   },
   {
    "duration": 407,
    "start_time": "2022-10-14T17:33:49.832Z"
   },
   {
    "duration": 105,
    "start_time": "2022-10-14T17:34:06.664Z"
   },
   {
    "duration": 94,
    "start_time": "2022-10-14T17:34:28.387Z"
   },
   {
    "duration": 20,
    "start_time": "2022-10-14T17:34:49.558Z"
   },
   {
    "duration": 342,
    "start_time": "2022-10-14T17:35:07.827Z"
   },
   {
    "duration": 405,
    "start_time": "2022-10-14T17:36:35.728Z"
   },
   {
    "duration": 289,
    "start_time": "2022-10-14T17:37:08.027Z"
   },
   {
    "duration": 411,
    "start_time": "2022-10-14T17:38:33.448Z"
   },
   {
    "duration": 1706,
    "start_time": "2022-10-14T17:56:13.031Z"
   },
   {
    "duration": 562,
    "start_time": "2022-10-14T18:04:55.778Z"
   },
   {
    "duration": 230,
    "start_time": "2022-10-14T18:05:27.239Z"
   },
   {
    "duration": 202,
    "start_time": "2022-10-14T18:06:09.063Z"
   },
   {
    "duration": 564,
    "start_time": "2022-10-14T18:06:44.656Z"
   },
   {
    "duration": 244,
    "start_time": "2022-10-14T18:55:30.365Z"
   },
   {
    "duration": 143,
    "start_time": "2022-10-14T18:55:59.167Z"
   },
   {
    "duration": 43,
    "start_time": "2022-10-14T19:44:36.363Z"
   },
   {
    "duration": 33,
    "start_time": "2022-10-14T19:47:00.928Z"
   },
   {
    "duration": 20,
    "start_time": "2022-10-14T19:51:50.382Z"
   },
   {
    "duration": 15,
    "start_time": "2022-10-14T19:53:16.338Z"
   },
   {
    "duration": 14,
    "start_time": "2022-10-14T19:57:20.778Z"
   },
   {
    "duration": 15,
    "start_time": "2022-10-14T19:57:45.157Z"
   },
   {
    "duration": 17,
    "start_time": "2022-10-14T20:24:24.520Z"
   },
   {
    "duration": 18,
    "start_time": "2022-10-14T20:37:00.033Z"
   },
   {
    "duration": 21,
    "start_time": "2022-10-14T20:37:29.284Z"
   },
   {
    "duration": 15,
    "start_time": "2022-10-14T20:40:00.255Z"
   },
   {
    "duration": 36,
    "start_time": "2022-10-14T20:40:54.837Z"
   },
   {
    "duration": 16,
    "start_time": "2022-10-14T20:42:15.924Z"
   },
   {
    "duration": 20,
    "start_time": "2022-10-14T20:42:36.500Z"
   },
   {
    "duration": 11,
    "start_time": "2022-10-14T20:43:02.363Z"
   },
   {
    "duration": 15,
    "start_time": "2022-10-14T20:43:33.301Z"
   },
   {
    "duration": 15,
    "start_time": "2022-10-14T20:49:41.896Z"
   },
   {
    "duration": 38,
    "start_time": "2022-10-14T21:01:19.066Z"
   },
   {
    "duration": 182,
    "start_time": "2022-10-14T21:01:37.686Z"
   },
   {
    "duration": 3,
    "start_time": "2022-10-14T21:21:44.107Z"
   },
   {
    "duration": 877,
    "start_time": "2022-10-14T22:59:16.309Z"
   },
   {
    "duration": 28,
    "start_time": "2022-10-14T22:59:17.188Z"
   },
   {
    "duration": 24,
    "start_time": "2022-10-14T22:59:17.217Z"
   },
   {
    "duration": 2063,
    "start_time": "2022-10-14T22:59:17.243Z"
   },
   {
    "duration": 8,
    "start_time": "2022-10-14T22:59:19.308Z"
   },
   {
    "duration": 68,
    "start_time": "2022-10-14T22:59:19.318Z"
   },
   {
    "duration": 20,
    "start_time": "2022-10-14T22:59:19.388Z"
   },
   {
    "duration": 12,
    "start_time": "2022-10-14T22:59:19.409Z"
   },
   {
    "duration": 75,
    "start_time": "2022-10-14T22:59:19.422Z"
   },
   {
    "duration": 232,
    "start_time": "2022-10-14T22:59:19.500Z"
   },
   {
    "duration": 28,
    "start_time": "2022-10-14T22:59:19.734Z"
   },
   {
    "duration": 32,
    "start_time": "2022-10-14T22:59:19.763Z"
   },
   {
    "duration": 34,
    "start_time": "2022-10-14T22:59:19.798Z"
   },
   {
    "duration": 35,
    "start_time": "2022-10-14T22:59:19.834Z"
   },
   {
    "duration": 131,
    "start_time": "2022-10-14T22:59:19.885Z"
   },
   {
    "duration": 5,
    "start_time": "2022-10-14T22:59:20.017Z"
   },
   {
    "duration": 341,
    "start_time": "2022-10-14T22:59:20.023Z"
   },
   {
    "duration": 558,
    "start_time": "2022-10-14T22:59:20.365Z"
   },
   {
    "duration": 162,
    "start_time": "2022-10-14T22:59:20.924Z"
   },
   {
    "duration": 277,
    "start_time": "2022-10-14T22:59:21.087Z"
   },
   {
    "duration": 139,
    "start_time": "2022-10-14T22:59:21.365Z"
   },
   {
    "duration": 144,
    "start_time": "2022-10-14T22:59:21.506Z"
   },
   {
    "duration": 123,
    "start_time": "2022-10-14T22:59:21.651Z"
   },
   {
    "duration": 131,
    "start_time": "2022-10-14T22:59:21.776Z"
   },
   {
    "duration": 184,
    "start_time": "2022-10-14T22:59:21.908Z"
   },
   {
    "duration": 136,
    "start_time": "2022-10-14T22:59:22.093Z"
   },
   {
    "duration": 120,
    "start_time": "2022-10-14T22:59:22.230Z"
   },
   {
    "duration": 124,
    "start_time": "2022-10-14T22:59:22.353Z"
   },
   {
    "duration": 220,
    "start_time": "2022-10-14T22:59:22.479Z"
   },
   {
    "duration": 394,
    "start_time": "2022-10-14T22:59:22.700Z"
   },
   {
    "duration": 144,
    "start_time": "2022-10-14T22:59:23.096Z"
   },
   {
    "duration": 124,
    "start_time": "2022-10-14T22:59:23.241Z"
   },
   {
    "duration": 498,
    "start_time": "2022-10-14T22:59:23.366Z"
   },
   {
    "duration": 24,
    "start_time": "2022-10-14T22:59:23.866Z"
   },
   {
    "duration": 146,
    "start_time": "2022-10-14T22:59:23.891Z"
   },
   {
    "duration": 2,
    "start_time": "2022-10-14T22:59:24.039Z"
   },
   {
    "duration": 704,
    "start_time": "2022-10-15T02:44:13.014Z"
   },
   {
    "duration": 32,
    "start_time": "2022-10-15T02:44:13.720Z"
   },
   {
    "duration": 26,
    "start_time": "2022-10-15T02:44:13.754Z"
   },
   {
    "duration": 2673,
    "start_time": "2022-10-15T02:44:13.782Z"
   },
   {
    "duration": 6,
    "start_time": "2022-10-15T02:44:16.457Z"
   },
   {
    "duration": 190,
    "start_time": "2022-10-15T02:44:16.465Z"
   },
   {
    "duration": 74,
    "start_time": "2022-10-15T02:44:16.656Z"
   },
   {
    "duration": 20,
    "start_time": "2022-10-15T02:44:16.732Z"
   },
   {
    "duration": 8,
    "start_time": "2022-10-15T02:44:16.753Z"
   },
   {
    "duration": 595,
    "start_time": "2022-10-15T02:44:16.764Z"
   },
   {
    "duration": 120,
    "start_time": "2022-10-15T02:44:17.360Z"
   },
   {
    "duration": 278,
    "start_time": "2022-10-15T02:44:17.481Z"
   },
   {
    "duration": 27,
    "start_time": "2022-10-15T02:44:17.761Z"
   },
   {
    "duration": 33,
    "start_time": "2022-10-15T02:44:17.789Z"
   },
   {
    "duration": 37,
    "start_time": "2022-10-15T02:44:17.824Z"
   },
   {
    "duration": 36,
    "start_time": "2022-10-15T02:44:17.863Z"
   },
   {
    "duration": 23,
    "start_time": "2022-10-15T02:44:17.900Z"
   },
   {
    "duration": 145,
    "start_time": "2022-10-15T02:44:17.925Z"
   },
   {
    "duration": 4,
    "start_time": "2022-10-15T02:44:18.072Z"
   },
   {
    "duration": 56,
    "start_time": "2022-10-15T02:44:18.078Z"
   },
   {
    "duration": 8,
    "start_time": "2022-10-15T02:44:18.136Z"
   },
   {
    "duration": 412,
    "start_time": "2022-10-15T02:44:18.146Z"
   },
   {
    "duration": 333,
    "start_time": "2022-10-15T02:44:18.560Z"
   },
   {
    "duration": 15,
    "start_time": "2022-10-15T02:44:18.895Z"
   },
   {
    "duration": 19,
    "start_time": "2022-10-15T02:44:18.928Z"
   },
   {
    "duration": 375,
    "start_time": "2022-10-15T02:44:18.949Z"
   },
   {
    "duration": 539,
    "start_time": "2022-10-15T02:44:19.326Z"
   },
   {
    "duration": 243,
    "start_time": "2022-10-15T02:44:19.868Z"
   },
   {
    "duration": 296,
    "start_time": "2022-10-15T02:44:20.113Z"
   },
   {
    "duration": 145,
    "start_time": "2022-10-15T02:44:20.411Z"
   },
   {
    "duration": 150,
    "start_time": "2022-10-15T02:44:20.557Z"
   },
   {
    "duration": 149,
    "start_time": "2022-10-15T02:44:20.709Z"
   },
   {
    "duration": 150,
    "start_time": "2022-10-15T02:44:20.859Z"
   },
   {
    "duration": 159,
    "start_time": "2022-10-15T02:44:21.010Z"
   },
   {
    "duration": 143,
    "start_time": "2022-10-15T02:44:21.171Z"
   },
   {
    "duration": 140,
    "start_time": "2022-10-15T02:44:21.322Z"
   },
   {
    "duration": 134,
    "start_time": "2022-10-15T02:44:21.464Z"
   },
   {
    "duration": 330,
    "start_time": "2022-10-15T02:44:21.599Z"
   },
   {
    "duration": 409,
    "start_time": "2022-10-15T02:44:21.931Z"
   },
   {
    "duration": 165,
    "start_time": "2022-10-15T02:44:22.342Z"
   },
   {
    "duration": 134,
    "start_time": "2022-10-15T02:44:22.509Z"
   },
   {
    "duration": 464,
    "start_time": "2022-10-15T02:44:22.645Z"
   },
   {
    "duration": 19,
    "start_time": "2022-10-15T02:44:23.111Z"
   },
   {
    "duration": 161,
    "start_time": "2022-10-15T02:44:23.132Z"
   },
   {
    "duration": 2,
    "start_time": "2022-10-15T02:44:23.295Z"
   },
   {
    "duration": 13,
    "start_time": "2022-10-15T03:01:25.565Z"
   },
   {
    "duration": 735,
    "start_time": "2022-10-15T03:12:07.993Z"
   },
   {
    "duration": 36,
    "start_time": "2022-10-15T03:12:08.731Z"
   },
   {
    "duration": 55,
    "start_time": "2022-10-15T03:12:08.769Z"
   },
   {
    "duration": 2385,
    "start_time": "2022-10-15T03:12:08.827Z"
   },
   {
    "duration": 17,
    "start_time": "2022-10-15T03:12:11.214Z"
   },
   {
    "duration": 86,
    "start_time": "2022-10-15T03:12:11.234Z"
   },
   {
    "duration": 34,
    "start_time": "2022-10-15T03:12:11.322Z"
   },
   {
    "duration": 16,
    "start_time": "2022-10-15T03:12:11.357Z"
   },
   {
    "duration": 5,
    "start_time": "2022-10-15T03:12:11.375Z"
   },
   {
    "duration": 315,
    "start_time": "2022-10-15T03:12:11.384Z"
   },
   {
    "duration": 80,
    "start_time": "2022-10-15T03:12:11.702Z"
   },
   {
    "duration": 281,
    "start_time": "2022-10-15T03:12:11.783Z"
   },
   {
    "duration": 32,
    "start_time": "2022-10-15T03:12:12.065Z"
   },
   {
    "duration": 37,
    "start_time": "2022-10-15T03:12:12.099Z"
   },
   {
    "duration": 34,
    "start_time": "2022-10-15T03:12:12.140Z"
   },
   {
    "duration": 55,
    "start_time": "2022-10-15T03:12:12.176Z"
   },
   {
    "duration": 9,
    "start_time": "2022-10-15T03:12:12.233Z"
   },
   {
    "duration": 180,
    "start_time": "2022-10-15T03:12:12.244Z"
   },
   {
    "duration": 6,
    "start_time": "2022-10-15T03:12:12.426Z"
   },
   {
    "duration": 25,
    "start_time": "2022-10-15T03:12:12.433Z"
   },
   {
    "duration": 77,
    "start_time": "2022-10-15T03:12:12.461Z"
   },
   {
    "duration": 11,
    "start_time": "2022-10-15T03:12:12.540Z"
   },
   {
    "duration": 485,
    "start_time": "2022-10-15T03:12:12.552Z"
   },
   {
    "duration": 385,
    "start_time": "2022-10-15T03:12:13.039Z"
   },
   {
    "duration": 19,
    "start_time": "2022-10-15T03:12:13.426Z"
   },
   {
    "duration": 25,
    "start_time": "2022-10-15T03:12:13.447Z"
   },
   {
    "duration": 387,
    "start_time": "2022-10-15T03:12:13.474Z"
   },
   {
    "duration": 566,
    "start_time": "2022-10-15T03:12:13.864Z"
   },
   {
    "duration": 301,
    "start_time": "2022-10-15T03:12:14.432Z"
   },
   {
    "duration": 340,
    "start_time": "2022-10-15T03:12:14.736Z"
   },
   {
    "duration": 166,
    "start_time": "2022-10-15T03:12:15.078Z"
   },
   {
    "duration": 154,
    "start_time": "2022-10-15T03:12:15.246Z"
   },
   {
    "duration": 146,
    "start_time": "2022-10-15T03:12:15.402Z"
   },
   {
    "duration": 167,
    "start_time": "2022-10-15T03:12:15.550Z"
   },
   {
    "duration": 158,
    "start_time": "2022-10-15T03:12:15.728Z"
   },
   {
    "duration": 140,
    "start_time": "2022-10-15T03:12:15.888Z"
   },
   {
    "duration": 131,
    "start_time": "2022-10-15T03:12:16.030Z"
   },
   {
    "duration": 152,
    "start_time": "2022-10-15T03:12:16.162Z"
   },
   {
    "duration": 324,
    "start_time": "2022-10-15T03:12:16.327Z"
   },
   {
    "duration": 436,
    "start_time": "2022-10-15T03:12:16.653Z"
   },
   {
    "duration": 160,
    "start_time": "2022-10-15T03:12:17.090Z"
   },
   {
    "duration": 147,
    "start_time": "2022-10-15T03:12:17.252Z"
   },
   {
    "duration": 524,
    "start_time": "2022-10-15T03:12:17.401Z"
   },
   {
    "duration": 18,
    "start_time": "2022-10-15T03:12:17.927Z"
   },
   {
    "duration": 178,
    "start_time": "2022-10-15T03:12:17.947Z"
   },
   {
    "duration": 5,
    "start_time": "2022-10-15T03:12:18.126Z"
   },
   {
    "duration": 766,
    "start_time": "2022-10-15T08:07:27.912Z"
   },
   {
    "duration": 330,
    "start_time": "2022-10-15T08:07:30.225Z"
   },
   {
    "duration": 55,
    "start_time": "2022-10-17T11:56:01.481Z"
   },
   {
    "duration": 7,
    "start_time": "2022-10-17T11:56:48.909Z"
   },
   {
    "duration": 6,
    "start_time": "2022-10-17T11:58:54.442Z"
   },
   {
    "duration": 781,
    "start_time": "2022-10-17T11:59:15.308Z"
   },
   {
    "duration": 146,
    "start_time": "2022-10-17T11:59:16.091Z"
   },
   {
    "duration": 40,
    "start_time": "2022-10-17T11:59:16.239Z"
   },
   {
    "duration": 37,
    "start_time": "2022-10-17T11:59:16.281Z"
   },
   {
    "duration": 2317,
    "start_time": "2022-10-17T11:59:16.320Z"
   },
   {
    "duration": 7,
    "start_time": "2022-10-17T11:59:18.638Z"
   },
   {
    "duration": 88,
    "start_time": "2022-10-17T11:59:18.646Z"
   },
   {
    "duration": 23,
    "start_time": "2022-10-17T11:59:18.736Z"
   },
   {
    "duration": 15,
    "start_time": "2022-10-17T11:59:18.761Z"
   },
   {
    "duration": 5,
    "start_time": "2022-10-17T11:59:18.779Z"
   },
   {
    "duration": 275,
    "start_time": "2022-10-17T11:59:18.786Z"
   },
   {
    "duration": 56,
    "start_time": "2022-10-17T11:59:19.063Z"
   },
   {
    "duration": 2,
    "start_time": "2022-10-17T11:59:19.121Z"
   },
   {
    "duration": 6,
    "start_time": "2022-10-17T11:59:19.134Z"
   },
   {
    "duration": 8,
    "start_time": "2022-10-17T11:59:19.141Z"
   },
   {
    "duration": 252,
    "start_time": "2022-10-17T11:59:19.150Z"
   },
   {
    "duration": 37,
    "start_time": "2022-10-17T11:59:19.404Z"
   },
   {
    "duration": 27,
    "start_time": "2022-10-17T11:59:19.442Z"
   },
   {
    "duration": 32,
    "start_time": "2022-10-17T11:59:19.470Z"
   },
   {
    "duration": 48,
    "start_time": "2022-10-17T11:59:19.503Z"
   },
   {
    "duration": 7,
    "start_time": "2022-10-17T11:59:19.552Z"
   },
   {
    "duration": 161,
    "start_time": "2022-10-17T11:59:19.561Z"
   },
   {
    "duration": 13,
    "start_time": "2022-10-17T11:59:19.724Z"
   },
   {
    "duration": 13,
    "start_time": "2022-10-17T11:59:19.738Z"
   },
   {
    "duration": 53,
    "start_time": "2022-10-17T11:59:19.752Z"
   },
   {
    "duration": 30,
    "start_time": "2022-10-17T11:59:19.807Z"
   },
   {
    "duration": 439,
    "start_time": "2022-10-17T11:59:19.838Z"
   },
   {
    "duration": 358,
    "start_time": "2022-10-17T11:59:20.280Z"
   },
   {
    "duration": 15,
    "start_time": "2022-10-17T11:59:20.639Z"
   },
   {
    "duration": 14,
    "start_time": "2022-10-17T11:59:20.655Z"
   },
   {
    "duration": 355,
    "start_time": "2022-10-17T11:59:20.670Z"
   },
   {
    "duration": 558,
    "start_time": "2022-10-17T11:59:21.026Z"
   },
   {
    "duration": 265,
    "start_time": "2022-10-17T11:59:21.585Z"
   },
   {
    "duration": 315,
    "start_time": "2022-10-17T11:59:21.852Z"
   },
   {
    "duration": 170,
    "start_time": "2022-10-17T11:59:22.168Z"
   },
   {
    "duration": 167,
    "start_time": "2022-10-17T11:59:22.340Z"
   },
   {
    "duration": 151,
    "start_time": "2022-10-17T11:59:22.509Z"
   },
   {
    "duration": 152,
    "start_time": "2022-10-17T11:59:22.662Z"
   },
   {
    "duration": 151,
    "start_time": "2022-10-17T11:59:22.816Z"
   },
   {
    "duration": 155,
    "start_time": "2022-10-17T11:59:22.969Z"
   },
   {
    "duration": 134,
    "start_time": "2022-10-17T11:59:23.133Z"
   },
   {
    "duration": 149,
    "start_time": "2022-10-17T11:59:23.269Z"
   },
   {
    "duration": 327,
    "start_time": "2022-10-17T11:59:23.420Z"
   },
   {
    "duration": 452,
    "start_time": "2022-10-17T11:59:23.749Z"
   },
   {
    "duration": 161,
    "start_time": "2022-10-17T11:59:24.202Z"
   },
   {
    "duration": 143,
    "start_time": "2022-10-17T11:59:24.365Z"
   },
   {
    "duration": 483,
    "start_time": "2022-10-17T11:59:24.510Z"
   },
   {
    "duration": 13,
    "start_time": "2022-10-17T11:59:24.994Z"
   },
   {
    "duration": 179,
    "start_time": "2022-10-17T11:59:25.009Z"
   },
   {
    "duration": 2,
    "start_time": "2022-10-17T11:59:25.190Z"
   },
   {
    "duration": 189,
    "start_time": "2022-10-17T12:35:03.848Z"
   },
   {
    "duration": 113,
    "start_time": "2022-10-17T12:35:23.235Z"
   },
   {
    "duration": 20,
    "start_time": "2022-10-17T12:46:57.225Z"
   },
   {
    "duration": 112,
    "start_time": "2022-10-17T13:44:35.591Z"
   },
   {
    "duration": 2222,
    "start_time": "2022-10-17T13:45:03.290Z"
   },
   {
    "duration": 42,
    "start_time": "2022-10-17T13:45:24.936Z"
   },
   {
    "duration": 1131,
    "start_time": "2022-10-17T13:46:20.299Z"
   },
   {
    "duration": 38,
    "start_time": "2022-10-17T13:48:01.410Z"
   },
   {
    "duration": 39,
    "start_time": "2022-10-17T13:49:36.428Z"
   },
   {
    "duration": 100,
    "start_time": "2022-10-17T13:50:07.884Z"
   },
   {
    "duration": 157,
    "start_time": "2022-10-17T13:56:19.431Z"
   },
   {
    "duration": 154,
    "start_time": "2022-10-17T13:56:35.897Z"
   },
   {
    "duration": 152,
    "start_time": "2022-10-17T13:57:24.716Z"
   },
   {
    "duration": 133,
    "start_time": "2022-10-17T13:58:12.696Z"
   },
   {
    "duration": 169,
    "start_time": "2022-10-17T13:58:35.773Z"
   },
   {
    "duration": 157,
    "start_time": "2022-10-17T13:58:46.276Z"
   },
   {
    "duration": 164,
    "start_time": "2022-10-17T14:03:57.225Z"
   },
   {
    "duration": 159,
    "start_time": "2022-10-17T14:04:08.933Z"
   },
   {
    "duration": 132,
    "start_time": "2022-10-17T14:04:18.563Z"
   },
   {
    "duration": 116,
    "start_time": "2022-10-17T14:06:05.908Z"
   },
   {
    "duration": 197,
    "start_time": "2022-10-17T14:06:33.549Z"
   },
   {
    "duration": 145,
    "start_time": "2022-10-17T14:06:45.869Z"
   },
   {
    "duration": 684,
    "start_time": "2022-10-17T14:11:32.909Z"
   },
   {
    "duration": 717,
    "start_time": "2022-10-17T14:13:50.338Z"
   },
   {
    "duration": 668,
    "start_time": "2022-10-17T14:14:07.704Z"
   },
   {
    "duration": 606,
    "start_time": "2022-10-17T14:16:04.470Z"
   },
   {
    "duration": 95,
    "start_time": "2022-10-17T14:16:05.079Z"
   },
   {
    "duration": 58,
    "start_time": "2022-10-17T14:16:05.176Z"
   },
   {
    "duration": 29,
    "start_time": "2022-10-17T14:16:05.236Z"
   },
   {
    "duration": 2434,
    "start_time": "2022-10-17T14:16:05.267Z"
   },
   {
    "duration": 7,
    "start_time": "2022-10-17T14:16:07.703Z"
   },
   {
    "duration": 75,
    "start_time": "2022-10-17T14:16:07.712Z"
   },
   {
    "duration": 23,
    "start_time": "2022-10-17T14:16:07.789Z"
   },
   {
    "duration": 27,
    "start_time": "2022-10-17T14:16:07.814Z"
   },
   {
    "duration": 4,
    "start_time": "2022-10-17T14:16:07.843Z"
   },
   {
    "duration": 267,
    "start_time": "2022-10-17T14:16:07.849Z"
   },
   {
    "duration": 130,
    "start_time": "2022-10-17T14:16:08.118Z"
   },
   {
    "duration": 2,
    "start_time": "2022-10-17T14:16:08.250Z"
   },
   {
    "duration": 16,
    "start_time": "2022-10-17T14:16:08.255Z"
   },
   {
    "duration": 289,
    "start_time": "2022-10-17T14:16:08.272Z"
   },
   {
    "duration": 32,
    "start_time": "2022-10-17T14:16:08.563Z"
   },
   {
    "duration": 37,
    "start_time": "2022-10-17T14:16:08.597Z"
   },
   {
    "duration": 35,
    "start_time": "2022-10-17T14:16:08.636Z"
   },
   {
    "duration": 66,
    "start_time": "2022-10-17T14:16:08.673Z"
   },
   {
    "duration": 9,
    "start_time": "2022-10-17T14:16:08.741Z"
   },
   {
    "duration": 169,
    "start_time": "2022-10-17T14:16:08.751Z"
   },
   {
    "duration": 11,
    "start_time": "2022-10-17T14:16:08.922Z"
   },
   {
    "duration": 15,
    "start_time": "2022-10-17T14:16:08.935Z"
   },
   {
    "duration": 56,
    "start_time": "2022-10-17T14:16:08.951Z"
   },
   {
    "duration": 9,
    "start_time": "2022-10-17T14:16:09.033Z"
   },
   {
    "duration": 443,
    "start_time": "2022-10-17T14:16:09.044Z"
   },
   {
    "duration": 378,
    "start_time": "2022-10-17T14:16:09.489Z"
   },
   {
    "duration": 13,
    "start_time": "2022-10-17T14:16:09.869Z"
   },
   {
    "duration": 15,
    "start_time": "2022-10-17T14:16:09.883Z"
   },
   {
    "duration": 125,
    "start_time": "2022-10-17T14:16:09.899Z"
   },
   {
    "duration": 93,
    "start_time": "2022-10-17T14:16:10.026Z"
   },
   {
    "duration": 0,
    "start_time": "2022-10-17T14:16:10.133Z"
   },
   {
    "duration": 0,
    "start_time": "2022-10-17T14:16:10.135Z"
   },
   {
    "duration": 0,
    "start_time": "2022-10-17T14:16:10.136Z"
   },
   {
    "duration": 0,
    "start_time": "2022-10-17T14:16:10.137Z"
   },
   {
    "duration": 0,
    "start_time": "2022-10-17T14:16:10.138Z"
   },
   {
    "duration": 0,
    "start_time": "2022-10-17T14:16:10.139Z"
   },
   {
    "duration": 0,
    "start_time": "2022-10-17T14:16:10.140Z"
   },
   {
    "duration": 0,
    "start_time": "2022-10-17T14:16:10.141Z"
   },
   {
    "duration": 0,
    "start_time": "2022-10-17T14:16:10.143Z"
   },
   {
    "duration": 0,
    "start_time": "2022-10-17T14:16:10.144Z"
   },
   {
    "duration": 0,
    "start_time": "2022-10-17T14:16:10.145Z"
   },
   {
    "duration": 0,
    "start_time": "2022-10-17T14:16:10.146Z"
   },
   {
    "duration": 0,
    "start_time": "2022-10-17T14:16:10.147Z"
   },
   {
    "duration": 0,
    "start_time": "2022-10-17T14:16:10.149Z"
   },
   {
    "duration": 0,
    "start_time": "2022-10-17T14:16:10.150Z"
   },
   {
    "duration": 0,
    "start_time": "2022-10-17T14:16:10.151Z"
   },
   {
    "duration": 0,
    "start_time": "2022-10-17T14:16:10.153Z"
   },
   {
    "duration": 0,
    "start_time": "2022-10-17T14:16:10.154Z"
   },
   {
    "duration": 0,
    "start_time": "2022-10-17T14:16:10.155Z"
   },
   {
    "duration": 0,
    "start_time": "2022-10-17T14:16:10.156Z"
   },
   {
    "duration": 3,
    "start_time": "2022-10-17T14:18:07.650Z"
   },
   {
    "duration": 609,
    "start_time": "2022-10-17T14:18:19.859Z"
   },
   {
    "duration": 98,
    "start_time": "2022-10-17T14:18:20.470Z"
   },
   {
    "duration": 37,
    "start_time": "2022-10-17T14:18:20.570Z"
   },
   {
    "duration": 41,
    "start_time": "2022-10-17T14:18:20.609Z"
   },
   {
    "duration": 2305,
    "start_time": "2022-10-17T14:18:20.652Z"
   },
   {
    "duration": 8,
    "start_time": "2022-10-17T14:18:22.959Z"
   },
   {
    "duration": 80,
    "start_time": "2022-10-17T14:18:22.969Z"
   },
   {
    "duration": 27,
    "start_time": "2022-10-17T14:18:23.051Z"
   },
   {
    "duration": 14,
    "start_time": "2022-10-17T14:18:23.080Z"
   },
   {
    "duration": 4,
    "start_time": "2022-10-17T14:18:23.096Z"
   },
   {
    "duration": 286,
    "start_time": "2022-10-17T14:18:23.102Z"
   },
   {
    "duration": 119,
    "start_time": "2022-10-17T14:18:23.390Z"
   },
   {
    "duration": 4,
    "start_time": "2022-10-17T14:18:23.511Z"
   },
   {
    "duration": 25,
    "start_time": "2022-10-17T14:18:23.518Z"
   },
   {
    "duration": 270,
    "start_time": "2022-10-17T14:18:23.545Z"
   },
   {
    "duration": 35,
    "start_time": "2022-10-17T14:18:23.817Z"
   },
   {
    "duration": 19,
    "start_time": "2022-10-17T14:18:23.854Z"
   },
   {
    "duration": 67,
    "start_time": "2022-10-17T14:18:23.874Z"
   },
   {
    "duration": 48,
    "start_time": "2022-10-17T14:18:23.943Z"
   },
   {
    "duration": 9,
    "start_time": "2022-10-17T14:18:23.993Z"
   },
   {
    "duration": 203,
    "start_time": "2022-10-17T14:18:24.005Z"
   },
   {
    "duration": 5,
    "start_time": "2022-10-17T14:18:24.210Z"
   },
   {
    "duration": 30,
    "start_time": "2022-10-17T14:18:24.217Z"
   },
   {
    "duration": 56,
    "start_time": "2022-10-17T14:18:24.249Z"
   },
   {
    "duration": 9,
    "start_time": "2022-10-17T14:18:24.306Z"
   },
   {
    "duration": 443,
    "start_time": "2022-10-17T14:18:24.334Z"
   },
   {
    "duration": 368,
    "start_time": "2022-10-17T14:18:24.779Z"
   },
   {
    "duration": 14,
    "start_time": "2022-10-17T14:18:25.148Z"
   },
   {
    "duration": 14,
    "start_time": "2022-10-17T14:18:25.163Z"
   },
   {
    "duration": 3,
    "start_time": "2022-10-17T14:18:25.178Z"
   },
   {
    "duration": 363,
    "start_time": "2022-10-17T14:18:25.182Z"
   },
   {
    "duration": 617,
    "start_time": "2022-10-17T14:18:25.547Z"
   },
   {
    "duration": 240,
    "start_time": "2022-10-17T14:18:26.166Z"
   },
   {
    "duration": 325,
    "start_time": "2022-10-17T14:18:26.408Z"
   },
   {
    "duration": 161,
    "start_time": "2022-10-17T14:18:26.735Z"
   },
   {
    "duration": 171,
    "start_time": "2022-10-17T14:18:26.898Z"
   },
   {
    "duration": 136,
    "start_time": "2022-10-17T14:18:27.071Z"
   },
   {
    "duration": 161,
    "start_time": "2022-10-17T14:18:27.209Z"
   },
   {
    "duration": 146,
    "start_time": "2022-10-17T14:18:27.372Z"
   },
   {
    "duration": 153,
    "start_time": "2022-10-17T14:18:27.520Z"
   },
   {
    "duration": 138,
    "start_time": "2022-10-17T14:18:27.676Z"
   },
   {
    "duration": 226,
    "start_time": "2022-10-17T14:18:27.816Z"
   },
   {
    "duration": 271,
    "start_time": "2022-10-17T14:18:28.043Z"
   },
   {
    "duration": 702,
    "start_time": "2022-10-17T14:18:28.316Z"
   },
   {
    "duration": 453,
    "start_time": "2022-10-17T14:18:29.020Z"
   },
   {
    "duration": 170,
    "start_time": "2022-10-17T14:18:29.474Z"
   },
   {
    "duration": 165,
    "start_time": "2022-10-17T14:18:29.646Z"
   },
   {
    "duration": 634,
    "start_time": "2022-10-17T14:18:29.813Z"
   },
   {
    "duration": 17,
    "start_time": "2022-10-17T14:18:30.449Z"
   },
   {
    "duration": 187,
    "start_time": "2022-10-17T14:18:30.468Z"
   },
   {
    "duration": 3,
    "start_time": "2022-10-17T14:18:30.657Z"
   },
   {
    "duration": 15,
    "start_time": "2022-10-17T15:18:03.783Z"
   },
   {
    "duration": 14,
    "start_time": "2022-10-17T15:18:22.265Z"
   },
   {
    "duration": 84,
    "start_time": "2022-10-17T15:26:23.623Z"
   },
   {
    "duration": 132,
    "start_time": "2022-10-17T15:26:30.166Z"
   },
   {
    "duration": 127,
    "start_time": "2022-10-17T15:27:09.935Z"
   },
   {
    "duration": 137,
    "start_time": "2022-10-17T15:28:15.897Z"
   },
   {
    "duration": 171,
    "start_time": "2022-10-17T15:28:38.133Z"
   },
   {
    "duration": 155,
    "start_time": "2022-10-17T15:28:47.221Z"
   },
   {
    "duration": 167,
    "start_time": "2022-10-17T15:30:19.657Z"
   },
   {
    "duration": 151,
    "start_time": "2022-10-17T15:30:57.719Z"
   },
   {
    "duration": 213,
    "start_time": "2022-10-17T15:31:57.402Z"
   },
   {
    "duration": 234,
    "start_time": "2022-10-17T15:50:47.756Z"
   },
   {
    "duration": 155,
    "start_time": "2022-10-17T15:58:28.247Z"
   },
   {
    "duration": 152,
    "start_time": "2022-10-17T16:00:43.290Z"
   },
   {
    "duration": 162,
    "start_time": "2022-10-17T16:01:25.835Z"
   },
   {
    "duration": 155,
    "start_time": "2022-10-17T16:02:04.440Z"
   },
   {
    "duration": 101,
    "start_time": "2022-10-17T16:05:23.561Z"
   },
   {
    "duration": 118,
    "start_time": "2022-10-17T16:16:59.991Z"
   },
   {
    "duration": 116,
    "start_time": "2022-10-17T16:17:04.875Z"
   },
   {
    "duration": 144,
    "start_time": "2022-10-17T16:17:12.383Z"
   },
   {
    "duration": 802,
    "start_time": "2022-10-18T05:40:13.467Z"
   },
   {
    "duration": 151,
    "start_time": "2022-10-18T05:40:14.271Z"
   },
   {
    "duration": 31,
    "start_time": "2022-10-18T05:40:14.423Z"
   },
   {
    "duration": 30,
    "start_time": "2022-10-18T05:40:14.456Z"
   },
   {
    "duration": 2163,
    "start_time": "2022-10-18T05:40:14.488Z"
   },
   {
    "duration": 8,
    "start_time": "2022-10-18T05:40:16.652Z"
   },
   {
    "duration": 72,
    "start_time": "2022-10-18T05:40:16.661Z"
   },
   {
    "duration": 22,
    "start_time": "2022-10-18T05:40:16.735Z"
   },
   {
    "duration": 13,
    "start_time": "2022-10-18T05:40:16.758Z"
   },
   {
    "duration": 5,
    "start_time": "2022-10-18T05:40:16.773Z"
   },
   {
    "duration": 273,
    "start_time": "2022-10-18T05:40:16.779Z"
   },
   {
    "duration": 109,
    "start_time": "2022-10-18T05:40:17.054Z"
   },
   {
    "duration": 2,
    "start_time": "2022-10-18T05:40:17.165Z"
   },
   {
    "duration": 21,
    "start_time": "2022-10-18T05:40:17.169Z"
   },
   {
    "duration": 265,
    "start_time": "2022-10-18T05:40:17.192Z"
   },
   {
    "duration": 29,
    "start_time": "2022-10-18T05:40:17.459Z"
   },
   {
    "duration": 27,
    "start_time": "2022-10-18T05:40:17.509Z"
   },
   {
    "duration": 38,
    "start_time": "2022-10-18T05:40:17.538Z"
   },
   {
    "duration": 65,
    "start_time": "2022-10-18T05:40:17.578Z"
   },
   {
    "duration": 10,
    "start_time": "2022-10-18T05:40:17.645Z"
   },
   {
    "duration": 177,
    "start_time": "2022-10-18T05:40:17.656Z"
   },
   {
    "duration": 5,
    "start_time": "2022-10-18T05:40:17.835Z"
   },
   {
    "duration": 20,
    "start_time": "2022-10-18T05:40:17.841Z"
   },
   {
    "duration": 68,
    "start_time": "2022-10-18T05:40:17.863Z"
   },
   {
    "duration": 8,
    "start_time": "2022-10-18T05:40:17.932Z"
   },
   {
    "duration": 388,
    "start_time": "2022-10-18T05:40:17.941Z"
   },
   {
    "duration": 309,
    "start_time": "2022-10-18T05:40:18.330Z"
   },
   {
    "duration": 13,
    "start_time": "2022-10-18T05:40:18.643Z"
   },
   {
    "duration": 15,
    "start_time": "2022-10-18T05:40:18.657Z"
   },
   {
    "duration": 3,
    "start_time": "2022-10-18T05:40:18.674Z"
   },
   {
    "duration": 418,
    "start_time": "2022-10-18T05:40:18.679Z"
   },
   {
    "duration": 575,
    "start_time": "2022-10-18T05:40:19.098Z"
   },
   {
    "duration": 180,
    "start_time": "2022-10-18T05:40:19.675Z"
   },
   {
    "duration": 303,
    "start_time": "2022-10-18T05:40:19.856Z"
   },
   {
    "duration": 162,
    "start_time": "2022-10-18T05:40:20.160Z"
   },
   {
    "duration": 161,
    "start_time": "2022-10-18T05:40:20.324Z"
   },
   {
    "duration": 147,
    "start_time": "2022-10-18T05:40:20.487Z"
   },
   {
    "duration": 164,
    "start_time": "2022-10-18T05:40:20.636Z"
   },
   {
    "duration": 150,
    "start_time": "2022-10-18T05:40:20.809Z"
   },
   {
    "duration": 150,
    "start_time": "2022-10-18T05:40:20.961Z"
   },
   {
    "duration": 129,
    "start_time": "2022-10-18T05:40:21.113Z"
   },
   {
    "duration": 211,
    "start_time": "2022-10-18T05:40:21.244Z"
   },
   {
    "duration": 233,
    "start_time": "2022-10-18T05:40:21.456Z"
   },
   {
    "duration": 118,
    "start_time": "2022-10-18T05:40:21.691Z"
   },
   {
    "duration": 428,
    "start_time": "2022-10-18T05:40:21.810Z"
   },
   {
    "duration": 153,
    "start_time": "2022-10-18T05:40:22.240Z"
   },
   {
    "duration": 168,
    "start_time": "2022-10-18T05:40:22.396Z"
   },
   {
    "duration": 176,
    "start_time": "2022-10-18T05:40:22.566Z"
   },
   {
    "duration": 513,
    "start_time": "2022-10-18T05:40:22.744Z"
   },
   {
    "duration": 14,
    "start_time": "2022-10-18T05:40:23.258Z"
   },
   {
    "duration": 170,
    "start_time": "2022-10-18T05:40:23.274Z"
   },
   {
    "duration": 3,
    "start_time": "2022-10-18T05:40:23.446Z"
   },
   {
    "duration": 767,
    "start_time": "2022-10-18T06:12:17.014Z"
   },
   {
    "duration": 26,
    "start_time": "2022-10-18T06:12:29.136Z"
   },
   {
    "duration": 40,
    "start_time": "2022-10-18T06:13:13.731Z"
   },
   {
    "duration": 307,
    "start_time": "2022-10-18T06:27:42.491Z"
   },
   {
    "duration": 162,
    "start_time": "2022-10-18T06:27:54.034Z"
   },
   {
    "duration": 151,
    "start_time": "2022-10-18T06:28:03.996Z"
   },
   {
    "duration": 16,
    "start_time": "2022-10-18T06:33:34.292Z"
   },
   {
    "duration": 186,
    "start_time": "2022-10-18T06:37:00.020Z"
   },
   {
    "duration": 208,
    "start_time": "2022-10-18T06:37:16.551Z"
   },
   {
    "duration": 262,
    "start_time": "2022-10-18T06:37:33.974Z"
   },
   {
    "duration": 5,
    "start_time": "2022-10-18T06:56:33.233Z"
   },
   {
    "duration": 16,
    "start_time": "2022-10-18T06:56:34.892Z"
   },
   {
    "duration": 207,
    "start_time": "2022-10-18T06:56:44.067Z"
   },
   {
    "duration": 52,
    "start_time": "2022-10-18T06:56:48.362Z"
   },
   {
    "duration": 589,
    "start_time": "2022-10-18T06:59:18.861Z"
   },
   {
    "duration": 91,
    "start_time": "2022-10-18T06:59:19.452Z"
   },
   {
    "duration": 31,
    "start_time": "2022-10-18T06:59:19.544Z"
   },
   {
    "duration": 37,
    "start_time": "2022-10-18T06:59:19.576Z"
   },
   {
    "duration": 2174,
    "start_time": "2022-10-18T06:59:19.615Z"
   },
   {
    "duration": 8,
    "start_time": "2022-10-18T06:59:21.790Z"
   },
   {
    "duration": 67,
    "start_time": "2022-10-18T06:59:21.799Z"
   },
   {
    "duration": 23,
    "start_time": "2022-10-18T06:59:21.867Z"
   },
   {
    "duration": 30,
    "start_time": "2022-10-18T06:59:21.891Z"
   },
   {
    "duration": 5,
    "start_time": "2022-10-18T06:59:21.923Z"
   },
   {
    "duration": 305,
    "start_time": "2022-10-18T06:59:21.930Z"
   },
   {
    "duration": 6,
    "start_time": "2022-10-18T06:59:22.236Z"
   },
   {
    "duration": 17,
    "start_time": "2022-10-18T06:59:22.244Z"
   },
   {
    "duration": 214,
    "start_time": "2022-10-18T06:59:22.264Z"
   },
   {
    "duration": 60,
    "start_time": "2022-10-18T06:59:22.480Z"
   },
   {
    "duration": 326,
    "start_time": "2022-10-18T06:59:22.543Z"
   },
   {
    "duration": 29,
    "start_time": "2022-10-18T06:59:22.870Z"
   },
   {
    "duration": 18,
    "start_time": "2022-10-18T06:59:22.909Z"
   },
   {
    "duration": 34,
    "start_time": "2022-10-18T06:59:22.928Z"
   },
   {
    "duration": 90,
    "start_time": "2022-10-18T06:59:22.964Z"
   },
   {
    "duration": 8,
    "start_time": "2022-10-18T06:59:23.056Z"
   },
   {
    "duration": 157,
    "start_time": "2022-10-18T06:59:23.066Z"
   },
   {
    "duration": 5,
    "start_time": "2022-10-18T06:59:23.224Z"
   },
   {
    "duration": 15,
    "start_time": "2022-10-18T06:59:23.231Z"
   },
   {
    "duration": 148,
    "start_time": "2022-10-18T06:59:23.248Z"
   },
   {
    "duration": 12,
    "start_time": "2022-10-18T06:59:23.398Z"
   },
   {
    "duration": 319,
    "start_time": "2022-10-18T06:59:23.411Z"
   },
   {
    "duration": 338,
    "start_time": "2022-10-18T06:59:23.732Z"
   },
   {
    "duration": 13,
    "start_time": "2022-10-18T06:59:24.071Z"
   },
   {
    "duration": 28,
    "start_time": "2022-10-18T06:59:24.086Z"
   },
   {
    "duration": 38,
    "start_time": "2022-10-18T06:59:24.115Z"
   },
   {
    "duration": 3,
    "start_time": "2022-10-18T06:59:24.155Z"
   },
   {
    "duration": 390,
    "start_time": "2022-10-18T06:59:24.160Z"
   },
   {
    "duration": 582,
    "start_time": "2022-10-18T06:59:24.552Z"
   },
   {
    "duration": 178,
    "start_time": "2022-10-18T06:59:25.136Z"
   },
   {
    "duration": 299,
    "start_time": "2022-10-18T06:59:25.316Z"
   },
   {
    "duration": 148,
    "start_time": "2022-10-18T06:59:25.616Z"
   },
   {
    "duration": 182,
    "start_time": "2022-10-18T06:59:25.765Z"
   },
   {
    "duration": 145,
    "start_time": "2022-10-18T06:59:25.949Z"
   },
   {
    "duration": 159,
    "start_time": "2022-10-18T06:59:26.096Z"
   },
   {
    "duration": 158,
    "start_time": "2022-10-18T06:59:26.261Z"
   },
   {
    "duration": 164,
    "start_time": "2022-10-18T06:59:26.421Z"
   },
   {
    "duration": 224,
    "start_time": "2022-10-18T06:59:26.586Z"
   },
   {
    "duration": 155,
    "start_time": "2022-10-18T06:59:26.812Z"
   },
   {
    "duration": 242,
    "start_time": "2022-10-18T06:59:26.969Z"
   },
   {
    "duration": 119,
    "start_time": "2022-10-18T06:59:27.212Z"
   },
   {
    "duration": 463,
    "start_time": "2022-10-18T06:59:27.333Z"
   },
   {
    "duration": 175,
    "start_time": "2022-10-18T06:59:27.797Z"
   },
   {
    "duration": 176,
    "start_time": "2022-10-18T06:59:27.973Z"
   },
   {
    "duration": 135,
    "start_time": "2022-10-18T06:59:28.152Z"
   },
   {
    "duration": 512,
    "start_time": "2022-10-18T06:59:28.288Z"
   },
   {
    "duration": 15,
    "start_time": "2022-10-18T06:59:28.808Z"
   },
   {
    "duration": 163,
    "start_time": "2022-10-18T06:59:28.824Z"
   },
   {
    "duration": 2,
    "start_time": "2022-10-18T06:59:28.989Z"
   },
   {
    "duration": 135,
    "start_time": "2022-10-18T07:07:05.378Z"
   },
   {
    "duration": 4,
    "start_time": "2022-10-18T07:12:45.575Z"
   },
   {
    "duration": 17,
    "start_time": "2022-10-18T07:12:52.307Z"
   },
   {
    "duration": 160,
    "start_time": "2022-10-18T07:13:54.657Z"
   },
   {
    "duration": 180,
    "start_time": "2022-10-18T07:14:12.265Z"
   },
   {
    "duration": 5,
    "start_time": "2022-10-18T07:14:47.737Z"
   },
   {
    "duration": 8,
    "start_time": "2022-10-18T07:17:24.104Z"
   },
   {
    "duration": 102,
    "start_time": "2022-10-18T07:22:22.339Z"
   },
   {
    "duration": 28,
    "start_time": "2022-10-18T07:23:28.318Z"
   },
   {
    "duration": 19,
    "start_time": "2022-10-18T07:24:32.064Z"
   },
   {
    "duration": 12,
    "start_time": "2022-10-18T07:25:07.376Z"
   },
   {
    "duration": 9,
    "start_time": "2022-10-18T07:25:19.555Z"
   },
   {
    "duration": 685,
    "start_time": "2022-10-18T07:25:35.605Z"
   },
   {
    "duration": 108,
    "start_time": "2022-10-18T07:25:36.292Z"
   },
   {
    "duration": 32,
    "start_time": "2022-10-18T07:25:36.402Z"
   },
   {
    "duration": 36,
    "start_time": "2022-10-18T07:25:36.435Z"
   },
   {
    "duration": 2280,
    "start_time": "2022-10-18T07:25:36.473Z"
   },
   {
    "duration": 7,
    "start_time": "2022-10-18T07:25:38.755Z"
   },
   {
    "duration": 104,
    "start_time": "2022-10-18T07:25:38.763Z"
   },
   {
    "duration": 26,
    "start_time": "2022-10-18T07:25:38.868Z"
   },
   {
    "duration": 35,
    "start_time": "2022-10-18T07:25:38.895Z"
   },
   {
    "duration": 5,
    "start_time": "2022-10-18T07:25:38.931Z"
   },
   {
    "duration": 288,
    "start_time": "2022-10-18T07:25:38.937Z"
   },
   {
    "duration": 8,
    "start_time": "2022-10-18T07:25:39.227Z"
   },
   {
    "duration": 48,
    "start_time": "2022-10-18T07:25:39.237Z"
   },
   {
    "duration": 273,
    "start_time": "2022-10-18T07:25:39.288Z"
   },
   {
    "duration": 56,
    "start_time": "2022-10-18T07:25:39.562Z"
   },
   {
    "duration": 275,
    "start_time": "2022-10-18T07:25:39.619Z"
   },
   {
    "duration": 47,
    "start_time": "2022-10-18T07:25:39.896Z"
   },
   {
    "duration": 57,
    "start_time": "2022-10-18T07:25:39.944Z"
   },
   {
    "duration": 63,
    "start_time": "2022-10-18T07:25:40.002Z"
   },
   {
    "duration": 76,
    "start_time": "2022-10-18T07:25:40.066Z"
   },
   {
    "duration": 7,
    "start_time": "2022-10-18T07:25:40.144Z"
   },
   {
    "duration": 178,
    "start_time": "2022-10-18T07:25:40.152Z"
   },
   {
    "duration": 5,
    "start_time": "2022-10-18T07:25:40.332Z"
   },
   {
    "duration": 46,
    "start_time": "2022-10-18T07:25:40.339Z"
   },
   {
    "duration": 159,
    "start_time": "2022-10-18T07:25:40.386Z"
   },
   {
    "duration": 10,
    "start_time": "2022-10-18T07:25:40.547Z"
   },
   {
    "duration": 364,
    "start_time": "2022-10-18T07:25:40.559Z"
   },
   {
    "duration": 325,
    "start_time": "2022-10-18T07:25:40.925Z"
   },
   {
    "duration": 12,
    "start_time": "2022-10-18T07:25:41.251Z"
   },
   {
    "duration": 31,
    "start_time": "2022-10-18T07:25:41.264Z"
   },
   {
    "duration": 64,
    "start_time": "2022-10-18T07:25:41.297Z"
   },
   {
    "duration": 4,
    "start_time": "2022-10-18T07:25:41.362Z"
   },
   {
    "duration": 412,
    "start_time": "2022-10-18T07:25:41.368Z"
   },
   {
    "duration": 581,
    "start_time": "2022-10-18T07:25:41.781Z"
   },
   {
    "duration": 194,
    "start_time": "2022-10-18T07:25:42.363Z"
   },
   {
    "duration": 373,
    "start_time": "2022-10-18T07:25:42.560Z"
   },
   {
    "duration": 175,
    "start_time": "2022-10-18T07:25:42.934Z"
   },
   {
    "duration": 161,
    "start_time": "2022-10-18T07:25:43.111Z"
   },
   {
    "duration": 151,
    "start_time": "2022-10-18T07:25:43.273Z"
   },
   {
    "duration": 157,
    "start_time": "2022-10-18T07:25:43.426Z"
   },
   {
    "duration": 147,
    "start_time": "2022-10-18T07:25:43.586Z"
   },
   {
    "duration": 155,
    "start_time": "2022-10-18T07:25:43.735Z"
   },
   {
    "duration": 221,
    "start_time": "2022-10-18T07:25:43.892Z"
   },
   {
    "duration": 160,
    "start_time": "2022-10-18T07:25:44.115Z"
   },
   {
    "duration": 241,
    "start_time": "2022-10-18T07:25:44.277Z"
   },
   {
    "duration": 128,
    "start_time": "2022-10-18T07:25:44.520Z"
   },
   {
    "duration": 481,
    "start_time": "2022-10-18T07:25:44.650Z"
   },
   {
    "duration": 171,
    "start_time": "2022-10-18T07:25:45.133Z"
   },
   {
    "duration": 178,
    "start_time": "2022-10-18T07:25:45.309Z"
   },
   {
    "duration": 139,
    "start_time": "2022-10-18T07:25:45.488Z"
   },
   {
    "duration": 516,
    "start_time": "2022-10-18T07:25:45.630Z"
   },
   {
    "duration": 13,
    "start_time": "2022-10-18T07:25:46.149Z"
   },
   {
    "duration": 241,
    "start_time": "2022-10-18T07:25:46.164Z"
   },
   {
    "duration": 4,
    "start_time": "2022-10-18T07:25:46.406Z"
   },
   {
    "duration": 140,
    "start_time": "2022-10-18T07:33:36.982Z"
   },
   {
    "duration": 5,
    "start_time": "2022-10-18T07:34:21.193Z"
   },
   {
    "duration": 650,
    "start_time": "2022-10-18T07:35:25.923Z"
   },
   {
    "duration": 110,
    "start_time": "2022-10-18T07:35:26.576Z"
   },
   {
    "duration": 37,
    "start_time": "2022-10-18T07:35:26.688Z"
   },
   {
    "duration": 27,
    "start_time": "2022-10-18T07:35:26.727Z"
   },
   {
    "duration": 2321,
    "start_time": "2022-10-18T07:35:26.756Z"
   },
   {
    "duration": 6,
    "start_time": "2022-10-18T07:35:29.079Z"
   },
   {
    "duration": 81,
    "start_time": "2022-10-18T07:35:29.087Z"
   },
   {
    "duration": 23,
    "start_time": "2022-10-18T07:35:29.169Z"
   },
   {
    "duration": 27,
    "start_time": "2022-10-18T07:35:29.193Z"
   },
   {
    "duration": 6,
    "start_time": "2022-10-18T07:35:29.222Z"
   },
   {
    "duration": 277,
    "start_time": "2022-10-18T07:35:29.230Z"
   },
   {
    "duration": 9,
    "start_time": "2022-10-18T07:35:29.509Z"
   },
   {
    "duration": 8,
    "start_time": "2022-10-18T07:35:29.523Z"
   },
   {
    "duration": 223,
    "start_time": "2022-10-18T07:35:29.535Z"
   },
   {
    "duration": 63,
    "start_time": "2022-10-18T07:35:29.760Z"
   },
   {
    "duration": 279,
    "start_time": "2022-10-18T07:35:29.825Z"
   },
   {
    "duration": 38,
    "start_time": "2022-10-18T07:35:30.109Z"
   },
   {
    "duration": 28,
    "start_time": "2022-10-18T07:35:30.149Z"
   },
   {
    "duration": 60,
    "start_time": "2022-10-18T07:35:30.179Z"
   },
   {
    "duration": 40,
    "start_time": "2022-10-18T07:35:30.241Z"
   },
   {
    "duration": 7,
    "start_time": "2022-10-18T07:35:30.283Z"
   },
   {
    "duration": 197,
    "start_time": "2022-10-18T07:35:30.291Z"
   },
   {
    "duration": 5,
    "start_time": "2022-10-18T07:35:30.490Z"
   },
   {
    "duration": 36,
    "start_time": "2022-10-18T07:35:30.496Z"
   },
   {
    "duration": 152,
    "start_time": "2022-10-18T07:35:30.534Z"
   },
   {
    "duration": 8,
    "start_time": "2022-10-18T07:35:30.687Z"
   },
   {
    "duration": 346,
    "start_time": "2022-10-18T07:35:30.696Z"
   },
   {
    "duration": 336,
    "start_time": "2022-10-18T07:35:31.044Z"
   },
   {
    "duration": 11,
    "start_time": "2022-10-18T07:35:31.381Z"
   },
   {
    "duration": 23,
    "start_time": "2022-10-18T07:35:31.393Z"
   },
   {
    "duration": 40,
    "start_time": "2022-10-18T07:35:31.418Z"
   },
   {
    "duration": 13,
    "start_time": "2022-10-18T07:35:31.460Z"
   },
   {
    "duration": 381,
    "start_time": "2022-10-18T07:35:31.475Z"
   },
   {
    "duration": 588,
    "start_time": "2022-10-18T07:35:31.858Z"
   },
   {
    "duration": 213,
    "start_time": "2022-10-18T07:35:32.448Z"
   },
   {
    "duration": 348,
    "start_time": "2022-10-18T07:35:32.663Z"
   },
   {
    "duration": 162,
    "start_time": "2022-10-18T07:35:33.013Z"
   },
   {
    "duration": 179,
    "start_time": "2022-10-18T07:35:33.177Z"
   },
   {
    "duration": 155,
    "start_time": "2022-10-18T07:35:33.357Z"
   },
   {
    "duration": 154,
    "start_time": "2022-10-18T07:35:33.513Z"
   },
   {
    "duration": 146,
    "start_time": "2022-10-18T07:35:33.670Z"
   },
   {
    "duration": 149,
    "start_time": "2022-10-18T07:35:33.818Z"
   },
   {
    "duration": 231,
    "start_time": "2022-10-18T07:35:33.969Z"
   },
   {
    "duration": 152,
    "start_time": "2022-10-18T07:35:34.201Z"
   },
   {
    "duration": 237,
    "start_time": "2022-10-18T07:35:34.355Z"
   },
   {
    "duration": 116,
    "start_time": "2022-10-18T07:35:34.594Z"
   },
   {
    "duration": 489,
    "start_time": "2022-10-18T07:35:34.713Z"
   },
   {
    "duration": 182,
    "start_time": "2022-10-18T07:35:35.209Z"
   },
   {
    "duration": 189,
    "start_time": "2022-10-18T07:35:35.392Z"
   },
   {
    "duration": 141,
    "start_time": "2022-10-18T07:35:35.582Z"
   },
   {
    "duration": 525,
    "start_time": "2022-10-18T07:35:35.725Z"
   },
   {
    "duration": 13,
    "start_time": "2022-10-18T07:35:36.252Z"
   },
   {
    "duration": 180,
    "start_time": "2022-10-18T07:35:36.266Z"
   },
   {
    "duration": 2,
    "start_time": "2022-10-18T07:35:36.447Z"
   },
   {
    "duration": 6,
    "start_time": "2022-10-18T07:35:36.452Z"
   },
   {
    "duration": 90,
    "start_time": "2022-10-18T07:35:37.088Z"
   },
   {
    "duration": 21,
    "start_time": "2022-10-18T07:35:45.558Z"
   },
   {
    "duration": 19,
    "start_time": "2022-10-18T07:35:48.334Z"
   },
   {
    "duration": 2295,
    "start_time": "2022-10-18T07:35:55.937Z"
   },
   {
    "duration": 8,
    "start_time": "2022-10-18T07:36:06.263Z"
   },
   {
    "duration": 80,
    "start_time": "2022-10-18T07:36:11.414Z"
   },
   {
    "duration": 31,
    "start_time": "2022-10-18T07:36:15.263Z"
   },
   {
    "duration": 13,
    "start_time": "2022-10-18T07:36:20.454Z"
   },
   {
    "duration": 4,
    "start_time": "2022-10-18T07:36:34.253Z"
   },
   {
    "duration": 10,
    "start_time": "2022-10-18T07:37:40.828Z"
   },
   {
    "duration": 5,
    "start_time": "2022-10-18T07:37:44.058Z"
   },
   {
    "duration": 219,
    "start_time": "2022-10-18T07:37:48.692Z"
   },
   {
    "duration": 61,
    "start_time": "2022-10-18T07:37:53.885Z"
   },
   {
    "duration": 286,
    "start_time": "2022-10-18T07:38:07.365Z"
   },
   {
    "duration": 19,
    "start_time": "2022-10-18T07:38:15.550Z"
   },
   {
    "duration": 19,
    "start_time": "2022-10-18T07:38:49.314Z"
   },
   {
    "duration": 36,
    "start_time": "2022-10-18T07:39:04.908Z"
   },
   {
    "duration": 61,
    "start_time": "2022-10-18T07:39:13.375Z"
   },
   {
    "duration": 8,
    "start_time": "2022-10-18T07:39:17.964Z"
   },
   {
    "duration": 181,
    "start_time": "2022-10-18T07:39:24.387Z"
   },
   {
    "duration": 7,
    "start_time": "2022-10-18T07:40:19.831Z"
   },
   {
    "duration": 14,
    "start_time": "2022-10-18T07:40:22.463Z"
   },
   {
    "duration": 21,
    "start_time": "2022-10-18T07:40:31.514Z"
   },
   {
    "duration": 7,
    "start_time": "2022-10-18T07:41:15.353Z"
   },
   {
    "duration": 341,
    "start_time": "2022-10-18T07:41:19.343Z"
   },
   {
    "duration": 487,
    "start_time": "2022-10-18T07:41:22.942Z"
   },
   {
    "duration": 14,
    "start_time": "2022-10-18T07:41:25.438Z"
   },
   {
    "duration": 16,
    "start_time": "2022-10-18T07:42:36.491Z"
   },
   {
    "duration": 39,
    "start_time": "2022-10-18T07:42:41.456Z"
   },
   {
    "duration": 47,
    "start_time": "2022-10-18T07:42:57.261Z"
   },
   {
    "duration": 395,
    "start_time": "2022-10-18T07:43:26.563Z"
   },
   {
    "duration": 529,
    "start_time": "2022-10-18T07:43:50.055Z"
   },
   {
    "duration": 174,
    "start_time": "2022-10-18T07:44:01.180Z"
   },
   {
    "duration": 290,
    "start_time": "2022-10-18T07:44:44.265Z"
   },
   {
    "duration": 359,
    "start_time": "2022-10-18T07:44:54.158Z"
   },
   {
    "duration": 184,
    "start_time": "2022-10-18T07:45:13.775Z"
   },
   {
    "duration": 164,
    "start_time": "2022-10-18T07:46:24.036Z"
   },
   {
    "duration": 154,
    "start_time": "2022-10-18T07:46:34.925Z"
   },
   {
    "duration": 128,
    "start_time": "2022-10-18T07:46:45.252Z"
   },
   {
    "duration": 147,
    "start_time": "2022-10-18T07:47:27.301Z"
   },
   {
    "duration": 147,
    "start_time": "2022-10-18T07:48:04.162Z"
   },
   {
    "duration": 136,
    "start_time": "2022-10-18T07:48:16.756Z"
   },
   {
    "duration": 136,
    "start_time": "2022-10-18T07:48:42.924Z"
   },
   {
    "duration": 138,
    "start_time": "2022-10-18T07:48:59.960Z"
   },
   {
    "duration": 44,
    "start_time": "2022-10-18T23:45:32.292Z"
   },
   {
    "duration": 566,
    "start_time": "2022-10-18T23:45:39.427Z"
   },
   {
    "duration": 85,
    "start_time": "2022-10-18T23:45:39.995Z"
   },
   {
    "duration": 31,
    "start_time": "2022-10-18T23:45:40.082Z"
   },
   {
    "duration": 27,
    "start_time": "2022-10-18T23:45:40.115Z"
   },
   {
    "duration": 2065,
    "start_time": "2022-10-18T23:45:40.144Z"
   },
   {
    "duration": 7,
    "start_time": "2022-10-18T23:45:42.211Z"
   },
   {
    "duration": 87,
    "start_time": "2022-10-18T23:45:42.219Z"
   },
   {
    "duration": 20,
    "start_time": "2022-10-18T23:45:42.308Z"
   },
   {
    "duration": 12,
    "start_time": "2022-10-18T23:45:42.329Z"
   },
   {
    "duration": 4,
    "start_time": "2022-10-18T23:45:42.343Z"
   },
   {
    "duration": 252,
    "start_time": "2022-10-18T23:45:42.348Z"
   },
   {
    "duration": 7,
    "start_time": "2022-10-18T23:45:42.602Z"
   },
   {
    "duration": 10,
    "start_time": "2022-10-18T23:45:42.610Z"
   },
   {
    "duration": 202,
    "start_time": "2022-10-18T23:45:42.622Z"
   },
   {
    "duration": 50,
    "start_time": "2022-10-18T23:45:42.826Z"
   },
   {
    "duration": 266,
    "start_time": "2022-10-18T23:45:42.877Z"
   },
   {
    "duration": 30,
    "start_time": "2022-10-18T23:45:43.145Z"
   },
   {
    "duration": 24,
    "start_time": "2022-10-18T23:45:43.177Z"
   },
   {
    "duration": 32,
    "start_time": "2022-10-18T23:45:43.203Z"
   },
   {
    "duration": 39,
    "start_time": "2022-10-18T23:45:43.237Z"
   },
   {
    "duration": 7,
    "start_time": "2022-10-18T23:45:43.278Z"
   },
   {
    "duration": 170,
    "start_time": "2022-10-18T23:45:43.286Z"
   },
   {
    "duration": 5,
    "start_time": "2022-10-18T23:45:43.457Z"
   },
   {
    "duration": 14,
    "start_time": "2022-10-18T23:45:43.463Z"
   },
   {
    "duration": 134,
    "start_time": "2022-10-18T23:45:43.479Z"
   },
   {
    "duration": 7,
    "start_time": "2022-10-18T23:45:43.614Z"
   },
   {
    "duration": 308,
    "start_time": "2022-10-18T23:45:43.623Z"
   },
   {
    "duration": 371,
    "start_time": "2022-10-18T23:45:43.935Z"
   },
   {
    "duration": 13,
    "start_time": "2022-10-18T23:45:44.308Z"
   },
   {
    "duration": 15,
    "start_time": "2022-10-18T23:45:44.323Z"
   },
   {
    "duration": 98,
    "start_time": "2022-10-18T23:45:44.339Z"
   },
   {
    "duration": 78,
    "start_time": "2022-10-18T23:45:44.439Z"
   },
   {
    "duration": 10,
    "start_time": "2022-10-18T23:45:44.519Z"
   },
   {
    "duration": 393,
    "start_time": "2022-10-18T23:45:44.531Z"
   },
   {
    "duration": 1001,
    "start_time": "2022-10-18T23:45:44.926Z"
   },
   {
    "duration": 321,
    "start_time": "2022-10-18T23:45:45.928Z"
   },
   {
    "duration": 580,
    "start_time": "2022-10-18T23:45:46.251Z"
   },
   {
    "duration": 270,
    "start_time": "2022-10-18T23:45:46.832Z"
   },
   {
    "duration": 155,
    "start_time": "2022-10-18T23:45:47.104Z"
   },
   {
    "duration": 125,
    "start_time": "2022-10-18T23:45:47.261Z"
   },
   {
    "duration": 140,
    "start_time": "2022-10-18T23:45:47.387Z"
   },
   {
    "duration": 124,
    "start_time": "2022-10-18T23:45:47.529Z"
   },
   {
    "duration": 162,
    "start_time": "2022-10-18T23:45:47.655Z"
   },
   {
    "duration": 362,
    "start_time": "2022-10-18T23:45:47.819Z"
   },
   {
    "duration": 138,
    "start_time": "2022-10-18T23:45:48.183Z"
   },
   {
    "duration": 238,
    "start_time": "2022-10-18T23:45:48.322Z"
   },
   {
    "duration": 107,
    "start_time": "2022-10-18T23:45:48.561Z"
   },
   {
    "duration": 447,
    "start_time": "2022-10-18T23:45:48.670Z"
   },
   {
    "duration": 161,
    "start_time": "2022-10-18T23:45:49.119Z"
   },
   {
    "duration": 2,
    "start_time": "2022-10-18T23:45:49.282Z"
   },
   {
    "duration": 171,
    "start_time": "2022-10-18T23:45:49.286Z"
   },
   {
    "duration": 116,
    "start_time": "2022-10-18T23:45:49.458Z"
   },
   {
    "duration": 472,
    "start_time": "2022-10-18T23:45:49.575Z"
   },
   {
    "duration": 15,
    "start_time": "2022-10-18T23:45:50.049Z"
   },
   {
    "duration": 157,
    "start_time": "2022-10-18T23:45:50.065Z"
   },
   {
    "duration": 3,
    "start_time": "2022-10-18T23:45:50.224Z"
   },
   {
    "duration": 186,
    "start_time": "2022-10-18T23:47:34.743Z"
   },
   {
    "duration": 182,
    "start_time": "2022-10-18T23:48:02.128Z"
   },
   {
    "duration": 204,
    "start_time": "2022-10-18T23:48:09.887Z"
   },
   {
    "duration": 542,
    "start_time": "2022-10-19T00:09:06.055Z"
   },
   {
    "duration": 94,
    "start_time": "2022-10-19T00:09:08.206Z"
   },
   {
    "duration": 4960,
    "start_time": "2022-10-19T00:09:11.506Z"
   },
   {
    "duration": 414,
    "start_time": "2022-10-19T00:09:16.468Z"
   },
   {
    "duration": 1052,
    "start_time": "2022-10-19T00:09:21.080Z"
   },
   {
    "duration": 650,
    "start_time": "2022-10-19T00:10:40.444Z"
   },
   {
    "duration": 394,
    "start_time": "2022-10-19T00:11:07.914Z"
   },
   {
    "duration": 601,
    "start_time": "2022-10-19T00:18:38.230Z"
   },
   {
    "duration": 85,
    "start_time": "2022-10-19T00:18:38.833Z"
   },
   {
    "duration": 29,
    "start_time": "2022-10-19T00:18:38.920Z"
   },
   {
    "duration": 28,
    "start_time": "2022-10-19T00:18:38.951Z"
   },
   {
    "duration": 1994,
    "start_time": "2022-10-19T00:18:38.981Z"
   },
   {
    "duration": 6,
    "start_time": "2022-10-19T00:18:40.977Z"
   },
   {
    "duration": 80,
    "start_time": "2022-10-19T00:18:40.985Z"
   },
   {
    "duration": 20,
    "start_time": "2022-10-19T00:18:41.067Z"
   },
   {
    "duration": 24,
    "start_time": "2022-10-19T00:18:41.089Z"
   },
   {
    "duration": 4,
    "start_time": "2022-10-19T00:18:41.116Z"
   },
   {
    "duration": 244,
    "start_time": "2022-10-19T00:18:41.122Z"
   },
   {
    "duration": 11,
    "start_time": "2022-10-19T00:18:41.368Z"
   },
   {
    "duration": 18,
    "start_time": "2022-10-19T00:18:41.382Z"
   },
   {
    "duration": 227,
    "start_time": "2022-10-19T00:18:41.402Z"
   },
   {
    "duration": 55,
    "start_time": "2022-10-19T00:18:41.631Z"
   },
   {
    "duration": 253,
    "start_time": "2022-10-19T00:18:41.700Z"
   },
   {
    "duration": 28,
    "start_time": "2022-10-19T00:18:41.954Z"
   },
   {
    "duration": 27,
    "start_time": "2022-10-19T00:18:41.984Z"
   },
   {
    "duration": 31,
    "start_time": "2022-10-19T00:18:42.013Z"
   },
   {
    "duration": 58,
    "start_time": "2022-10-19T00:18:42.046Z"
   },
   {
    "duration": 8,
    "start_time": "2022-10-19T00:18:42.106Z"
   },
   {
    "duration": 191,
    "start_time": "2022-10-19T00:18:42.116Z"
   },
   {
    "duration": 5,
    "start_time": "2022-10-19T00:18:42.309Z"
   },
   {
    "duration": 15,
    "start_time": "2022-10-19T00:18:42.316Z"
   },
   {
    "duration": 155,
    "start_time": "2022-10-19T00:18:42.333Z"
   },
   {
    "duration": 16,
    "start_time": "2022-10-19T00:18:42.490Z"
   },
   {
    "duration": 311,
    "start_time": "2022-10-19T00:18:42.507Z"
   },
   {
    "duration": 320,
    "start_time": "2022-10-19T00:18:42.822Z"
   },
   {
    "duration": 14,
    "start_time": "2022-10-19T00:18:43.144Z"
   },
   {
    "duration": 14,
    "start_time": "2022-10-19T00:18:43.160Z"
   },
   {
    "duration": 53,
    "start_time": "2022-10-19T00:18:43.175Z"
   },
   {
    "duration": 16,
    "start_time": "2022-10-19T00:18:43.229Z"
   },
   {
    "duration": 218,
    "start_time": "2022-10-19T00:18:43.246Z"
   },
   {
    "duration": 3,
    "start_time": "2022-10-19T00:18:43.466Z"
   },
   {
    "duration": 335,
    "start_time": "2022-10-19T00:18:43.471Z"
   },
   {
    "duration": 651,
    "start_time": "2022-10-19T00:18:43.808Z"
   },
   {
    "duration": 206,
    "start_time": "2022-10-19T00:18:44.461Z"
   },
   {
    "duration": 284,
    "start_time": "2022-10-19T00:18:44.668Z"
   },
   {
    "duration": 147,
    "start_time": "2022-10-19T00:18:44.953Z"
   },
   {
    "duration": 157,
    "start_time": "2022-10-19T00:18:45.102Z"
   },
   {
    "duration": 142,
    "start_time": "2022-10-19T00:18:45.261Z"
   },
   {
    "duration": 151,
    "start_time": "2022-10-19T00:18:45.405Z"
   },
   {
    "duration": 214,
    "start_time": "2022-10-19T00:18:45.558Z"
   },
   {
    "duration": 127,
    "start_time": "2022-10-19T00:18:45.774Z"
   },
   {
    "duration": 137,
    "start_time": "2022-10-19T00:18:45.902Z"
   },
   {
    "duration": 135,
    "start_time": "2022-10-19T00:18:46.041Z"
   },
   {
    "duration": 242,
    "start_time": "2022-10-19T00:18:46.177Z"
   },
   {
    "duration": 112,
    "start_time": "2022-10-19T00:18:46.421Z"
   },
   {
    "duration": 420,
    "start_time": "2022-10-19T00:18:46.534Z"
   },
   {
    "duration": 148,
    "start_time": "2022-10-19T00:18:46.955Z"
   },
   {
    "duration": 2,
    "start_time": "2022-10-19T00:18:47.105Z"
   },
   {
    "duration": 237,
    "start_time": "2022-10-19T00:18:47.108Z"
   },
   {
    "duration": 137,
    "start_time": "2022-10-19T00:18:47.346Z"
   },
   {
    "duration": 416,
    "start_time": "2022-10-19T00:18:47.485Z"
   },
   {
    "duration": 13,
    "start_time": "2022-10-19T00:18:47.903Z"
   },
   {
    "duration": 154,
    "start_time": "2022-10-19T00:18:47.917Z"
   },
   {
    "duration": 3,
    "start_time": "2022-10-19T00:18:48.073Z"
   },
   {
    "duration": 507,
    "start_time": "2022-10-19T00:18:48.078Z"
   },
   {
    "duration": 4822,
    "start_time": "2022-10-19T00:18:48.587Z"
   },
   {
    "duration": 609,
    "start_time": "2022-10-19T00:18:53.411Z"
   },
   {
    "duration": 1011,
    "start_time": "2022-10-19T00:18:54.022Z"
   }
  ],
  "kernelspec": {
   "display_name": "Python 3 (ipykernel)",
   "language": "python",
   "name": "python3"
  },
  "language_info": {
   "codemirror_mode": {
    "name": "ipython",
    "version": 3
   },
   "file_extension": ".py",
   "mimetype": "text/x-python",
   "name": "python",
   "nbconvert_exporter": "python",
   "pygments_lexer": "ipython3",
   "version": "3.9.12"
  },
  "toc": {
   "base_numbering": 1,
   "nav_menu": {},
   "number_sections": true,
   "sideBar": true,
   "skip_h1_title": true,
   "title_cell": "Table of Contents",
   "title_sidebar": "Contents",
   "toc_cell": false,
   "toc_position": {
    "height": "calc(100% - 180px)",
    "left": "10px",
    "top": "150px",
    "width": "278.545px"
   },
   "toc_section_display": true,
   "toc_window_display": true
  }
 },
 "nbformat": 4,
 "nbformat_minor": 2
}
